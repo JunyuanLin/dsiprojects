{
 "cells": [
  {
   "cell_type": "markdown",
   "metadata": {},
   "source": [
    "# Project 1: SAT & ACT Analysis"
   ]
  },
  {
   "cell_type": "markdown",
   "metadata": {},
   "source": [
    "The first markdown cell in a notebook is a great place to provide an overview of your entire project. You will likely want to at least state your\n",
    "\n",
    "## Problem Statement"
   ]
  },
  {
   "cell_type": "markdown",
   "metadata": {},
   "source": [
    "Define the problem you are finding answers for from the data given."
   ]
  },
  {
   "cell_type": "markdown",
   "metadata": {},
   "source": [
    "**What is the best state to invest money in to raise SAT participation rates?**"
   ]
  },
  {
   "cell_type": "markdown",
   "metadata": {},
   "source": [
    "## Executive Summary\n",
    "\n",
    "If you want to, it's great to use relative links to direct your audience to various sections of a notebook. **HERE'S A DEMONSTRATION WITH THE CURRENT SECTION HEADERS**:\n",
    "\n",
    "### Contents:\n",
    "- [2017 Data Import & Cleaning](#2017-Data-Import-and-Cleaning)\n",
    "- [2018 Data Import and Cleaning](#2018-Data-Import-and-Cleaning)\n",
    "- [Exploratory Data Analysis](#Exploratory-Data-Analysis)\n",
    "- [Data Visualization](#Visualize-the-data)\n",
    "- [Descriptive and Inferential Statistics](#Descriptive-and-Inferential-Statistics)\n",
    "- [Outside Research](#Outside-Research)\n",
    "- [Conclusions and Recommendations](#Conclusions-and-Recommendations)"
   ]
  },
  {
   "cell_type": "markdown",
   "metadata": {},
   "source": [
    "**If you combine your problem statement, executive summary, data dictionary, and conclusions/recommendations, you have an amazing README.md file that quickly aligns your audience to the contents of your project.** Don't forget to cite your data sources!"
   ]
  },
  {
   "cell_type": "markdown",
   "metadata": {},
   "source": [
    "*All libraries used should be added here*"
   ]
  },
  {
   "cell_type": "code",
   "execution_count": 254,
   "metadata": {},
   "outputs": [],
   "source": [
    "#Imports:\n",
    "import numpy as np\n",
    "import pandas as pd\n",
    "import matplotlib.pyplot as plt\n",
    "import seaborn as sns"
   ]
  },
  {
   "cell_type": "markdown",
   "metadata": {},
   "source": [
    "## 2017 Data Import and Cleaning"
   ]
  },
  {
   "cell_type": "markdown",
   "metadata": {},
   "source": [
    "#### 1. Read In SAT & ACT  Data\n",
    "\n",
    "Read in the `sat_2017.csv` and `act_2017.csv` files and assign them to appropriately named pandas dataframes."
   ]
  },
  {
   "cell_type": "code",
   "execution_count": 255,
   "metadata": {},
   "outputs": [],
   "source": [
    "def read_csv(csv_loc):\n",
    "    '''Function to read csv file for this project\n",
    "    csv_loc: Relative filepath to csv file\n",
    "    '''\n",
    "    raw_pd = ''\n",
    "    df = []\n",
    "    with open(csv_loc, 'r') as f:\n",
    "        raw_pd = f.read()\n",
    "    for line in raw_pd.split('\\n'):\n",
    "        df.append(line.split(','))\n",
    "    df = pd.DataFrame(df[1::],columns=df[0])\n",
    "    return df"
   ]
  },
  {
   "cell_type": "code",
   "execution_count": 256,
   "metadata": {},
   "outputs": [],
   "source": [
    "df_sat17 = read_csv('../data/sat_2017.csv')"
   ]
  },
  {
   "cell_type": "code",
   "execution_count": 257,
   "metadata": {},
   "outputs": [
    {
     "name": "stdout",
     "output_type": "stream",
     "text": [
      "<class 'pandas.core.frame.DataFrame'>\n",
      "RangeIndex: 52 entries, 0 to 51\n",
      "Data columns (total 5 columns):\n",
      " #   Column                              Non-Null Count  Dtype \n",
      "---  ------                              --------------  ----- \n",
      " 0   State                               52 non-null     object\n",
      " 1   Participation                       51 non-null     object\n",
      " 2   Evidence-Based Reading and Writing  51 non-null     object\n",
      " 3   Math                                51 non-null     object\n",
      " 4   Total                               51 non-null     object\n",
      "dtypes: object(5)\n",
      "memory usage: 2.2+ KB\n"
     ]
    }
   ],
   "source": [
    "df_sat17.info()"
   ]
  },
  {
   "cell_type": "code",
   "execution_count": 258,
   "metadata": {},
   "outputs": [],
   "source": [
    "df_act17 = read_csv('../data/act_2017.csv')"
   ]
  },
  {
   "cell_type": "code",
   "execution_count": 259,
   "metadata": {},
   "outputs": [
    {
     "name": "stdout",
     "output_type": "stream",
     "text": [
      "<class 'pandas.core.frame.DataFrame'>\n",
      "RangeIndex: 53 entries, 0 to 52\n",
      "Data columns (total 7 columns):\n",
      " #   Column         Non-Null Count  Dtype \n",
      "---  ------         --------------  ----- \n",
      " 0   State          53 non-null     object\n",
      " 1   Participation  52 non-null     object\n",
      " 2   English        52 non-null     object\n",
      " 3   Math           52 non-null     object\n",
      " 4   Reading        52 non-null     object\n",
      " 5   Science        52 non-null     object\n",
      " 6   Composite      52 non-null     object\n",
      "dtypes: object(7)\n",
      "memory usage: 3.0+ KB\n"
     ]
    }
   ],
   "source": [
    "df_act17.info()"
   ]
  },
  {
   "cell_type": "markdown",
   "metadata": {},
   "source": [
    "#### 2. Display Data\n",
    "\n",
    "Print the first 10 rows of each dataframe to your jupyter notebook"
   ]
  },
  {
   "cell_type": "code",
   "execution_count": 260,
   "metadata": {},
   "outputs": [
    {
     "data": {
      "text/html": [
       "<div>\n",
       "<style scoped>\n",
       "    .dataframe tbody tr th:only-of-type {\n",
       "        vertical-align: middle;\n",
       "    }\n",
       "\n",
       "    .dataframe tbody tr th {\n",
       "        vertical-align: top;\n",
       "    }\n",
       "\n",
       "    .dataframe thead th {\n",
       "        text-align: right;\n",
       "    }\n",
       "</style>\n",
       "<table border=\"1\" class=\"dataframe\">\n",
       "  <thead>\n",
       "    <tr style=\"text-align: right;\">\n",
       "      <th></th>\n",
       "      <th>State</th>\n",
       "      <th>Participation</th>\n",
       "      <th>Evidence-Based Reading and Writing</th>\n",
       "      <th>Math</th>\n",
       "      <th>Total</th>\n",
       "    </tr>\n",
       "  </thead>\n",
       "  <tbody>\n",
       "    <tr>\n",
       "      <th>0</th>\n",
       "      <td>Alabama</td>\n",
       "      <td>5%</td>\n",
       "      <td>593</td>\n",
       "      <td>572</td>\n",
       "      <td>1165</td>\n",
       "    </tr>\n",
       "    <tr>\n",
       "      <th>1</th>\n",
       "      <td>Alaska</td>\n",
       "      <td>38%</td>\n",
       "      <td>547</td>\n",
       "      <td>533</td>\n",
       "      <td>1080</td>\n",
       "    </tr>\n",
       "    <tr>\n",
       "      <th>2</th>\n",
       "      <td>Arizona</td>\n",
       "      <td>30%</td>\n",
       "      <td>563</td>\n",
       "      <td>553</td>\n",
       "      <td>1116</td>\n",
       "    </tr>\n",
       "    <tr>\n",
       "      <th>3</th>\n",
       "      <td>Arkansas</td>\n",
       "      <td>3%</td>\n",
       "      <td>614</td>\n",
       "      <td>594</td>\n",
       "      <td>1208</td>\n",
       "    </tr>\n",
       "    <tr>\n",
       "      <th>4</th>\n",
       "      <td>California</td>\n",
       "      <td>53%</td>\n",
       "      <td>531</td>\n",
       "      <td>524</td>\n",
       "      <td>1055</td>\n",
       "    </tr>\n",
       "    <tr>\n",
       "      <th>5</th>\n",
       "      <td>Colorado</td>\n",
       "      <td>11%</td>\n",
       "      <td>606</td>\n",
       "      <td>595</td>\n",
       "      <td>1201</td>\n",
       "    </tr>\n",
       "    <tr>\n",
       "      <th>6</th>\n",
       "      <td>Connecticut</td>\n",
       "      <td>100%</td>\n",
       "      <td>530</td>\n",
       "      <td>512</td>\n",
       "      <td>1041</td>\n",
       "    </tr>\n",
       "    <tr>\n",
       "      <th>7</th>\n",
       "      <td>Delaware</td>\n",
       "      <td>100%</td>\n",
       "      <td>503</td>\n",
       "      <td>492</td>\n",
       "      <td>996</td>\n",
       "    </tr>\n",
       "    <tr>\n",
       "      <th>8</th>\n",
       "      <td>District of Columbia</td>\n",
       "      <td>100%</td>\n",
       "      <td>482</td>\n",
       "      <td>468</td>\n",
       "      <td>950</td>\n",
       "    </tr>\n",
       "    <tr>\n",
       "      <th>9</th>\n",
       "      <td>Florida</td>\n",
       "      <td>83%</td>\n",
       "      <td>520</td>\n",
       "      <td>497</td>\n",
       "      <td>1017</td>\n",
       "    </tr>\n",
       "  </tbody>\n",
       "</table>\n",
       "</div>"
      ],
      "text/plain": [
       "                  State Participation Evidence-Based Reading and Writing Math  \\\n",
       "0               Alabama            5%                                593  572   \n",
       "1                Alaska           38%                                547  533   \n",
       "2               Arizona           30%                                563  553   \n",
       "3              Arkansas            3%                                614  594   \n",
       "4            California           53%                                531  524   \n",
       "5              Colorado           11%                                606  595   \n",
       "6           Connecticut          100%                                530  512   \n",
       "7              Delaware          100%                                503  492   \n",
       "8  District of Columbia          100%                                482  468   \n",
       "9               Florida           83%                                520  497   \n",
       "\n",
       "  Total  \n",
       "0  1165  \n",
       "1  1080  \n",
       "2  1116  \n",
       "3  1208  \n",
       "4  1055  \n",
       "5  1201  \n",
       "6  1041  \n",
       "7   996  \n",
       "8   950  \n",
       "9  1017  "
      ]
     },
     "execution_count": 260,
     "metadata": {},
     "output_type": "execute_result"
    }
   ],
   "source": [
    "df_sat17.head(10)"
   ]
  },
  {
   "cell_type": "code",
   "execution_count": 261,
   "metadata": {},
   "outputs": [
    {
     "data": {
      "text/html": [
       "<div>\n",
       "<style scoped>\n",
       "    .dataframe tbody tr th:only-of-type {\n",
       "        vertical-align: middle;\n",
       "    }\n",
       "\n",
       "    .dataframe tbody tr th {\n",
       "        vertical-align: top;\n",
       "    }\n",
       "\n",
       "    .dataframe thead th {\n",
       "        text-align: right;\n",
       "    }\n",
       "</style>\n",
       "<table border=\"1\" class=\"dataframe\">\n",
       "  <thead>\n",
       "    <tr style=\"text-align: right;\">\n",
       "      <th></th>\n",
       "      <th>State</th>\n",
       "      <th>Participation</th>\n",
       "      <th>English</th>\n",
       "      <th>Math</th>\n",
       "      <th>Reading</th>\n",
       "      <th>Science</th>\n",
       "      <th>Composite</th>\n",
       "    </tr>\n",
       "  </thead>\n",
       "  <tbody>\n",
       "    <tr>\n",
       "      <th>0</th>\n",
       "      <td>National</td>\n",
       "      <td>60%</td>\n",
       "      <td>20.3</td>\n",
       "      <td>20.7</td>\n",
       "      <td>21.4</td>\n",
       "      <td>21.0</td>\n",
       "      <td>21.0</td>\n",
       "    </tr>\n",
       "    <tr>\n",
       "      <th>1</th>\n",
       "      <td>Alabama</td>\n",
       "      <td>100%</td>\n",
       "      <td>18.9</td>\n",
       "      <td>18.4</td>\n",
       "      <td>19.7</td>\n",
       "      <td>19.4</td>\n",
       "      <td>19.2</td>\n",
       "    </tr>\n",
       "    <tr>\n",
       "      <th>2</th>\n",
       "      <td>Alaska</td>\n",
       "      <td>65%</td>\n",
       "      <td>18.7</td>\n",
       "      <td>19.8</td>\n",
       "      <td>20.4</td>\n",
       "      <td>19.9</td>\n",
       "      <td>19.8</td>\n",
       "    </tr>\n",
       "    <tr>\n",
       "      <th>3</th>\n",
       "      <td>Arizona</td>\n",
       "      <td>62%</td>\n",
       "      <td>18.6</td>\n",
       "      <td>19.8</td>\n",
       "      <td>20.1</td>\n",
       "      <td>19.8</td>\n",
       "      <td>19.7</td>\n",
       "    </tr>\n",
       "    <tr>\n",
       "      <th>4</th>\n",
       "      <td>Arkansas</td>\n",
       "      <td>100%</td>\n",
       "      <td>18.9</td>\n",
       "      <td>19.0</td>\n",
       "      <td>19.7</td>\n",
       "      <td>19.5</td>\n",
       "      <td>19.4</td>\n",
       "    </tr>\n",
       "    <tr>\n",
       "      <th>5</th>\n",
       "      <td>California</td>\n",
       "      <td>31%</td>\n",
       "      <td>22.5</td>\n",
       "      <td>22.7</td>\n",
       "      <td>23.1</td>\n",
       "      <td>22.2</td>\n",
       "      <td>22.8</td>\n",
       "    </tr>\n",
       "    <tr>\n",
       "      <th>6</th>\n",
       "      <td>Colorado</td>\n",
       "      <td>100%</td>\n",
       "      <td>20.1</td>\n",
       "      <td>20.3</td>\n",
       "      <td>21.2</td>\n",
       "      <td>20.9</td>\n",
       "      <td>20.8</td>\n",
       "    </tr>\n",
       "    <tr>\n",
       "      <th>7</th>\n",
       "      <td>Connecticut</td>\n",
       "      <td>31%</td>\n",
       "      <td>25.5</td>\n",
       "      <td>24.6</td>\n",
       "      <td>25.6</td>\n",
       "      <td>24.6</td>\n",
       "      <td>25.2</td>\n",
       "    </tr>\n",
       "    <tr>\n",
       "      <th>8</th>\n",
       "      <td>Delaware</td>\n",
       "      <td>18%</td>\n",
       "      <td>24.1</td>\n",
       "      <td>23.4</td>\n",
       "      <td>24.8</td>\n",
       "      <td>23.6</td>\n",
       "      <td>24.1</td>\n",
       "    </tr>\n",
       "    <tr>\n",
       "      <th>9</th>\n",
       "      <td>District of Columbia</td>\n",
       "      <td>32%</td>\n",
       "      <td>24.4</td>\n",
       "      <td>23.5</td>\n",
       "      <td>24.9</td>\n",
       "      <td>23.5</td>\n",
       "      <td>24.2</td>\n",
       "    </tr>\n",
       "  </tbody>\n",
       "</table>\n",
       "</div>"
      ],
      "text/plain": [
       "                  State Participation English  Math Reading Science Composite\n",
       "0              National           60%    20.3  20.7    21.4    21.0      21.0\n",
       "1               Alabama          100%    18.9  18.4    19.7    19.4      19.2\n",
       "2                Alaska           65%    18.7  19.8    20.4    19.9      19.8\n",
       "3               Arizona           62%    18.6  19.8    20.1    19.8      19.7\n",
       "4              Arkansas          100%    18.9  19.0    19.7    19.5      19.4\n",
       "5            California           31%    22.5  22.7    23.1    22.2      22.8\n",
       "6              Colorado          100%    20.1  20.3    21.2    20.9      20.8\n",
       "7           Connecticut           31%    25.5  24.6    25.6    24.6      25.2\n",
       "8              Delaware           18%    24.1  23.4    24.8    23.6      24.1\n",
       "9  District of Columbia           32%    24.4  23.5    24.9    23.5      24.2"
      ]
     },
     "execution_count": 261,
     "metadata": {},
     "output_type": "execute_result"
    }
   ],
   "source": [
    "df_act17.head(10)"
   ]
  },
  {
   "cell_type": "markdown",
   "metadata": {},
   "source": [
    "#### 3. Verbally Describe Data\n",
    "\n",
    "Take your time looking through the data and thoroughly describe the data in the markdown cell below. "
   ]
  },
  {
   "cell_type": "markdown",
   "metadata": {},
   "source": [
    "###### Answer:\n",
    "\n",
    "The dataframes tabulates each state's participation rate and average performance in each field. \n",
    "\n",
    "SAT tracks two fields: 1: Evidence-Based Reading and Writing and 2: Math. \n",
    "\n",
    "ACT tracks four fields, English, Math, Reading and Science. \n",
    "\n",
    "Both original sources also provides the National average for each test, but these will not be required for our analysis."
   ]
  },
  {
   "cell_type": "markdown",
   "metadata": {},
   "source": [
    "#### 4a. Does the data look complete? "
   ]
  },
  {
   "cell_type": "markdown",
   "metadata": {},
   "source": [
    "###### Answer: \n",
    "\n",
    "No. The SAT imported data had one additional row, which is empty.\n",
    "\n",
    "The ACT imported data also has one additional empty row, which needs to be removed. \n",
    "\n",
    "It also has one additional row which included the 'National' average.\n",
    "\n",
    "Also, there is a wrong entry for the 'Composite' column for Wyoming. The value is '20.2x' rather than all numbers."
   ]
  },
  {
   "cell_type": "markdown",
   "metadata": {},
   "source": [
    "#### 4b. Are there any obvious issues with the observations?\n",
    "\n",
    "**What is the minimum *possible* value for each test/subtest? What is the maximum *possible* value?**\n",
    "\n",
    "Consider comparing any questionable values to the sources of your data:\n",
    "- [SAT](https://blog.collegevine.com/here-are-the-average-sat-scores-by-state/)\n",
    "- [ACT](https://blog.prepscholar.com/act-scores-by-state-averages-highs-and-lows)"
   ]
  },
  {
   "cell_type": "code",
   "execution_count": 262,
   "metadata": {},
   "outputs": [
    {
     "data": {
      "text/html": [
       "<div>\n",
       "<style scoped>\n",
       "    .dataframe tbody tr th:only-of-type {\n",
       "        vertical-align: middle;\n",
       "    }\n",
       "\n",
       "    .dataframe tbody tr th {\n",
       "        vertical-align: top;\n",
       "    }\n",
       "\n",
       "    .dataframe thead th {\n",
       "        text-align: right;\n",
       "    }\n",
       "</style>\n",
       "<table border=\"1\" class=\"dataframe\">\n",
       "  <thead>\n",
       "    <tr style=\"text-align: right;\">\n",
       "      <th></th>\n",
       "      <th>State</th>\n",
       "      <th>Participation</th>\n",
       "      <th>Evidence-Based Reading and Writing</th>\n",
       "      <th>Math</th>\n",
       "      <th>Total</th>\n",
       "    </tr>\n",
       "  </thead>\n",
       "  <tbody>\n",
       "    <tr>\n",
       "      <th>20</th>\n",
       "      <td>Maryland</td>\n",
       "      <td>69%</td>\n",
       "      <td>536</td>\n",
       "      <td>52</td>\n",
       "      <td>1060</td>\n",
       "    </tr>\n",
       "  </tbody>\n",
       "</table>\n",
       "</div>"
      ],
      "text/plain": [
       "       State Participation Evidence-Based Reading and Writing Math Total\n",
       "20  Maryland           69%                                536   52  1060"
      ]
     },
     "execution_count": 262,
     "metadata": {},
     "output_type": "execute_result"
    }
   ],
   "source": [
    "df_sat17[df_sat17['State'] == 'Maryland']"
   ]
  },
  {
   "cell_type": "code",
   "execution_count": 263,
   "metadata": {},
   "outputs": [
    {
     "data": {
      "text/html": [
       "<div>\n",
       "<style scoped>\n",
       "    .dataframe tbody tr th:only-of-type {\n",
       "        vertical-align: middle;\n",
       "    }\n",
       "\n",
       "    .dataframe tbody tr th {\n",
       "        vertical-align: top;\n",
       "    }\n",
       "\n",
       "    .dataframe thead th {\n",
       "        text-align: right;\n",
       "    }\n",
       "</style>\n",
       "<table border=\"1\" class=\"dataframe\">\n",
       "  <thead>\n",
       "    <tr style=\"text-align: right;\">\n",
       "      <th></th>\n",
       "      <th>State</th>\n",
       "      <th>Participation</th>\n",
       "      <th>English</th>\n",
       "      <th>Math</th>\n",
       "      <th>Reading</th>\n",
       "      <th>Science</th>\n",
       "      <th>Composite</th>\n",
       "    </tr>\n",
       "  </thead>\n",
       "  <tbody>\n",
       "    <tr>\n",
       "      <th>21</th>\n",
       "      <td>Maryland</td>\n",
       "      <td>28%</td>\n",
       "      <td>23.3</td>\n",
       "      <td>23.1</td>\n",
       "      <td>24.2</td>\n",
       "      <td>2.3</td>\n",
       "      <td>23.6</td>\n",
       "    </tr>\n",
       "  </tbody>\n",
       "</table>\n",
       "</div>"
      ],
      "text/plain": [
       "       State Participation English  Math Reading Science Composite\n",
       "21  Maryland           28%    23.3  23.1    24.2     2.3      23.6"
      ]
     },
     "execution_count": 263,
     "metadata": {},
     "output_type": "execute_result"
    }
   ],
   "source": [
    "df_act17[df_act17['State'] == 'Maryland']"
   ]
  },
  {
   "cell_type": "markdown",
   "metadata": {},
   "source": [
    "###### Answer:\n",
    "\n",
    "The entries for Maryland in the both the SAT and ACT imported data are wrong.\n",
    "For the SAT scores, the values are typically in the range of 500. However, the entry is 52. \n",
    "\n",
    "For the ACT scores, the values are typically in the range of 20. \n",
    "The entry is 2.3.\n"
   ]
  },
  {
   "cell_type": "markdown",
   "metadata": {},
   "source": [
    "#### 4c. Fix any errors you identified\n",
    "\n",
    "**The data is available** so there's no need to guess or calculate anything. If you didn't find any errors, continue to the next step."
   ]
  },
  {
   "cell_type": "code",
   "execution_count": 264,
   "metadata": {},
   "outputs": [],
   "source": [
    "# Set Maryland's average Math score in SAT 17 dataframe to the correct value\n",
    "df_sat17.loc[df_sat17['State'] == 'Maryland','Math'] = '524'"
   ]
  },
  {
   "cell_type": "code",
   "execution_count": 265,
   "metadata": {},
   "outputs": [],
   "source": [
    "# Set Maryland's average Science score in ACT 17 dataframe to the correct value\n",
    "df_act17.loc[df_act17['State'] == 'Maryland', 'Science'] = '23.2'"
   ]
  },
  {
   "cell_type": "code",
   "execution_count": 266,
   "metadata": {},
   "outputs": [],
   "source": [
    "# Remove additional empty row in SAT 17 dataframe\n",
    "df_sat17 = df_sat17[df_sat17['State']!='']"
   ]
  },
  {
   "cell_type": "code",
   "execution_count": 267,
   "metadata": {},
   "outputs": [],
   "source": [
    "# Remove additional 'State' and empty rows in ACT 17 dataframe\n",
    "df_act17 = df_act17[(df_act17['State']!='') & (df_act17['State']!='National')]"
   ]
  },
  {
   "cell_type": "markdown",
   "metadata": {},
   "source": [
    "#### 5. What are your data types? \n",
    "Display the data types of each feature. "
   ]
  },
  {
   "cell_type": "code",
   "execution_count": 268,
   "metadata": {},
   "outputs": [
    {
     "data": {
      "text/plain": [
       "State                                 object\n",
       "Participation                         object\n",
       "Evidence-Based Reading and Writing    object\n",
       "Math                                  object\n",
       "Total                                 object\n",
       "dtype: object"
      ]
     },
     "execution_count": 268,
     "metadata": {},
     "output_type": "execute_result"
    }
   ],
   "source": [
    "df_sat17.dtypes"
   ]
  },
  {
   "cell_type": "code",
   "execution_count": 269,
   "metadata": {},
   "outputs": [
    {
     "data": {
      "text/plain": [
       "State            object\n",
       "Participation    object\n",
       "English          object\n",
       "Math             object\n",
       "Reading          object\n",
       "Science          object\n",
       "Composite        object\n",
       "dtype: object"
      ]
     },
     "execution_count": 269,
     "metadata": {},
     "output_type": "execute_result"
    }
   ],
   "source": [
    "df_act17.dtypes"
   ]
  },
  {
   "cell_type": "markdown",
   "metadata": {},
   "source": [
    "What did you learn?\n",
    "- Do any of them seem odd?  \n",
    "- Which ones are not as they should be?  "
   ]
  },
  {
   "cell_type": "markdown",
   "metadata": {},
   "source": [
    "###### Answer:\n",
    "\n",
    "All the data types have `object` Dtype. \n",
    "\n",
    "Other than the 'State' column, the rest should be typecast to `float` for easier data manipulation and calculation."
   ]
  },
  {
   "cell_type": "markdown",
   "metadata": {},
   "source": [
    "#### 6. Fix Incorrect Data Types\n",
    "Based on what you discovered above, use appropriate methods to re-type incorrectly typed data.\n",
    "- Define a function that will allow you to convert participation rates to an appropriate numeric type. Use `map` or `apply` to change these columns in each dataframe."
   ]
  },
  {
   "cell_type": "code",
   "execution_count": 270,
   "metadata": {},
   "outputs": [],
   "source": [
    "# Function to convert Participation rate from string to float\n",
    "def pc_to_float(df):\n",
    "    '''Function to convert Participation rate data to float\n",
    "        df : dataframe\n",
    "    '''\n",
    "    return df['Participation'].apply(lambda x : float(x.replace('%','')))"
   ]
  },
  {
   "cell_type": "code",
   "execution_count": 271,
   "metadata": {},
   "outputs": [],
   "source": [
    "df_sat17['Participation'] = pc_to_float(df_sat17)"
   ]
  },
  {
   "cell_type": "code",
   "execution_count": 272,
   "metadata": {},
   "outputs": [],
   "source": [
    "df_act17['Participation'] = pc_to_float(df_act17)"
   ]
  },
  {
   "cell_type": "markdown",
   "metadata": {},
   "source": [
    "- Fix any individual values preventing other columns from being the appropriate type."
   ]
  },
  {
   "cell_type": "code",
   "execution_count": 273,
   "metadata": {},
   "outputs": [],
   "source": [
    "# Set the correct value for Wyoming's average Composite score\n",
    "df_act17.loc[df_act17['State']=='Wyoming','Composite'] = '20.2'"
   ]
  },
  {
   "cell_type": "markdown",
   "metadata": {},
   "source": [
    "- Finish your data modifications by making sure the columns are now typed appropriately."
   ]
  },
  {
   "cell_type": "code",
   "execution_count": 274,
   "metadata": {},
   "outputs": [],
   "source": [
    "for col in df_sat17.columns[2::]:\n",
    "    df_sat17[col] = df_sat17[col].astype(float)"
   ]
  },
  {
   "cell_type": "code",
   "execution_count": 275,
   "metadata": {},
   "outputs": [],
   "source": [
    "for col in df_act17.columns[2::]:\n",
    "    df_act17[col] = df_act17[col].astype(float)"
   ]
  },
  {
   "cell_type": "markdown",
   "metadata": {},
   "source": [
    "- Display the data types again to confirm they are correct."
   ]
  },
  {
   "cell_type": "code",
   "execution_count": 276,
   "metadata": {},
   "outputs": [
    {
     "data": {
      "text/plain": [
       "State                                  object\n",
       "Participation                         float64\n",
       "Evidence-Based Reading and Writing    float64\n",
       "Math                                  float64\n",
       "Total                                 float64\n",
       "dtype: object"
      ]
     },
     "execution_count": 276,
     "metadata": {},
     "output_type": "execute_result"
    }
   ],
   "source": [
    "df_sat17.dtypes"
   ]
  },
  {
   "cell_type": "code",
   "execution_count": 277,
   "metadata": {},
   "outputs": [
    {
     "data": {
      "text/plain": [
       "State             object\n",
       "Participation    float64\n",
       "English          float64\n",
       "Math             float64\n",
       "Reading          float64\n",
       "Science          float64\n",
       "Composite        float64\n",
       "dtype: object"
      ]
     },
     "execution_count": 277,
     "metadata": {},
     "output_type": "execute_result"
    }
   ],
   "source": [
    "df_act17.dtypes"
   ]
  },
  {
   "cell_type": "markdown",
   "metadata": {},
   "source": [
    "#### 7. Rename Columns\n",
    "Change the names of the columns to more expressive names so that you can tell the difference the SAT columns and the ACT columns. Your solution should map all column names being changed at once (no repeated singular name-changes). **We will be combining these data with some of the data from 2018, and so you should name columns in an appropriate way**.\n",
    "\n",
    "**Guidelines**:\n",
    "- Column names should be all lowercase (you will thank yourself when you start pushing data to SQL later in the course)\n",
    "- Column names should not contain spaces (underscores will suffice--this allows for using the `df.column_name` method to access columns in addition to `df['column_name']`.\n",
    "- Column names should be unique and informative (the only feature that we actually share between dataframes is the state)."
   ]
  },
  {
   "cell_type": "code",
   "execution_count": 278,
   "metadata": {},
   "outputs": [],
   "source": [
    "df_sat17.rename(columns={\n",
    "    'State' : 'state',\n",
    "    'Participation' : 'sat17_partn',\n",
    "    'Evidence-Based Reading and Writing' : 'sat17_erw',\n",
    "    'Math' : 'sat17_math',\n",
    "    'Total' : 'sat17_total'\n",
    "}, inplace=True)"
   ]
  },
  {
   "cell_type": "code",
   "execution_count": 279,
   "metadata": {},
   "outputs": [],
   "source": [
    "df_act17.rename(columns={\n",
    "    'State' : 'state',\n",
    "    'Participation' : 'act17_partn',\n",
    "    'English' : 'act17_eng',\n",
    "    'Math' : 'act17_math',\n",
    "    'Reading' : 'act17_rdg',\n",
    "    'Science' : 'act17_sci',\n",
    "    'Composite' : 'act17_comp'\n",
    "}, inplace=True)"
   ]
  },
  {
   "cell_type": "markdown",
   "metadata": {},
   "source": [
    "#### 8. Create a data dictionary\n",
    "\n",
    "Now that we've fixed our data, and given it appropriate names, let's create a [data dictionary](http://library.ucmerced.edu/node/10249). \n",
    "\n",
    "A data dictionary provides a quick overview of features/variables/columns, alongside data types and descriptions. The more descriptive you can be, the more useful this document is.\n",
    "\n",
    "Example of a Fictional Data Dictionary Entry: \n",
    "\n",
    "|Feature|Type|Dataset|Description|\n",
    "|---|---|---|---|\n",
    "|**county_pop**|*integer*|2010 census|The population of the county (units in thousands, where 2.5 represents 2500 people).| \n",
    "|**per_poverty**|*float*|2010 census|The percent of the county over the age of 18 living below the 200% of official US poverty rate (units percent to two decimal places 98.10 means 98.1%)|\n",
    "\n",
    "[Here's a quick link to a short guide for formatting markdown in Jupyter notebooks](https://jupyter-notebook.readthedocs.io/en/stable/examples/Notebook/Working%20With%20Markdown%20Cells.html).\n",
    "\n",
    "Provided is the skeleton for formatting a markdown table, with columns headers that will help you create a data dictionary to quickly summarize your data, as well as some examples. **This would be a great thing to copy and paste into your custom README for this project.**"
   ]
  },
  {
   "cell_type": "markdown",
   "metadata": {},
   "source": [
    "|Feature|Type|Dataset|Description|\n",
    "|---|---|---|---|\n",
    "|state|object|All datasets|The state in USA| \n",
    "|sat17_partn|float|SAT 2017|The SAT participation rate (units percent to one decimal place 5.0 means 5.0%)|\n",
    "|sat17_erw|float|SAT 2017|The state average Evidence Based Reading and Writing score|\n",
    "|sat17_math|float|SAT 2017|The state average Math score|\n",
    "|sat17_total|float|SAT 2017|The state average Total score|\n",
    "|act17_partn|float|ACT 2017|The ACT participation rate (units percent to one decimal place 5.0 means 5.0%)|\n",
    "|act17_eng|float|ACT 2017|The state average English score|\n",
    "|act17_math|float|ACT 2017|The state average Math score|\n",
    "|act17_rdg|float|ACT 2017|The state average Reading score|\n",
    "|act17_sci|float|ACT 2017|The state average Science score|\n",
    "|act17_comp|float|ACT 2017|The state average Composite score|"
   ]
  },
  {
   "cell_type": "markdown",
   "metadata": {},
   "source": [
    "#### 9. Drop unnecessary rows\n",
    "\n",
    "One of our dataframes contains an extra row. Identify and remove this from the dataframe."
   ]
  },
  {
   "cell_type": "markdown",
   "metadata": {},
   "source": [
    "*Performed in one of the earlier steps*"
   ]
  },
  {
   "cell_type": "markdown",
   "metadata": {},
   "source": [
    "#### 10. Merge Dataframes\n",
    "\n",
    "Join the 2017 ACT and SAT dataframes using the state in each dataframe as the key. Assign this to a new variable."
   ]
  },
  {
   "cell_type": "code",
   "execution_count": 280,
   "metadata": {},
   "outputs": [],
   "source": [
    "df_combined17 = pd.merge(df_sat17, df_act17, how='left')"
   ]
  },
  {
   "cell_type": "code",
   "execution_count": 281,
   "metadata": {},
   "outputs": [
    {
     "data": {
      "text/html": [
       "<div>\n",
       "<style scoped>\n",
       "    .dataframe tbody tr th:only-of-type {\n",
       "        vertical-align: middle;\n",
       "    }\n",
       "\n",
       "    .dataframe tbody tr th {\n",
       "        vertical-align: top;\n",
       "    }\n",
       "\n",
       "    .dataframe thead th {\n",
       "        text-align: right;\n",
       "    }\n",
       "</style>\n",
       "<table border=\"1\" class=\"dataframe\">\n",
       "  <thead>\n",
       "    <tr style=\"text-align: right;\">\n",
       "      <th></th>\n",
       "      <th>state</th>\n",
       "      <th>sat17_partn</th>\n",
       "      <th>sat17_erw</th>\n",
       "      <th>sat17_math</th>\n",
       "      <th>sat17_total</th>\n",
       "      <th>act17_partn</th>\n",
       "      <th>act17_eng</th>\n",
       "      <th>act17_math</th>\n",
       "      <th>act17_rdg</th>\n",
       "      <th>act17_sci</th>\n",
       "      <th>act17_comp</th>\n",
       "    </tr>\n",
       "  </thead>\n",
       "  <tbody>\n",
       "    <tr>\n",
       "      <th>0</th>\n",
       "      <td>Alabama</td>\n",
       "      <td>5.0</td>\n",
       "      <td>593.0</td>\n",
       "      <td>572.0</td>\n",
       "      <td>1165.0</td>\n",
       "      <td>100.0</td>\n",
       "      <td>18.9</td>\n",
       "      <td>18.4</td>\n",
       "      <td>19.7</td>\n",
       "      <td>19.4</td>\n",
       "      <td>19.2</td>\n",
       "    </tr>\n",
       "    <tr>\n",
       "      <th>1</th>\n",
       "      <td>Alaska</td>\n",
       "      <td>38.0</td>\n",
       "      <td>547.0</td>\n",
       "      <td>533.0</td>\n",
       "      <td>1080.0</td>\n",
       "      <td>65.0</td>\n",
       "      <td>18.7</td>\n",
       "      <td>19.8</td>\n",
       "      <td>20.4</td>\n",
       "      <td>19.9</td>\n",
       "      <td>19.8</td>\n",
       "    </tr>\n",
       "    <tr>\n",
       "      <th>2</th>\n",
       "      <td>Arizona</td>\n",
       "      <td>30.0</td>\n",
       "      <td>563.0</td>\n",
       "      <td>553.0</td>\n",
       "      <td>1116.0</td>\n",
       "      <td>62.0</td>\n",
       "      <td>18.6</td>\n",
       "      <td>19.8</td>\n",
       "      <td>20.1</td>\n",
       "      <td>19.8</td>\n",
       "      <td>19.7</td>\n",
       "    </tr>\n",
       "    <tr>\n",
       "      <th>3</th>\n",
       "      <td>Arkansas</td>\n",
       "      <td>3.0</td>\n",
       "      <td>614.0</td>\n",
       "      <td>594.0</td>\n",
       "      <td>1208.0</td>\n",
       "      <td>100.0</td>\n",
       "      <td>18.9</td>\n",
       "      <td>19.0</td>\n",
       "      <td>19.7</td>\n",
       "      <td>19.5</td>\n",
       "      <td>19.4</td>\n",
       "    </tr>\n",
       "    <tr>\n",
       "      <th>4</th>\n",
       "      <td>California</td>\n",
       "      <td>53.0</td>\n",
       "      <td>531.0</td>\n",
       "      <td>524.0</td>\n",
       "      <td>1055.0</td>\n",
       "      <td>31.0</td>\n",
       "      <td>22.5</td>\n",
       "      <td>22.7</td>\n",
       "      <td>23.1</td>\n",
       "      <td>22.2</td>\n",
       "      <td>22.8</td>\n",
       "    </tr>\n",
       "  </tbody>\n",
       "</table>\n",
       "</div>"
      ],
      "text/plain": [
       "        state  sat17_partn  sat17_erw  sat17_math  sat17_total  act17_partn  \\\n",
       "0     Alabama          5.0      593.0       572.0       1165.0        100.0   \n",
       "1      Alaska         38.0      547.0       533.0       1080.0         65.0   \n",
       "2     Arizona         30.0      563.0       553.0       1116.0         62.0   \n",
       "3    Arkansas          3.0      614.0       594.0       1208.0        100.0   \n",
       "4  California         53.0      531.0       524.0       1055.0         31.0   \n",
       "\n",
       "   act17_eng  act17_math  act17_rdg  act17_sci  act17_comp  \n",
       "0       18.9        18.4       19.7       19.4        19.2  \n",
       "1       18.7        19.8       20.4       19.9        19.8  \n",
       "2       18.6        19.8       20.1       19.8        19.7  \n",
       "3       18.9        19.0       19.7       19.5        19.4  \n",
       "4       22.5        22.7       23.1       22.2        22.8  "
      ]
     },
     "execution_count": 281,
     "metadata": {},
     "output_type": "execute_result"
    }
   ],
   "source": [
    "df_combined17.head()"
   ]
  },
  {
   "cell_type": "markdown",
   "metadata": {},
   "source": [
    "#### 11. Save your cleaned, merged dataframe\n",
    "\n",
    "Use a relative path to save out your data as `combined_2017.csv`."
   ]
  },
  {
   "cell_type": "code",
   "execution_count": 282,
   "metadata": {},
   "outputs": [],
   "source": [
    "df_combined17.to_csv('../data/combined_2017.csv',index=False)"
   ]
  },
  {
   "cell_type": "markdown",
   "metadata": {},
   "source": [
    "## 2018 Data Import and Cleaning"
   ]
  },
  {
   "cell_type": "markdown",
   "metadata": {},
   "source": [
    "Links to the 2018 ACT and SAT data are provided in the README. These data live in PDFs, and so you'll get to enjoy practicing some *manual* data collection. Save these data as a CSV in your `data` directory, and import, explore, and clean these data in the same way you did above. **Make sure you comment on your steps so it is clear *why* you are doing each process**."
   ]
  },
  {
   "cell_type": "code",
   "execution_count": 283,
   "metadata": {},
   "outputs": [],
   "source": [
    "# Read csv file\n",
    "df_sat18 = pd.read_csv('../data/sat_2018.csv')"
   ]
  },
  {
   "cell_type": "code",
   "execution_count": 284,
   "metadata": {},
   "outputs": [
    {
     "data": {
      "text/html": [
       "<div>\n",
       "<style scoped>\n",
       "    .dataframe tbody tr th:only-of-type {\n",
       "        vertical-align: middle;\n",
       "    }\n",
       "\n",
       "    .dataframe tbody tr th {\n",
       "        vertical-align: top;\n",
       "    }\n",
       "\n",
       "    .dataframe thead th {\n",
       "        text-align: right;\n",
       "    }\n",
       "</style>\n",
       "<table border=\"1\" class=\"dataframe\">\n",
       "  <thead>\n",
       "    <tr style=\"text-align: right;\">\n",
       "      <th></th>\n",
       "      <th>State</th>\n",
       "      <th>Participation</th>\n",
       "      <th>Evidence-Based Reading and Writing</th>\n",
       "      <th>Math</th>\n",
       "      <th>Total</th>\n",
       "    </tr>\n",
       "  </thead>\n",
       "  <tbody>\n",
       "    <tr>\n",
       "      <th>0</th>\n",
       "      <td>Alabama</td>\n",
       "      <td>6%</td>\n",
       "      <td>595</td>\n",
       "      <td>571</td>\n",
       "      <td>1166</td>\n",
       "    </tr>\n",
       "    <tr>\n",
       "      <th>1</th>\n",
       "      <td>Alaska</td>\n",
       "      <td>43%</td>\n",
       "      <td>562</td>\n",
       "      <td>544</td>\n",
       "      <td>1106</td>\n",
       "    </tr>\n",
       "    <tr>\n",
       "      <th>2</th>\n",
       "      <td>Arizona</td>\n",
       "      <td>29%</td>\n",
       "      <td>577</td>\n",
       "      <td>572</td>\n",
       "      <td>1149</td>\n",
       "    </tr>\n",
       "    <tr>\n",
       "      <th>3</th>\n",
       "      <td>Arkansas</td>\n",
       "      <td>5%</td>\n",
       "      <td>592</td>\n",
       "      <td>576</td>\n",
       "      <td>1169</td>\n",
       "    </tr>\n",
       "    <tr>\n",
       "      <th>4</th>\n",
       "      <td>California</td>\n",
       "      <td>60%</td>\n",
       "      <td>540</td>\n",
       "      <td>536</td>\n",
       "      <td>1076</td>\n",
       "    </tr>\n",
       "  </tbody>\n",
       "</table>\n",
       "</div>"
      ],
      "text/plain": [
       "        State Participation  Evidence-Based Reading and Writing  Math  Total\n",
       "0     Alabama            6%                                 595   571   1166\n",
       "1      Alaska           43%                                 562   544   1106\n",
       "2     Arizona           29%                                 577   572   1149\n",
       "3    Arkansas            5%                                 592   576   1169\n",
       "4  California           60%                                 540   536   1076"
      ]
     },
     "execution_count": 284,
     "metadata": {},
     "output_type": "execute_result"
    }
   ],
   "source": [
    "# Preview SAT 2018 data\n",
    "df_sat18.head()"
   ]
  },
  {
   "cell_type": "code",
   "execution_count": 285,
   "metadata": {},
   "outputs": [
    {
     "name": "stdout",
     "output_type": "stream",
     "text": [
      "<class 'pandas.core.frame.DataFrame'>\n",
      "RangeIndex: 51 entries, 0 to 50\n",
      "Data columns (total 5 columns):\n",
      " #   Column                              Non-Null Count  Dtype \n",
      "---  ------                              --------------  ----- \n",
      " 0   State                               51 non-null     object\n",
      " 1   Participation                       51 non-null     object\n",
      " 2   Evidence-Based Reading and Writing  51 non-null     int64 \n",
      " 3   Math                                51 non-null     int64 \n",
      " 4   Total                               51 non-null     int64 \n",
      "dtypes: int64(3), object(2)\n",
      "memory usage: 2.1+ KB\n"
     ]
    }
   ],
   "source": [
    "# Check SAT 2018 data's Dtypes of each column and total number of entries\n",
    "df_sat18.info()"
   ]
  },
  {
   "cell_type": "code",
   "execution_count": 286,
   "metadata": {},
   "outputs": [],
   "source": [
    "# Convert 'Participation' Dtype from string to float\n",
    "df_sat18['Participation'] = pc_to_float(df_sat18)"
   ]
  },
  {
   "cell_type": "code",
   "execution_count": 287,
   "metadata": {},
   "outputs": [],
   "source": [
    "# Convert other column Dtype from int to float\n",
    "for col in df_sat18.columns[2::]:\n",
    "    df_sat18[col] = df_sat18[col].astype(float)"
   ]
  },
  {
   "cell_type": "code",
   "execution_count": 288,
   "metadata": {},
   "outputs": [],
   "source": [
    "# Rename columns in line with naming convention\n",
    "df_sat18.rename(columns={\n",
    "    'State' : 'state',\n",
    "    'Participation' : 'sat18_partn',\n",
    "    'Evidence-Based Reading and Writing' : 'sat18_erw',\n",
    "    'Math' : 'sat18_math',\n",
    "    'Total' : 'sat18_total'\n",
    "}, inplace=True)"
   ]
  },
  {
   "cell_type": "code",
   "execution_count": 289,
   "metadata": {},
   "outputs": [
    {
     "data": {
      "text/html": [
       "<div>\n",
       "<style scoped>\n",
       "    .dataframe tbody tr th:only-of-type {\n",
       "        vertical-align: middle;\n",
       "    }\n",
       "\n",
       "    .dataframe tbody tr th {\n",
       "        vertical-align: top;\n",
       "    }\n",
       "\n",
       "    .dataframe thead th {\n",
       "        text-align: right;\n",
       "    }\n",
       "</style>\n",
       "<table border=\"1\" class=\"dataframe\">\n",
       "  <thead>\n",
       "    <tr style=\"text-align: right;\">\n",
       "      <th></th>\n",
       "      <th>sat18_partn</th>\n",
       "      <th>sat18_erw</th>\n",
       "      <th>sat18_math</th>\n",
       "      <th>sat18_total</th>\n",
       "    </tr>\n",
       "  </thead>\n",
       "  <tbody>\n",
       "    <tr>\n",
       "      <th>count</th>\n",
       "      <td>51.000000</td>\n",
       "      <td>51.000000</td>\n",
       "      <td>51.000000</td>\n",
       "      <td>51.000000</td>\n",
       "    </tr>\n",
       "    <tr>\n",
       "      <th>mean</th>\n",
       "      <td>45.745098</td>\n",
       "      <td>563.686275</td>\n",
       "      <td>556.235294</td>\n",
       "      <td>1120.019608</td>\n",
       "    </tr>\n",
       "    <tr>\n",
       "      <th>std</th>\n",
       "      <td>37.314256</td>\n",
       "      <td>47.502627</td>\n",
       "      <td>47.772623</td>\n",
       "      <td>94.155083</td>\n",
       "    </tr>\n",
       "    <tr>\n",
       "      <th>min</th>\n",
       "      <td>2.000000</td>\n",
       "      <td>480.000000</td>\n",
       "      <td>480.000000</td>\n",
       "      <td>977.000000</td>\n",
       "    </tr>\n",
       "    <tr>\n",
       "      <th>25%</th>\n",
       "      <td>4.500000</td>\n",
       "      <td>534.500000</td>\n",
       "      <td>522.500000</td>\n",
       "      <td>1057.500000</td>\n",
       "    </tr>\n",
       "    <tr>\n",
       "      <th>50%</th>\n",
       "      <td>52.000000</td>\n",
       "      <td>552.000000</td>\n",
       "      <td>544.000000</td>\n",
       "      <td>1098.000000</td>\n",
       "    </tr>\n",
       "    <tr>\n",
       "      <th>75%</th>\n",
       "      <td>77.500000</td>\n",
       "      <td>610.500000</td>\n",
       "      <td>593.500000</td>\n",
       "      <td>1204.000000</td>\n",
       "    </tr>\n",
       "    <tr>\n",
       "      <th>max</th>\n",
       "      <td>100.000000</td>\n",
       "      <td>643.000000</td>\n",
       "      <td>655.000000</td>\n",
       "      <td>1298.000000</td>\n",
       "    </tr>\n",
       "  </tbody>\n",
       "</table>\n",
       "</div>"
      ],
      "text/plain": [
       "       sat18_partn   sat18_erw  sat18_math  sat18_total\n",
       "count    51.000000   51.000000   51.000000    51.000000\n",
       "mean     45.745098  563.686275  556.235294  1120.019608\n",
       "std      37.314256   47.502627   47.772623    94.155083\n",
       "min       2.000000  480.000000  480.000000   977.000000\n",
       "25%       4.500000  534.500000  522.500000  1057.500000\n",
       "50%      52.000000  552.000000  544.000000  1098.000000\n",
       "75%      77.500000  610.500000  593.500000  1204.000000\n",
       "max     100.000000  643.000000  655.000000  1298.000000"
      ]
     },
     "execution_count": 289,
     "metadata": {},
     "output_type": "execute_result"
    }
   ],
   "source": [
    "# check SAT 2018 data's min and max value for each column for any mis-entry\n",
    "df_sat18.describe()"
   ]
  },
  {
   "cell_type": "code",
   "execution_count": 290,
   "metadata": {},
   "outputs": [],
   "source": [
    "df_act18 = pd.read_csv('../data/act_2018_updated.csv')"
   ]
  },
  {
   "cell_type": "code",
   "execution_count": 291,
   "metadata": {},
   "outputs": [
    {
     "data": {
      "text/html": [
       "<div>\n",
       "<style scoped>\n",
       "    .dataframe tbody tr th:only-of-type {\n",
       "        vertical-align: middle;\n",
       "    }\n",
       "\n",
       "    .dataframe tbody tr th {\n",
       "        vertical-align: top;\n",
       "    }\n",
       "\n",
       "    .dataframe thead th {\n",
       "        text-align: right;\n",
       "    }\n",
       "</style>\n",
       "<table border=\"1\" class=\"dataframe\">\n",
       "  <thead>\n",
       "    <tr style=\"text-align: right;\">\n",
       "      <th></th>\n",
       "      <th>State</th>\n",
       "      <th>Percentage of Students Tested</th>\n",
       "      <th>Average Composite Score</th>\n",
       "      <th>Average English Score</th>\n",
       "      <th>Average Math Score</th>\n",
       "      <th>Average Reading Score</th>\n",
       "      <th>Average Science Score</th>\n",
       "    </tr>\n",
       "  </thead>\n",
       "  <tbody>\n",
       "    <tr>\n",
       "      <th>0</th>\n",
       "      <td>Alabama</td>\n",
       "      <td>100</td>\n",
       "      <td>19.1</td>\n",
       "      <td>18.9</td>\n",
       "      <td>18.3</td>\n",
       "      <td>19.6</td>\n",
       "      <td>19.0</td>\n",
       "    </tr>\n",
       "    <tr>\n",
       "      <th>1</th>\n",
       "      <td>Alaska</td>\n",
       "      <td>33</td>\n",
       "      <td>20.8</td>\n",
       "      <td>19.8</td>\n",
       "      <td>20.6</td>\n",
       "      <td>21.6</td>\n",
       "      <td>20.7</td>\n",
       "    </tr>\n",
       "    <tr>\n",
       "      <th>2</th>\n",
       "      <td>Arizona</td>\n",
       "      <td>66</td>\n",
       "      <td>19.2</td>\n",
       "      <td>18.2</td>\n",
       "      <td>19.4</td>\n",
       "      <td>19.5</td>\n",
       "      <td>19.2</td>\n",
       "    </tr>\n",
       "    <tr>\n",
       "      <th>3</th>\n",
       "      <td>Arkansas</td>\n",
       "      <td>100</td>\n",
       "      <td>19.4</td>\n",
       "      <td>19.1</td>\n",
       "      <td>18.9</td>\n",
       "      <td>19.7</td>\n",
       "      <td>19.4</td>\n",
       "    </tr>\n",
       "    <tr>\n",
       "      <th>4</th>\n",
       "      <td>California</td>\n",
       "      <td>27</td>\n",
       "      <td>22.7</td>\n",
       "      <td>22.5</td>\n",
       "      <td>22.5</td>\n",
       "      <td>23.0</td>\n",
       "      <td>22.1</td>\n",
       "    </tr>\n",
       "  </tbody>\n",
       "</table>\n",
       "</div>"
      ],
      "text/plain": [
       "        State  Percentage of Students Tested  Average Composite Score  \\\n",
       "0     Alabama                            100                     19.1   \n",
       "1      Alaska                             33                     20.8   \n",
       "2     Arizona                             66                     19.2   \n",
       "3    Arkansas                            100                     19.4   \n",
       "4  California                             27                     22.7   \n",
       "\n",
       "   Average English Score  Average Math Score  Average Reading Score  \\\n",
       "0                   18.9                18.3                   19.6   \n",
       "1                   19.8                20.6                   21.6   \n",
       "2                   18.2                19.4                   19.5   \n",
       "3                   19.1                18.9                   19.7   \n",
       "4                   22.5                22.5                   23.0   \n",
       "\n",
       "   Average Science Score  \n",
       "0                   19.0  \n",
       "1                   20.7  \n",
       "2                   19.2  \n",
       "3                   19.4  \n",
       "4                   22.1  "
      ]
     },
     "execution_count": 291,
     "metadata": {},
     "output_type": "execute_result"
    }
   ],
   "source": [
    "# Preview ACT 2018 data\n",
    "df_act18.head()"
   ]
  },
  {
   "cell_type": "code",
   "execution_count": 292,
   "metadata": {},
   "outputs": [
    {
     "name": "stdout",
     "output_type": "stream",
     "text": [
      "<class 'pandas.core.frame.DataFrame'>\n",
      "RangeIndex: 51 entries, 0 to 50\n",
      "Data columns (total 7 columns):\n",
      " #   Column                         Non-Null Count  Dtype  \n",
      "---  ------                         --------------  -----  \n",
      " 0   State                          51 non-null     object \n",
      " 1   Percentage of Students Tested  51 non-null     int64  \n",
      " 2   Average Composite Score        51 non-null     float64\n",
      " 3   Average English Score          51 non-null     float64\n",
      " 4   Average Math Score             51 non-null     float64\n",
      " 5   Average Reading Score          51 non-null     float64\n",
      " 6   Average Science Score          51 non-null     float64\n",
      "dtypes: float64(5), int64(1), object(1)\n",
      "memory usage: 2.9+ KB\n"
     ]
    }
   ],
   "source": [
    "# check ACT 2018 data's Dtypes of each column and total number of entries\n",
    "df_act18.info()"
   ]
  },
  {
   "cell_type": "code",
   "execution_count": 293,
   "metadata": {},
   "outputs": [],
   "source": [
    "# Convert 'Percentage of Students Tested' from int to float\n",
    "df_act18['Percentage of Students Tested'] = df_act18['Percentage of Students Tested'].astype(float)"
   ]
  },
  {
   "cell_type": "code",
   "execution_count": 294,
   "metadata": {},
   "outputs": [
    {
     "data": {
      "text/html": [
       "<div>\n",
       "<style scoped>\n",
       "    .dataframe tbody tr th:only-of-type {\n",
       "        vertical-align: middle;\n",
       "    }\n",
       "\n",
       "    .dataframe tbody tr th {\n",
       "        vertical-align: top;\n",
       "    }\n",
       "\n",
       "    .dataframe thead th {\n",
       "        text-align: right;\n",
       "    }\n",
       "</style>\n",
       "<table border=\"1\" class=\"dataframe\">\n",
       "  <thead>\n",
       "    <tr style=\"text-align: right;\">\n",
       "      <th></th>\n",
       "      <th>Percentage of Students Tested</th>\n",
       "      <th>Average Composite Score</th>\n",
       "      <th>Average English Score</th>\n",
       "      <th>Average Math Score</th>\n",
       "      <th>Average Reading Score</th>\n",
       "      <th>Average Science Score</th>\n",
       "    </tr>\n",
       "  </thead>\n",
       "  <tbody>\n",
       "    <tr>\n",
       "      <th>count</th>\n",
       "      <td>51.000000</td>\n",
       "      <td>51.000000</td>\n",
       "      <td>51.000000</td>\n",
       "      <td>51.000000</td>\n",
       "      <td>51.000000</td>\n",
       "      <td>51.000000</td>\n",
       "    </tr>\n",
       "    <tr>\n",
       "      <th>mean</th>\n",
       "      <td>61.647059</td>\n",
       "      <td>21.486275</td>\n",
       "      <td>20.988235</td>\n",
       "      <td>21.125490</td>\n",
       "      <td>22.015686</td>\n",
       "      <td>21.345098</td>\n",
       "    </tr>\n",
       "    <tr>\n",
       "      <th>std</th>\n",
       "      <td>34.080976</td>\n",
       "      <td>2.106278</td>\n",
       "      <td>2.446356</td>\n",
       "      <td>2.035765</td>\n",
       "      <td>2.167245</td>\n",
       "      <td>1.870114</td>\n",
       "    </tr>\n",
       "    <tr>\n",
       "      <th>min</th>\n",
       "      <td>7.000000</td>\n",
       "      <td>17.700000</td>\n",
       "      <td>16.600000</td>\n",
       "      <td>17.800000</td>\n",
       "      <td>18.000000</td>\n",
       "      <td>17.900000</td>\n",
       "    </tr>\n",
       "    <tr>\n",
       "      <th>25%</th>\n",
       "      <td>28.500000</td>\n",
       "      <td>19.950000</td>\n",
       "      <td>19.100000</td>\n",
       "      <td>19.400000</td>\n",
       "      <td>20.450000</td>\n",
       "      <td>19.850000</td>\n",
       "    </tr>\n",
       "    <tr>\n",
       "      <th>50%</th>\n",
       "      <td>66.000000</td>\n",
       "      <td>21.300000</td>\n",
       "      <td>20.200000</td>\n",
       "      <td>20.700000</td>\n",
       "      <td>21.600000</td>\n",
       "      <td>21.100000</td>\n",
       "    </tr>\n",
       "    <tr>\n",
       "      <th>75%</th>\n",
       "      <td>100.000000</td>\n",
       "      <td>23.550000</td>\n",
       "      <td>23.700000</td>\n",
       "      <td>23.150000</td>\n",
       "      <td>24.100000</td>\n",
       "      <td>23.050000</td>\n",
       "    </tr>\n",
       "    <tr>\n",
       "      <th>max</th>\n",
       "      <td>100.000000</td>\n",
       "      <td>25.600000</td>\n",
       "      <td>26.000000</td>\n",
       "      <td>25.200000</td>\n",
       "      <td>26.100000</td>\n",
       "      <td>24.900000</td>\n",
       "    </tr>\n",
       "  </tbody>\n",
       "</table>\n",
       "</div>"
      ],
      "text/plain": [
       "       Percentage of Students Tested  Average Composite Score  \\\n",
       "count                      51.000000                51.000000   \n",
       "mean                       61.647059                21.486275   \n",
       "std                        34.080976                 2.106278   \n",
       "min                         7.000000                17.700000   \n",
       "25%                        28.500000                19.950000   \n",
       "50%                        66.000000                21.300000   \n",
       "75%                       100.000000                23.550000   \n",
       "max                       100.000000                25.600000   \n",
       "\n",
       "       Average English Score  Average Math Score  Average Reading Score  \\\n",
       "count              51.000000           51.000000              51.000000   \n",
       "mean               20.988235           21.125490              22.015686   \n",
       "std                 2.446356            2.035765               2.167245   \n",
       "min                16.600000           17.800000              18.000000   \n",
       "25%                19.100000           19.400000              20.450000   \n",
       "50%                20.200000           20.700000              21.600000   \n",
       "75%                23.700000           23.150000              24.100000   \n",
       "max                26.000000           25.200000              26.100000   \n",
       "\n",
       "       Average Science Score  \n",
       "count              51.000000  \n",
       "mean               21.345098  \n",
       "std                 1.870114  \n",
       "min                17.900000  \n",
       "25%                19.850000  \n",
       "50%                21.100000  \n",
       "75%                23.050000  \n",
       "max                24.900000  "
      ]
     },
     "execution_count": 294,
     "metadata": {},
     "output_type": "execute_result"
    }
   ],
   "source": [
    "# check ACT 2018 data's min and max value for each column for any mis-entry\n",
    "df_act18.describe()"
   ]
  },
  {
   "cell_type": "code",
   "execution_count": 295,
   "metadata": {},
   "outputs": [],
   "source": [
    "# Rename columns in line with naming convention\n",
    "df_act18.rename(columns={\n",
    "    'State' : 'state',\n",
    "    'Percentage of Students Tested' : 'act18_partn',\n",
    "    'Average English Score' : 'act18_eng',\n",
    "    'Average Math Score' : 'act18_math',\n",
    "    'Average Reading Score' : 'act18_rdg',\n",
    "    'Average Science Score' : 'act18_sci',\n",
    "    'Average Composite Score' : 'act18_comp'\n",
    "}, inplace=True)"
   ]
  },
  {
   "cell_type": "code",
   "execution_count": 296,
   "metadata": {},
   "outputs": [],
   "source": [
    "# Rearrange ACT 2018 dataframe colunms to match that of ACT 2017\n",
    "col = list(df_act18.columns)\n",
    "col.append(col.pop(2))\n",
    "df_act18 = df_act18[col]"
   ]
  },
  {
   "cell_type": "markdown",
   "metadata": {},
   "source": [
    "#### Combine your 2017 and 2018 data into a single dataframe\n",
    "Joining on state names should work, assuming you formatted all your state names identically. Make sure none of your columns (other than state) have identical names. Do yourself a favor and decide if you're encoding participation rates as floats or integers and standardize this across your datasets.\n",
    "\n",
    "Save the contents of this merged dataframe as `final.csv`.\n",
    "\n",
    "**Use this combined dataframe for the remainder of the project**."
   ]
  },
  {
   "cell_type": "code",
   "execution_count": 297,
   "metadata": {},
   "outputs": [],
   "source": [
    "# Merge SAT and ACT data for 2018\n",
    "df_combined18 = pd.merge(df_sat18, df_act18, how='left')"
   ]
  },
  {
   "cell_type": "code",
   "execution_count": 298,
   "metadata": {},
   "outputs": [],
   "source": [
    "# Merge combined data from 2017 with that of 2018\n",
    "df_final = pd.merge(df_combined17, df_combined18, how='left')"
   ]
  },
  {
   "cell_type": "code",
   "execution_count": 299,
   "metadata": {},
   "outputs": [],
   "source": [
    "df_final.to_csv('../data/final.csv',index=False)"
   ]
  },
  {
   "cell_type": "markdown",
   "metadata": {},
   "source": [
    "## Exploratory Data Analysis\n",
    "\n",
    "\n",
    "### Summary Statistics\n",
    "Transpose the output of pandas `describe` method to create a quick overview of each numeric feature."
   ]
  },
  {
   "cell_type": "code",
   "execution_count": 300,
   "metadata": {},
   "outputs": [
    {
     "data": {
      "text/html": [
       "<div>\n",
       "<style scoped>\n",
       "    .dataframe tbody tr th:only-of-type {\n",
       "        vertical-align: middle;\n",
       "    }\n",
       "\n",
       "    .dataframe tbody tr th {\n",
       "        vertical-align: top;\n",
       "    }\n",
       "\n",
       "    .dataframe thead th {\n",
       "        text-align: right;\n",
       "    }\n",
       "</style>\n",
       "<table border=\"1\" class=\"dataframe\">\n",
       "  <thead>\n",
       "    <tr style=\"text-align: right;\">\n",
       "      <th></th>\n",
       "      <th>sat17_partn</th>\n",
       "      <th>sat17_erw</th>\n",
       "      <th>sat17_math</th>\n",
       "      <th>sat17_total</th>\n",
       "      <th>act17_partn</th>\n",
       "      <th>act17_eng</th>\n",
       "      <th>act17_math</th>\n",
       "      <th>act17_rdg</th>\n",
       "      <th>act17_sci</th>\n",
       "      <th>act17_comp</th>\n",
       "      <th>sat18_partn</th>\n",
       "      <th>sat18_erw</th>\n",
       "      <th>sat18_math</th>\n",
       "      <th>sat18_total</th>\n",
       "      <th>act18_partn</th>\n",
       "      <th>act18_eng</th>\n",
       "      <th>act18_math</th>\n",
       "      <th>act18_rdg</th>\n",
       "      <th>act18_sci</th>\n",
       "      <th>act18_comp</th>\n",
       "    </tr>\n",
       "  </thead>\n",
       "  <tbody>\n",
       "    <tr>\n",
       "      <th>count</th>\n",
       "      <td>51.000000</td>\n",
       "      <td>51.000000</td>\n",
       "      <td>51.000000</td>\n",
       "      <td>51.000000</td>\n",
       "      <td>51.000000</td>\n",
       "      <td>51.000000</td>\n",
       "      <td>51.000000</td>\n",
       "      <td>51.000000</td>\n",
       "      <td>51.000000</td>\n",
       "      <td>51.000000</td>\n",
       "      <td>51.000000</td>\n",
       "      <td>51.000000</td>\n",
       "      <td>51.000000</td>\n",
       "      <td>51.000000</td>\n",
       "      <td>51.000000</td>\n",
       "      <td>51.000000</td>\n",
       "      <td>51.000000</td>\n",
       "      <td>51.000000</td>\n",
       "      <td>51.000000</td>\n",
       "      <td>51.000000</td>\n",
       "    </tr>\n",
       "    <tr>\n",
       "      <th>mean</th>\n",
       "      <td>39.803922</td>\n",
       "      <td>569.117647</td>\n",
       "      <td>556.882353</td>\n",
       "      <td>1126.098039</td>\n",
       "      <td>65.254902</td>\n",
       "      <td>20.931373</td>\n",
       "      <td>21.182353</td>\n",
       "      <td>22.013725</td>\n",
       "      <td>21.450980</td>\n",
       "      <td>21.519608</td>\n",
       "      <td>45.745098</td>\n",
       "      <td>563.686275</td>\n",
       "      <td>556.235294</td>\n",
       "      <td>1120.019608</td>\n",
       "      <td>61.647059</td>\n",
       "      <td>20.988235</td>\n",
       "      <td>21.125490</td>\n",
       "      <td>22.015686</td>\n",
       "      <td>21.345098</td>\n",
       "      <td>21.486275</td>\n",
       "    </tr>\n",
       "    <tr>\n",
       "      <th>std</th>\n",
       "      <td>35.276632</td>\n",
       "      <td>45.666901</td>\n",
       "      <td>47.121395</td>\n",
       "      <td>92.494812</td>\n",
       "      <td>32.140842</td>\n",
       "      <td>2.353677</td>\n",
       "      <td>1.981989</td>\n",
       "      <td>2.067271</td>\n",
       "      <td>1.739353</td>\n",
       "      <td>2.020695</td>\n",
       "      <td>37.314256</td>\n",
       "      <td>47.502627</td>\n",
       "      <td>47.772623</td>\n",
       "      <td>94.155083</td>\n",
       "      <td>34.080976</td>\n",
       "      <td>2.446356</td>\n",
       "      <td>2.035765</td>\n",
       "      <td>2.167245</td>\n",
       "      <td>1.870114</td>\n",
       "      <td>2.106278</td>\n",
       "    </tr>\n",
       "    <tr>\n",
       "      <th>min</th>\n",
       "      <td>2.000000</td>\n",
       "      <td>482.000000</td>\n",
       "      <td>468.000000</td>\n",
       "      <td>950.000000</td>\n",
       "      <td>8.000000</td>\n",
       "      <td>16.300000</td>\n",
       "      <td>18.000000</td>\n",
       "      <td>18.100000</td>\n",
       "      <td>18.200000</td>\n",
       "      <td>17.800000</td>\n",
       "      <td>2.000000</td>\n",
       "      <td>480.000000</td>\n",
       "      <td>480.000000</td>\n",
       "      <td>977.000000</td>\n",
       "      <td>7.000000</td>\n",
       "      <td>16.600000</td>\n",
       "      <td>17.800000</td>\n",
       "      <td>18.000000</td>\n",
       "      <td>17.900000</td>\n",
       "      <td>17.700000</td>\n",
       "    </tr>\n",
       "    <tr>\n",
       "      <th>25%</th>\n",
       "      <td>4.000000</td>\n",
       "      <td>533.500000</td>\n",
       "      <td>523.500000</td>\n",
       "      <td>1055.500000</td>\n",
       "      <td>31.000000</td>\n",
       "      <td>19.000000</td>\n",
       "      <td>19.400000</td>\n",
       "      <td>20.450000</td>\n",
       "      <td>19.950000</td>\n",
       "      <td>19.800000</td>\n",
       "      <td>4.500000</td>\n",
       "      <td>534.500000</td>\n",
       "      <td>522.500000</td>\n",
       "      <td>1057.500000</td>\n",
       "      <td>28.500000</td>\n",
       "      <td>19.100000</td>\n",
       "      <td>19.400000</td>\n",
       "      <td>20.450000</td>\n",
       "      <td>19.850000</td>\n",
       "      <td>19.950000</td>\n",
       "    </tr>\n",
       "    <tr>\n",
       "      <th>50%</th>\n",
       "      <td>38.000000</td>\n",
       "      <td>559.000000</td>\n",
       "      <td>548.000000</td>\n",
       "      <td>1107.000000</td>\n",
       "      <td>69.000000</td>\n",
       "      <td>20.700000</td>\n",
       "      <td>20.900000</td>\n",
       "      <td>21.800000</td>\n",
       "      <td>21.300000</td>\n",
       "      <td>21.400000</td>\n",
       "      <td>52.000000</td>\n",
       "      <td>552.000000</td>\n",
       "      <td>544.000000</td>\n",
       "      <td>1098.000000</td>\n",
       "      <td>66.000000</td>\n",
       "      <td>20.200000</td>\n",
       "      <td>20.700000</td>\n",
       "      <td>21.600000</td>\n",
       "      <td>21.100000</td>\n",
       "      <td>21.300000</td>\n",
       "    </tr>\n",
       "    <tr>\n",
       "      <th>75%</th>\n",
       "      <td>66.000000</td>\n",
       "      <td>613.000000</td>\n",
       "      <td>599.000000</td>\n",
       "      <td>1212.000000</td>\n",
       "      <td>100.000000</td>\n",
       "      <td>23.300000</td>\n",
       "      <td>23.100000</td>\n",
       "      <td>24.150000</td>\n",
       "      <td>23.200000</td>\n",
       "      <td>23.600000</td>\n",
       "      <td>77.500000</td>\n",
       "      <td>610.500000</td>\n",
       "      <td>593.500000</td>\n",
       "      <td>1204.000000</td>\n",
       "      <td>100.000000</td>\n",
       "      <td>23.700000</td>\n",
       "      <td>23.150000</td>\n",
       "      <td>24.100000</td>\n",
       "      <td>23.050000</td>\n",
       "      <td>23.550000</td>\n",
       "    </tr>\n",
       "    <tr>\n",
       "      <th>max</th>\n",
       "      <td>100.000000</td>\n",
       "      <td>644.000000</td>\n",
       "      <td>651.000000</td>\n",
       "      <td>1295.000000</td>\n",
       "      <td>100.000000</td>\n",
       "      <td>25.500000</td>\n",
       "      <td>25.300000</td>\n",
       "      <td>26.000000</td>\n",
       "      <td>24.900000</td>\n",
       "      <td>25.500000</td>\n",
       "      <td>100.000000</td>\n",
       "      <td>643.000000</td>\n",
       "      <td>655.000000</td>\n",
       "      <td>1298.000000</td>\n",
       "      <td>100.000000</td>\n",
       "      <td>26.000000</td>\n",
       "      <td>25.200000</td>\n",
       "      <td>26.100000</td>\n",
       "      <td>24.900000</td>\n",
       "      <td>25.600000</td>\n",
       "    </tr>\n",
       "  </tbody>\n",
       "</table>\n",
       "</div>"
      ],
      "text/plain": [
       "       sat17_partn   sat17_erw  sat17_math  sat17_total  act17_partn  \\\n",
       "count    51.000000   51.000000   51.000000    51.000000    51.000000   \n",
       "mean     39.803922  569.117647  556.882353  1126.098039    65.254902   \n",
       "std      35.276632   45.666901   47.121395    92.494812    32.140842   \n",
       "min       2.000000  482.000000  468.000000   950.000000     8.000000   \n",
       "25%       4.000000  533.500000  523.500000  1055.500000    31.000000   \n",
       "50%      38.000000  559.000000  548.000000  1107.000000    69.000000   \n",
       "75%      66.000000  613.000000  599.000000  1212.000000   100.000000   \n",
       "max     100.000000  644.000000  651.000000  1295.000000   100.000000   \n",
       "\n",
       "       act17_eng  act17_math  act17_rdg  act17_sci  act17_comp  sat18_partn  \\\n",
       "count  51.000000   51.000000  51.000000  51.000000   51.000000    51.000000   \n",
       "mean   20.931373   21.182353  22.013725  21.450980   21.519608    45.745098   \n",
       "std     2.353677    1.981989   2.067271   1.739353    2.020695    37.314256   \n",
       "min    16.300000   18.000000  18.100000  18.200000   17.800000     2.000000   \n",
       "25%    19.000000   19.400000  20.450000  19.950000   19.800000     4.500000   \n",
       "50%    20.700000   20.900000  21.800000  21.300000   21.400000    52.000000   \n",
       "75%    23.300000   23.100000  24.150000  23.200000   23.600000    77.500000   \n",
       "max    25.500000   25.300000  26.000000  24.900000   25.500000   100.000000   \n",
       "\n",
       "        sat18_erw  sat18_math  sat18_total  act18_partn  act18_eng  \\\n",
       "count   51.000000   51.000000    51.000000    51.000000  51.000000   \n",
       "mean   563.686275  556.235294  1120.019608    61.647059  20.988235   \n",
       "std     47.502627   47.772623    94.155083    34.080976   2.446356   \n",
       "min    480.000000  480.000000   977.000000     7.000000  16.600000   \n",
       "25%    534.500000  522.500000  1057.500000    28.500000  19.100000   \n",
       "50%    552.000000  544.000000  1098.000000    66.000000  20.200000   \n",
       "75%    610.500000  593.500000  1204.000000   100.000000  23.700000   \n",
       "max    643.000000  655.000000  1298.000000   100.000000  26.000000   \n",
       "\n",
       "       act18_math  act18_rdg  act18_sci  act18_comp  \n",
       "count   51.000000  51.000000  51.000000   51.000000  \n",
       "mean    21.125490  22.015686  21.345098   21.486275  \n",
       "std      2.035765   2.167245   1.870114    2.106278  \n",
       "min     17.800000  18.000000  17.900000   17.700000  \n",
       "25%     19.400000  20.450000  19.850000   19.950000  \n",
       "50%     20.700000  21.600000  21.100000   21.300000  \n",
       "75%     23.150000  24.100000  23.050000   23.550000  \n",
       "max     25.200000  26.100000  24.900000   25.600000  "
      ]
     },
     "execution_count": 300,
     "metadata": {},
     "output_type": "execute_result"
    }
   ],
   "source": [
    "df_final.describe()"
   ]
  },
  {
   "cell_type": "markdown",
   "metadata": {},
   "source": [
    "#### Manually calculate standard deviation\n",
    "\n",
    "$$\\sigma = \\sqrt{\\frac{1}{n}\\sum_{i=1}^n(x_i - \\mu)^2}$$\n",
    "\n",
    "- Write a function to calculate standard deviation using the formula above"
   ]
  },
  {
   "cell_type": "code",
   "execution_count": 301,
   "metadata": {},
   "outputs": [],
   "source": [
    "def get_std(series):\n",
    "    '''Function to calculate standard deviation\n",
    "    series : Series to be loaded in'''\n",
    "    mean = series.mean()\n",
    "    return round((np.sum([(i - mean)**2 for i in series])/series.count())**0.5,4)"
   ]
  },
  {
   "cell_type": "markdown",
   "metadata": {},
   "source": [
    "- Use a **dictionary comprehension** to apply your standard deviation function to each numeric column in the dataframe.  **No loops**  \n",
    "- Assign the output to variable `sd` as a dictionary where: \n",
    "    - Each column name is now a key \n",
    "    - That standard deviation of the column is the value \n",
    "     \n",
    "*Example Output :* `{'ACT_Math': 120, 'ACT_Reading': 120, ...}`"
   ]
  },
  {
   "cell_type": "code",
   "execution_count": 302,
   "metadata": {},
   "outputs": [
    {
     "data": {
      "text/plain": [
       "[{'sat17_partn': 34.9291},\n",
       " {'sat17_erw': 45.217},\n",
       " {'sat17_math': 46.6571},\n",
       " {'sat17_total': 91.5835},\n",
       " {'act17_partn': 31.8242},\n",
       " {'act17_eng': 2.3305},\n",
       " {'act17_math': 1.9625},\n",
       " {'act17_rdg': 2.0469},\n",
       " {'act17_sci': 1.7222},\n",
       " {'act17_comp': 2.0008},\n",
       " {'sat18_partn': 36.9466},\n",
       " {'sat18_erw': 47.0346},\n",
       " {'sat18_math': 47.3019},\n",
       " {'sat18_total': 93.2274},\n",
       " {'act18_partn': 33.7452},\n",
       " {'act18_eng': 2.4223},\n",
       " {'act18_math': 2.0157},\n",
       " {'act18_rdg': 2.1459},\n",
       " {'act18_sci': 1.8517},\n",
       " {'act18_comp': 2.0855}]"
      ]
     },
     "execution_count": 302,
     "metadata": {},
     "output_type": "execute_result"
    }
   ],
   "source": [
    "sd = [{col:get_std(df_final[col])} for col in df_final.columns[1::]]\n",
    "sd"
   ]
  },
  {
   "cell_type": "markdown",
   "metadata": {},
   "source": [
    "Do your manually calculated standard deviations match up with the output from pandas `describe`? What about numpy's `std` method?"
   ]
  },
  {
   "cell_type": "markdown",
   "metadata": {},
   "source": [
    "Answer\n",
    "\n",
    "No, the manually calculated standard deviations vary slightly from the output from pandas `describe` function\n",
    "\n",
    "numpy's `std` method is the same as the manually calculated values."
   ]
  },
  {
   "cell_type": "markdown",
   "metadata": {},
   "source": [
    "#### Investigate trends in the data\n",
    "Using sorting and/or masking (along with the `.head` method to not print our entire dataframe), consider the following questions:\n",
    "\n",
    "- Which states have the highest and lowest participation rates for the:\n",
    "    - 2017 SAT?\n",
    "    - 2018 SAT?\n",
    "    - 2017 ACT?\n",
    "    - 2018 ACT?\n",
    "- Which states have the highest and lowest mean total/composite scores for the:\n",
    "    - 2017 SAT?\n",
    "    - 2018 SAT?\n",
    "    - 2017 ACT?\n",
    "    - 2018 ACT?\n",
    "- Do any states with 100% participation on a given test have a rate change year-to-year?\n",
    "- Do any states show have >50% participation on *both* tests either year?\n",
    "\n",
    "Based on what you've just observed, have you identified any states that you're especially interested in? **Make a note of these and state *why* you think they're interesting**.\n",
    "\n",
    "**You should comment on your findings at each step in a markdown cell below your code block**. Make sure you include at least one example of sorting your dataframe by a column, and one example of using boolean filtering (i.e., masking) to select a subset of the dataframe."
   ]
  },
  {
   "cell_type": "code",
   "execution_count": 303,
   "metadata": {},
   "outputs": [
    {
     "data": {
      "text/html": [
       "<div>\n",
       "<style scoped>\n",
       "    .dataframe tbody tr th:only-of-type {\n",
       "        vertical-align: middle;\n",
       "    }\n",
       "\n",
       "    .dataframe tbody tr th {\n",
       "        vertical-align: top;\n",
       "    }\n",
       "\n",
       "    .dataframe thead th {\n",
       "        text-align: right;\n",
       "    }\n",
       "</style>\n",
       "<table border=\"1\" class=\"dataframe\">\n",
       "  <thead>\n",
       "    <tr style=\"text-align: right;\">\n",
       "      <th></th>\n",
       "      <th>state</th>\n",
       "      <th>sat17_partn</th>\n",
       "      <th>sat17_erw</th>\n",
       "      <th>sat17_math</th>\n",
       "      <th>sat17_total</th>\n",
       "      <th>act17_partn</th>\n",
       "      <th>act17_eng</th>\n",
       "      <th>act17_math</th>\n",
       "      <th>act17_rdg</th>\n",
       "      <th>act17_sci</th>\n",
       "      <th>...</th>\n",
       "      <th>sat18_partn</th>\n",
       "      <th>sat18_erw</th>\n",
       "      <th>sat18_math</th>\n",
       "      <th>sat18_total</th>\n",
       "      <th>act18_partn</th>\n",
       "      <th>act18_eng</th>\n",
       "      <th>act18_math</th>\n",
       "      <th>act18_rdg</th>\n",
       "      <th>act18_sci</th>\n",
       "      <th>act18_comp</th>\n",
       "    </tr>\n",
       "  </thead>\n",
       "  <tbody>\n",
       "    <tr>\n",
       "      <th>0</th>\n",
       "      <td>Alabama</td>\n",
       "      <td>5.0</td>\n",
       "      <td>593.0</td>\n",
       "      <td>572.0</td>\n",
       "      <td>1165.0</td>\n",
       "      <td>100.0</td>\n",
       "      <td>18.9</td>\n",
       "      <td>18.4</td>\n",
       "      <td>19.7</td>\n",
       "      <td>19.4</td>\n",
       "      <td>...</td>\n",
       "      <td>6.0</td>\n",
       "      <td>595.0</td>\n",
       "      <td>571.0</td>\n",
       "      <td>1166.0</td>\n",
       "      <td>100.0</td>\n",
       "      <td>18.9</td>\n",
       "      <td>18.3</td>\n",
       "      <td>19.6</td>\n",
       "      <td>19.0</td>\n",
       "      <td>19.1</td>\n",
       "    </tr>\n",
       "    <tr>\n",
       "      <th>1</th>\n",
       "      <td>Alaska</td>\n",
       "      <td>38.0</td>\n",
       "      <td>547.0</td>\n",
       "      <td>533.0</td>\n",
       "      <td>1080.0</td>\n",
       "      <td>65.0</td>\n",
       "      <td>18.7</td>\n",
       "      <td>19.8</td>\n",
       "      <td>20.4</td>\n",
       "      <td>19.9</td>\n",
       "      <td>...</td>\n",
       "      <td>43.0</td>\n",
       "      <td>562.0</td>\n",
       "      <td>544.0</td>\n",
       "      <td>1106.0</td>\n",
       "      <td>33.0</td>\n",
       "      <td>19.8</td>\n",
       "      <td>20.6</td>\n",
       "      <td>21.6</td>\n",
       "      <td>20.7</td>\n",
       "      <td>20.8</td>\n",
       "    </tr>\n",
       "    <tr>\n",
       "      <th>2</th>\n",
       "      <td>Arizona</td>\n",
       "      <td>30.0</td>\n",
       "      <td>563.0</td>\n",
       "      <td>553.0</td>\n",
       "      <td>1116.0</td>\n",
       "      <td>62.0</td>\n",
       "      <td>18.6</td>\n",
       "      <td>19.8</td>\n",
       "      <td>20.1</td>\n",
       "      <td>19.8</td>\n",
       "      <td>...</td>\n",
       "      <td>29.0</td>\n",
       "      <td>577.0</td>\n",
       "      <td>572.0</td>\n",
       "      <td>1149.0</td>\n",
       "      <td>66.0</td>\n",
       "      <td>18.2</td>\n",
       "      <td>19.4</td>\n",
       "      <td>19.5</td>\n",
       "      <td>19.2</td>\n",
       "      <td>19.2</td>\n",
       "    </tr>\n",
       "    <tr>\n",
       "      <th>3</th>\n",
       "      <td>Arkansas</td>\n",
       "      <td>3.0</td>\n",
       "      <td>614.0</td>\n",
       "      <td>594.0</td>\n",
       "      <td>1208.0</td>\n",
       "      <td>100.0</td>\n",
       "      <td>18.9</td>\n",
       "      <td>19.0</td>\n",
       "      <td>19.7</td>\n",
       "      <td>19.5</td>\n",
       "      <td>...</td>\n",
       "      <td>5.0</td>\n",
       "      <td>592.0</td>\n",
       "      <td>576.0</td>\n",
       "      <td>1169.0</td>\n",
       "      <td>100.0</td>\n",
       "      <td>19.1</td>\n",
       "      <td>18.9</td>\n",
       "      <td>19.7</td>\n",
       "      <td>19.4</td>\n",
       "      <td>19.4</td>\n",
       "    </tr>\n",
       "    <tr>\n",
       "      <th>4</th>\n",
       "      <td>California</td>\n",
       "      <td>53.0</td>\n",
       "      <td>531.0</td>\n",
       "      <td>524.0</td>\n",
       "      <td>1055.0</td>\n",
       "      <td>31.0</td>\n",
       "      <td>22.5</td>\n",
       "      <td>22.7</td>\n",
       "      <td>23.1</td>\n",
       "      <td>22.2</td>\n",
       "      <td>...</td>\n",
       "      <td>60.0</td>\n",
       "      <td>540.0</td>\n",
       "      <td>536.0</td>\n",
       "      <td>1076.0</td>\n",
       "      <td>27.0</td>\n",
       "      <td>22.5</td>\n",
       "      <td>22.5</td>\n",
       "      <td>23.0</td>\n",
       "      <td>22.1</td>\n",
       "      <td>22.7</td>\n",
       "    </tr>\n",
       "  </tbody>\n",
       "</table>\n",
       "<p>5 rows × 21 columns</p>\n",
       "</div>"
      ],
      "text/plain": [
       "        state  sat17_partn  sat17_erw  sat17_math  sat17_total  act17_partn  \\\n",
       "0     Alabama          5.0      593.0       572.0       1165.0        100.0   \n",
       "1      Alaska         38.0      547.0       533.0       1080.0         65.0   \n",
       "2     Arizona         30.0      563.0       553.0       1116.0         62.0   \n",
       "3    Arkansas          3.0      614.0       594.0       1208.0        100.0   \n",
       "4  California         53.0      531.0       524.0       1055.0         31.0   \n",
       "\n",
       "   act17_eng  act17_math  act17_rdg  act17_sci  ...  sat18_partn  sat18_erw  \\\n",
       "0       18.9        18.4       19.7       19.4  ...          6.0      595.0   \n",
       "1       18.7        19.8       20.4       19.9  ...         43.0      562.0   \n",
       "2       18.6        19.8       20.1       19.8  ...         29.0      577.0   \n",
       "3       18.9        19.0       19.7       19.5  ...          5.0      592.0   \n",
       "4       22.5        22.7       23.1       22.2  ...         60.0      540.0   \n",
       "\n",
       "   sat18_math  sat18_total  act18_partn  act18_eng  act18_math  act18_rdg  \\\n",
       "0       571.0       1166.0        100.0       18.9        18.3       19.6   \n",
       "1       544.0       1106.0         33.0       19.8        20.6       21.6   \n",
       "2       572.0       1149.0         66.0       18.2        19.4       19.5   \n",
       "3       576.0       1169.0        100.0       19.1        18.9       19.7   \n",
       "4       536.0       1076.0         27.0       22.5        22.5       23.0   \n",
       "\n",
       "   act18_sci  act18_comp  \n",
       "0       19.0        19.1  \n",
       "1       20.7        20.8  \n",
       "2       19.2        19.2  \n",
       "3       19.4        19.4  \n",
       "4       22.1        22.7  \n",
       "\n",
       "[5 rows x 21 columns]"
      ]
     },
     "execution_count": 303,
     "metadata": {},
     "output_type": "execute_result"
    }
   ],
   "source": [
    "df_final.head()"
   ]
  },
  {
   "cell_type": "markdown",
   "metadata": {},
   "source": [
    "### Participation rates"
   ]
  },
  {
   "cell_type": "markdown",
   "metadata": {},
   "source": [
    "#### States with highest participation rates for 2017 SAT"
   ]
  },
  {
   "cell_type": "code",
   "execution_count": 304,
   "metadata": {},
   "outputs": [
    {
     "data": {
      "text/html": [
       "<div>\n",
       "<style scoped>\n",
       "    .dataframe tbody tr th:only-of-type {\n",
       "        vertical-align: middle;\n",
       "    }\n",
       "\n",
       "    .dataframe tbody tr th {\n",
       "        vertical-align: top;\n",
       "    }\n",
       "\n",
       "    .dataframe thead th {\n",
       "        text-align: right;\n",
       "    }\n",
       "</style>\n",
       "<table border=\"1\" class=\"dataframe\">\n",
       "  <thead>\n",
       "    <tr style=\"text-align: right;\">\n",
       "      <th></th>\n",
       "      <th>state</th>\n",
       "      <th>sat17_partn</th>\n",
       "    </tr>\n",
       "  </thead>\n",
       "  <tbody>\n",
       "    <tr>\n",
       "      <th>8</th>\n",
       "      <td>District of Columbia</td>\n",
       "      <td>100.0</td>\n",
       "    </tr>\n",
       "    <tr>\n",
       "      <th>22</th>\n",
       "      <td>Michigan</td>\n",
       "      <td>100.0</td>\n",
       "    </tr>\n",
       "    <tr>\n",
       "      <th>6</th>\n",
       "      <td>Connecticut</td>\n",
       "      <td>100.0</td>\n",
       "    </tr>\n",
       "    <tr>\n",
       "      <th>7</th>\n",
       "      <td>Delaware</td>\n",
       "      <td>100.0</td>\n",
       "    </tr>\n",
       "    <tr>\n",
       "      <th>29</th>\n",
       "      <td>New Hampshire</td>\n",
       "      <td>96.0</td>\n",
       "    </tr>\n",
       "  </tbody>\n",
       "</table>\n",
       "</div>"
      ],
      "text/plain": [
       "                   state  sat17_partn\n",
       "8   District of Columbia        100.0\n",
       "22              Michigan        100.0\n",
       "6            Connecticut        100.0\n",
       "7               Delaware        100.0\n",
       "29         New Hampshire         96.0"
      ]
     },
     "execution_count": 304,
     "metadata": {},
     "output_type": "execute_result"
    }
   ],
   "source": [
    "df_final[['state','sat17_partn']].sort_values('sat17_partn',ascending=False).head()"
   ]
  },
  {
   "cell_type": "markdown",
   "metadata": {},
   "source": [
    "#### States with lowest participation rates for 2017 SAT"
   ]
  },
  {
   "cell_type": "code",
   "execution_count": 305,
   "metadata": {},
   "outputs": [
    {
     "data": {
      "text/html": [
       "<div>\n",
       "<style scoped>\n",
       "    .dataframe tbody tr th:only-of-type {\n",
       "        vertical-align: middle;\n",
       "    }\n",
       "\n",
       "    .dataframe tbody tr th {\n",
       "        vertical-align: top;\n",
       "    }\n",
       "\n",
       "    .dataframe thead th {\n",
       "        text-align: right;\n",
       "    }\n",
       "</style>\n",
       "<table border=\"1\" class=\"dataframe\">\n",
       "  <thead>\n",
       "    <tr style=\"text-align: right;\">\n",
       "      <th></th>\n",
       "      <th>state</th>\n",
       "      <th>sat17_partn</th>\n",
       "    </tr>\n",
       "  </thead>\n",
       "  <tbody>\n",
       "    <tr>\n",
       "      <th>34</th>\n",
       "      <td>North Dakota</td>\n",
       "      <td>2.0</td>\n",
       "    </tr>\n",
       "    <tr>\n",
       "      <th>24</th>\n",
       "      <td>Mississippi</td>\n",
       "      <td>2.0</td>\n",
       "    </tr>\n",
       "    <tr>\n",
       "      <th>15</th>\n",
       "      <td>Iowa</td>\n",
       "      <td>2.0</td>\n",
       "    </tr>\n",
       "    <tr>\n",
       "      <th>25</th>\n",
       "      <td>Missouri</td>\n",
       "      <td>3.0</td>\n",
       "    </tr>\n",
       "    <tr>\n",
       "      <th>44</th>\n",
       "      <td>Utah</td>\n",
       "      <td>3.0</td>\n",
       "    </tr>\n",
       "  </tbody>\n",
       "</table>\n",
       "</div>"
      ],
      "text/plain": [
       "           state  sat17_partn\n",
       "34  North Dakota          2.0\n",
       "24   Mississippi          2.0\n",
       "15          Iowa          2.0\n",
       "25      Missouri          3.0\n",
       "44          Utah          3.0"
      ]
     },
     "execution_count": 305,
     "metadata": {},
     "output_type": "execute_result"
    }
   ],
   "source": [
    "df_final[['state','sat17_partn']].sort_values('sat17_partn').head()"
   ]
  },
  {
   "cell_type": "markdown",
   "metadata": {},
   "source": [
    "#### States with highest participation rates for 2018 SAT"
   ]
  },
  {
   "cell_type": "code",
   "execution_count": 306,
   "metadata": {},
   "outputs": [
    {
     "data": {
      "text/html": [
       "<div>\n",
       "<style scoped>\n",
       "    .dataframe tbody tr th:only-of-type {\n",
       "        vertical-align: middle;\n",
       "    }\n",
       "\n",
       "    .dataframe tbody tr th {\n",
       "        vertical-align: top;\n",
       "    }\n",
       "\n",
       "    .dataframe thead th {\n",
       "        text-align: right;\n",
       "    }\n",
       "</style>\n",
       "<table border=\"1\" class=\"dataframe\">\n",
       "  <thead>\n",
       "    <tr style=\"text-align: right;\">\n",
       "      <th></th>\n",
       "      <th>state</th>\n",
       "      <th>sat18_partn</th>\n",
       "    </tr>\n",
       "  </thead>\n",
       "  <tbody>\n",
       "    <tr>\n",
       "      <th>5</th>\n",
       "      <td>Colorado</td>\n",
       "      <td>100.0</td>\n",
       "    </tr>\n",
       "    <tr>\n",
       "      <th>6</th>\n",
       "      <td>Connecticut</td>\n",
       "      <td>100.0</td>\n",
       "    </tr>\n",
       "    <tr>\n",
       "      <th>7</th>\n",
       "      <td>Delaware</td>\n",
       "      <td>100.0</td>\n",
       "    </tr>\n",
       "    <tr>\n",
       "      <th>22</th>\n",
       "      <td>Michigan</td>\n",
       "      <td>100.0</td>\n",
       "    </tr>\n",
       "    <tr>\n",
       "      <th>12</th>\n",
       "      <td>Idaho</td>\n",
       "      <td>100.0</td>\n",
       "    </tr>\n",
       "  </tbody>\n",
       "</table>\n",
       "</div>"
      ],
      "text/plain": [
       "          state  sat18_partn\n",
       "5      Colorado        100.0\n",
       "6   Connecticut        100.0\n",
       "7      Delaware        100.0\n",
       "22     Michigan        100.0\n",
       "12        Idaho        100.0"
      ]
     },
     "execution_count": 306,
     "metadata": {},
     "output_type": "execute_result"
    }
   ],
   "source": [
    "df_final[['state','sat18_partn']].sort_values('sat18_partn',ascending=False).head()"
   ]
  },
  {
   "cell_type": "markdown",
   "metadata": {},
   "source": [
    "#### States with lowest participation rates for 2018 SAT"
   ]
  },
  {
   "cell_type": "code",
   "execution_count": 307,
   "metadata": {},
   "outputs": [
    {
     "data": {
      "text/html": [
       "<div>\n",
       "<style scoped>\n",
       "    .dataframe tbody tr th:only-of-type {\n",
       "        vertical-align: middle;\n",
       "    }\n",
       "\n",
       "    .dataframe tbody tr th {\n",
       "        vertical-align: top;\n",
       "    }\n",
       "\n",
       "    .dataframe thead th {\n",
       "        text-align: right;\n",
       "    }\n",
       "</style>\n",
       "<table border=\"1\" class=\"dataframe\">\n",
       "  <thead>\n",
       "    <tr style=\"text-align: right;\">\n",
       "      <th></th>\n",
       "      <th>state</th>\n",
       "      <th>sat18_partn</th>\n",
       "    </tr>\n",
       "  </thead>\n",
       "  <tbody>\n",
       "    <tr>\n",
       "      <th>34</th>\n",
       "      <td>North Dakota</td>\n",
       "      <td>2.0</td>\n",
       "    </tr>\n",
       "    <tr>\n",
       "      <th>50</th>\n",
       "      <td>Wyoming</td>\n",
       "      <td>3.0</td>\n",
       "    </tr>\n",
       "    <tr>\n",
       "      <th>41</th>\n",
       "      <td>South Dakota</td>\n",
       "      <td>3.0</td>\n",
       "    </tr>\n",
       "    <tr>\n",
       "      <th>27</th>\n",
       "      <td>Nebraska</td>\n",
       "      <td>3.0</td>\n",
       "    </tr>\n",
       "    <tr>\n",
       "      <th>49</th>\n",
       "      <td>Wisconsin</td>\n",
       "      <td>3.0</td>\n",
       "    </tr>\n",
       "  </tbody>\n",
       "</table>\n",
       "</div>"
      ],
      "text/plain": [
       "           state  sat18_partn\n",
       "34  North Dakota          2.0\n",
       "50       Wyoming          3.0\n",
       "41  South Dakota          3.0\n",
       "27      Nebraska          3.0\n",
       "49     Wisconsin          3.0"
      ]
     },
     "execution_count": 307,
     "metadata": {},
     "output_type": "execute_result"
    }
   ],
   "source": [
    "df_final[['state','sat18_partn']].sort_values('sat18_partn').head()"
   ]
  },
  {
   "cell_type": "markdown",
   "metadata": {},
   "source": [
    "#### States with highest participation rates for 2017 ACT"
   ]
  },
  {
   "cell_type": "code",
   "execution_count": 308,
   "metadata": {},
   "outputs": [
    {
     "data": {
      "text/html": [
       "<div>\n",
       "<style scoped>\n",
       "    .dataframe tbody tr th:only-of-type {\n",
       "        vertical-align: middle;\n",
       "    }\n",
       "\n",
       "    .dataframe tbody tr th {\n",
       "        vertical-align: top;\n",
       "    }\n",
       "\n",
       "    .dataframe thead th {\n",
       "        text-align: right;\n",
       "    }\n",
       "</style>\n",
       "<table border=\"1\" class=\"dataframe\">\n",
       "  <thead>\n",
       "    <tr style=\"text-align: right;\">\n",
       "      <th></th>\n",
       "      <th>state</th>\n",
       "      <th>act17_partn</th>\n",
       "    </tr>\n",
       "  </thead>\n",
       "  <tbody>\n",
       "    <tr>\n",
       "      <th>0</th>\n",
       "      <td>Alabama</td>\n",
       "      <td>100.0</td>\n",
       "    </tr>\n",
       "    <tr>\n",
       "      <th>17</th>\n",
       "      <td>Kentucky</td>\n",
       "      <td>100.0</td>\n",
       "    </tr>\n",
       "    <tr>\n",
       "      <th>49</th>\n",
       "      <td>Wisconsin</td>\n",
       "      <td>100.0</td>\n",
       "    </tr>\n",
       "    <tr>\n",
       "      <th>44</th>\n",
       "      <td>Utah</td>\n",
       "      <td>100.0</td>\n",
       "    </tr>\n",
       "    <tr>\n",
       "      <th>42</th>\n",
       "      <td>Tennessee</td>\n",
       "      <td>100.0</td>\n",
       "    </tr>\n",
       "  </tbody>\n",
       "</table>\n",
       "</div>"
      ],
      "text/plain": [
       "        state  act17_partn\n",
       "0     Alabama        100.0\n",
       "17   Kentucky        100.0\n",
       "49  Wisconsin        100.0\n",
       "44       Utah        100.0\n",
       "42  Tennessee        100.0"
      ]
     },
     "execution_count": 308,
     "metadata": {},
     "output_type": "execute_result"
    }
   ],
   "source": [
    "df_final[['state','act17_partn']].sort_values('act17_partn',ascending=False).head()"
   ]
  },
  {
   "cell_type": "markdown",
   "metadata": {},
   "source": [
    "#### States with lowest participation rates for 2017 ACT"
   ]
  },
  {
   "cell_type": "code",
   "execution_count": 309,
   "metadata": {},
   "outputs": [
    {
     "data": {
      "text/html": [
       "<div>\n",
       "<style scoped>\n",
       "    .dataframe tbody tr th:only-of-type {\n",
       "        vertical-align: middle;\n",
       "    }\n",
       "\n",
       "    .dataframe tbody tr th {\n",
       "        vertical-align: top;\n",
       "    }\n",
       "\n",
       "    .dataframe thead th {\n",
       "        text-align: right;\n",
       "    }\n",
       "</style>\n",
       "<table border=\"1\" class=\"dataframe\">\n",
       "  <thead>\n",
       "    <tr style=\"text-align: right;\">\n",
       "      <th></th>\n",
       "      <th>state</th>\n",
       "      <th>act17_partn</th>\n",
       "    </tr>\n",
       "  </thead>\n",
       "  <tbody>\n",
       "    <tr>\n",
       "      <th>19</th>\n",
       "      <td>Maine</td>\n",
       "      <td>8.0</td>\n",
       "    </tr>\n",
       "    <tr>\n",
       "      <th>29</th>\n",
       "      <td>New Hampshire</td>\n",
       "      <td>18.0</td>\n",
       "    </tr>\n",
       "    <tr>\n",
       "      <th>7</th>\n",
       "      <td>Delaware</td>\n",
       "      <td>18.0</td>\n",
       "    </tr>\n",
       "    <tr>\n",
       "      <th>39</th>\n",
       "      <td>Rhode Island</td>\n",
       "      <td>21.0</td>\n",
       "    </tr>\n",
       "    <tr>\n",
       "      <th>38</th>\n",
       "      <td>Pennsylvania</td>\n",
       "      <td>23.0</td>\n",
       "    </tr>\n",
       "  </tbody>\n",
       "</table>\n",
       "</div>"
      ],
      "text/plain": [
       "            state  act17_partn\n",
       "19          Maine          8.0\n",
       "29  New Hampshire         18.0\n",
       "7        Delaware         18.0\n",
       "39   Rhode Island         21.0\n",
       "38   Pennsylvania         23.0"
      ]
     },
     "execution_count": 309,
     "metadata": {},
     "output_type": "execute_result"
    }
   ],
   "source": [
    "df_final[['state','act17_partn']].sort_values('act17_partn').head()"
   ]
  },
  {
   "cell_type": "markdown",
   "metadata": {},
   "source": [
    "#### States with highest participation rates for 2018 ACT"
   ]
  },
  {
   "cell_type": "code",
   "execution_count": 310,
   "metadata": {},
   "outputs": [
    {
     "data": {
      "text/html": [
       "<div>\n",
       "<style scoped>\n",
       "    .dataframe tbody tr th:only-of-type {\n",
       "        vertical-align: middle;\n",
       "    }\n",
       "\n",
       "    .dataframe tbody tr th {\n",
       "        vertical-align: top;\n",
       "    }\n",
       "\n",
       "    .dataframe thead th {\n",
       "        text-align: right;\n",
       "    }\n",
       "</style>\n",
       "<table border=\"1\" class=\"dataframe\">\n",
       "  <thead>\n",
       "    <tr style=\"text-align: right;\">\n",
       "      <th></th>\n",
       "      <th>state</th>\n",
       "      <th>act18_partn</th>\n",
       "    </tr>\n",
       "  </thead>\n",
       "  <tbody>\n",
       "    <tr>\n",
       "      <th>0</th>\n",
       "      <td>Alabama</td>\n",
       "      <td>100.0</td>\n",
       "    </tr>\n",
       "    <tr>\n",
       "      <th>17</th>\n",
       "      <td>Kentucky</td>\n",
       "      <td>100.0</td>\n",
       "    </tr>\n",
       "    <tr>\n",
       "      <th>49</th>\n",
       "      <td>Wisconsin</td>\n",
       "      <td>100.0</td>\n",
       "    </tr>\n",
       "    <tr>\n",
       "      <th>44</th>\n",
       "      <td>Utah</td>\n",
       "      <td>100.0</td>\n",
       "    </tr>\n",
       "    <tr>\n",
       "      <th>42</th>\n",
       "      <td>Tennessee</td>\n",
       "      <td>100.0</td>\n",
       "    </tr>\n",
       "  </tbody>\n",
       "</table>\n",
       "</div>"
      ],
      "text/plain": [
       "        state  act18_partn\n",
       "0     Alabama        100.0\n",
       "17   Kentucky        100.0\n",
       "49  Wisconsin        100.0\n",
       "44       Utah        100.0\n",
       "42  Tennessee        100.0"
      ]
     },
     "execution_count": 310,
     "metadata": {},
     "output_type": "execute_result"
    }
   ],
   "source": [
    "df_final[['state','act18_partn']].sort_values('act18_partn',ascending=False).head()"
   ]
  },
  {
   "cell_type": "markdown",
   "metadata": {},
   "source": [
    "#### States with lowest participation rates for 2018 ACT"
   ]
  },
  {
   "cell_type": "code",
   "execution_count": 311,
   "metadata": {},
   "outputs": [
    {
     "data": {
      "text/html": [
       "<div>\n",
       "<style scoped>\n",
       "    .dataframe tbody tr th:only-of-type {\n",
       "        vertical-align: middle;\n",
       "    }\n",
       "\n",
       "    .dataframe tbody tr th {\n",
       "        vertical-align: top;\n",
       "    }\n",
       "\n",
       "    .dataframe thead th {\n",
       "        text-align: right;\n",
       "    }\n",
       "</style>\n",
       "<table border=\"1\" class=\"dataframe\">\n",
       "  <thead>\n",
       "    <tr style=\"text-align: right;\">\n",
       "      <th></th>\n",
       "      <th>state</th>\n",
       "      <th>act18_partn</th>\n",
       "    </tr>\n",
       "  </thead>\n",
       "  <tbody>\n",
       "    <tr>\n",
       "      <th>19</th>\n",
       "      <td>Maine</td>\n",
       "      <td>7.0</td>\n",
       "    </tr>\n",
       "    <tr>\n",
       "      <th>39</th>\n",
       "      <td>Rhode Island</td>\n",
       "      <td>15.0</td>\n",
       "    </tr>\n",
       "    <tr>\n",
       "      <th>29</th>\n",
       "      <td>New Hampshire</td>\n",
       "      <td>16.0</td>\n",
       "    </tr>\n",
       "    <tr>\n",
       "      <th>7</th>\n",
       "      <td>Delaware</td>\n",
       "      <td>17.0</td>\n",
       "    </tr>\n",
       "    <tr>\n",
       "      <th>38</th>\n",
       "      <td>Pennsylvania</td>\n",
       "      <td>20.0</td>\n",
       "    </tr>\n",
       "  </tbody>\n",
       "</table>\n",
       "</div>"
      ],
      "text/plain": [
       "            state  act18_partn\n",
       "19          Maine          7.0\n",
       "39   Rhode Island         15.0\n",
       "29  New Hampshire         16.0\n",
       "7        Delaware         17.0\n",
       "38   Pennsylvania         20.0"
      ]
     },
     "execution_count": 311,
     "metadata": {},
     "output_type": "execute_result"
    }
   ],
   "source": [
    "df_final[['state','act18_partn']].sort_values('act18_partn').head()"
   ]
  },
  {
   "cell_type": "markdown",
   "metadata": {},
   "source": [
    "### Mean total/composite scores"
   ]
  },
  {
   "cell_type": "markdown",
   "metadata": {},
   "source": [
    "##### States with highest mean total scores for 2017 SAT"
   ]
  },
  {
   "cell_type": "code",
   "execution_count": 312,
   "metadata": {},
   "outputs": [
    {
     "data": {
      "text/html": [
       "<div>\n",
       "<style scoped>\n",
       "    .dataframe tbody tr th:only-of-type {\n",
       "        vertical-align: middle;\n",
       "    }\n",
       "\n",
       "    .dataframe tbody tr th {\n",
       "        vertical-align: top;\n",
       "    }\n",
       "\n",
       "    .dataframe thead th {\n",
       "        text-align: right;\n",
       "    }\n",
       "</style>\n",
       "<table border=\"1\" class=\"dataframe\">\n",
       "  <thead>\n",
       "    <tr style=\"text-align: right;\">\n",
       "      <th></th>\n",
       "      <th>state</th>\n",
       "      <th>sat17_total</th>\n",
       "    </tr>\n",
       "  </thead>\n",
       "  <tbody>\n",
       "    <tr>\n",
       "      <th>23</th>\n",
       "      <td>Minnesota</td>\n",
       "      <td>1295.0</td>\n",
       "    </tr>\n",
       "    <tr>\n",
       "      <th>49</th>\n",
       "      <td>Wisconsin</td>\n",
       "      <td>1291.0</td>\n",
       "    </tr>\n",
       "    <tr>\n",
       "      <th>15</th>\n",
       "      <td>Iowa</td>\n",
       "      <td>1275.0</td>\n",
       "    </tr>\n",
       "    <tr>\n",
       "      <th>25</th>\n",
       "      <td>Missouri</td>\n",
       "      <td>1271.0</td>\n",
       "    </tr>\n",
       "    <tr>\n",
       "      <th>16</th>\n",
       "      <td>Kansas</td>\n",
       "      <td>1260.0</td>\n",
       "    </tr>\n",
       "  </tbody>\n",
       "</table>\n",
       "</div>"
      ],
      "text/plain": [
       "        state  sat17_total\n",
       "23  Minnesota       1295.0\n",
       "49  Wisconsin       1291.0\n",
       "15       Iowa       1275.0\n",
       "25   Missouri       1271.0\n",
       "16     Kansas       1260.0"
      ]
     },
     "execution_count": 312,
     "metadata": {},
     "output_type": "execute_result"
    }
   ],
   "source": [
    "df_final[['state','sat17_total']].sort_values('sat17_total',ascending=False).head()"
   ]
  },
  {
   "cell_type": "markdown",
   "metadata": {},
   "source": [
    "##### States with lowest mean total scores for 2017 SAT"
   ]
  },
  {
   "cell_type": "code",
   "execution_count": 313,
   "metadata": {},
   "outputs": [
    {
     "data": {
      "text/html": [
       "<div>\n",
       "<style scoped>\n",
       "    .dataframe tbody tr th:only-of-type {\n",
       "        vertical-align: middle;\n",
       "    }\n",
       "\n",
       "    .dataframe tbody tr th {\n",
       "        vertical-align: top;\n",
       "    }\n",
       "\n",
       "    .dataframe thead th {\n",
       "        text-align: right;\n",
       "    }\n",
       "</style>\n",
       "<table border=\"1\" class=\"dataframe\">\n",
       "  <thead>\n",
       "    <tr style=\"text-align: right;\">\n",
       "      <th></th>\n",
       "      <th>state</th>\n",
       "      <th>sat17_total</th>\n",
       "    </tr>\n",
       "  </thead>\n",
       "  <tbody>\n",
       "    <tr>\n",
       "      <th>8</th>\n",
       "      <td>District of Columbia</td>\n",
       "      <td>950.0</td>\n",
       "    </tr>\n",
       "    <tr>\n",
       "      <th>7</th>\n",
       "      <td>Delaware</td>\n",
       "      <td>996.0</td>\n",
       "    </tr>\n",
       "    <tr>\n",
       "      <th>12</th>\n",
       "      <td>Idaho</td>\n",
       "      <td>1005.0</td>\n",
       "    </tr>\n",
       "    <tr>\n",
       "      <th>22</th>\n",
       "      <td>Michigan</td>\n",
       "      <td>1005.0</td>\n",
       "    </tr>\n",
       "    <tr>\n",
       "      <th>19</th>\n",
       "      <td>Maine</td>\n",
       "      <td>1012.0</td>\n",
       "    </tr>\n",
       "  </tbody>\n",
       "</table>\n",
       "</div>"
      ],
      "text/plain": [
       "                   state  sat17_total\n",
       "8   District of Columbia        950.0\n",
       "7               Delaware        996.0\n",
       "12                 Idaho       1005.0\n",
       "22              Michigan       1005.0\n",
       "19                 Maine       1012.0"
      ]
     },
     "execution_count": 313,
     "metadata": {},
     "output_type": "execute_result"
    }
   ],
   "source": [
    "df_final[['state','sat17_total']].sort_values('sat17_total').head()"
   ]
  },
  {
   "cell_type": "markdown",
   "metadata": {},
   "source": [
    "##### States with highest mean total scores for 2018 SAT"
   ]
  },
  {
   "cell_type": "code",
   "execution_count": 314,
   "metadata": {},
   "outputs": [
    {
     "data": {
      "text/html": [
       "<div>\n",
       "<style scoped>\n",
       "    .dataframe tbody tr th:only-of-type {\n",
       "        vertical-align: middle;\n",
       "    }\n",
       "\n",
       "    .dataframe tbody tr th {\n",
       "        vertical-align: top;\n",
       "    }\n",
       "\n",
       "    .dataframe thead th {\n",
       "        text-align: right;\n",
       "    }\n",
       "</style>\n",
       "<table border=\"1\" class=\"dataframe\">\n",
       "  <thead>\n",
       "    <tr style=\"text-align: right;\">\n",
       "      <th></th>\n",
       "      <th>state</th>\n",
       "      <th>sat18_total</th>\n",
       "    </tr>\n",
       "  </thead>\n",
       "  <tbody>\n",
       "    <tr>\n",
       "      <th>23</th>\n",
       "      <td>Minnesota</td>\n",
       "      <td>1298.0</td>\n",
       "    </tr>\n",
       "    <tr>\n",
       "      <th>49</th>\n",
       "      <td>Wisconsin</td>\n",
       "      <td>1294.0</td>\n",
       "    </tr>\n",
       "    <tr>\n",
       "      <th>34</th>\n",
       "      <td>North Dakota</td>\n",
       "      <td>1283.0</td>\n",
       "    </tr>\n",
       "    <tr>\n",
       "      <th>15</th>\n",
       "      <td>Iowa</td>\n",
       "      <td>1265.0</td>\n",
       "    </tr>\n",
       "    <tr>\n",
       "      <th>16</th>\n",
       "      <td>Kansas</td>\n",
       "      <td>1265.0</td>\n",
       "    </tr>\n",
       "  </tbody>\n",
       "</table>\n",
       "</div>"
      ],
      "text/plain": [
       "           state  sat18_total\n",
       "23     Minnesota       1298.0\n",
       "49     Wisconsin       1294.0\n",
       "34  North Dakota       1283.0\n",
       "15          Iowa       1265.0\n",
       "16        Kansas       1265.0"
      ]
     },
     "execution_count": 314,
     "metadata": {},
     "output_type": "execute_result"
    }
   ],
   "source": [
    "df_final[['state','sat18_total']].sort_values('sat18_total',ascending=False).head()"
   ]
  },
  {
   "cell_type": "markdown",
   "metadata": {},
   "source": [
    "##### States with lowest mean total scores for 2018 SAT"
   ]
  },
  {
   "cell_type": "code",
   "execution_count": 315,
   "metadata": {},
   "outputs": [
    {
     "data": {
      "text/html": [
       "<div>\n",
       "<style scoped>\n",
       "    .dataframe tbody tr th:only-of-type {\n",
       "        vertical-align: middle;\n",
       "    }\n",
       "\n",
       "    .dataframe tbody tr th {\n",
       "        vertical-align: top;\n",
       "    }\n",
       "\n",
       "    .dataframe thead th {\n",
       "        text-align: right;\n",
       "    }\n",
       "</style>\n",
       "<table border=\"1\" class=\"dataframe\">\n",
       "  <thead>\n",
       "    <tr style=\"text-align: right;\">\n",
       "      <th></th>\n",
       "      <th>state</th>\n",
       "      <th>sat18_total</th>\n",
       "    </tr>\n",
       "  </thead>\n",
       "  <tbody>\n",
       "    <tr>\n",
       "      <th>8</th>\n",
       "      <td>District of Columbia</td>\n",
       "      <td>977.0</td>\n",
       "    </tr>\n",
       "    <tr>\n",
       "      <th>7</th>\n",
       "      <td>Delaware</td>\n",
       "      <td>998.0</td>\n",
       "    </tr>\n",
       "    <tr>\n",
       "      <th>48</th>\n",
       "      <td>West Virginia</td>\n",
       "      <td>999.0</td>\n",
       "    </tr>\n",
       "    <tr>\n",
       "      <th>12</th>\n",
       "      <td>Idaho</td>\n",
       "      <td>1001.0</td>\n",
       "    </tr>\n",
       "    <tr>\n",
       "      <th>44</th>\n",
       "      <td>Utah</td>\n",
       "      <td>1010.0</td>\n",
       "    </tr>\n",
       "  </tbody>\n",
       "</table>\n",
       "</div>"
      ],
      "text/plain": [
       "                   state  sat18_total\n",
       "8   District of Columbia        977.0\n",
       "7               Delaware        998.0\n",
       "48         West Virginia        999.0\n",
       "12                 Idaho       1001.0\n",
       "44                  Utah       1010.0"
      ]
     },
     "execution_count": 315,
     "metadata": {},
     "output_type": "execute_result"
    }
   ],
   "source": [
    "df_final[['state','sat18_total']].sort_values('sat18_total').head()"
   ]
  },
  {
   "cell_type": "markdown",
   "metadata": {},
   "source": [
    "##### States with highest mean composite scores for 2017 ACT"
   ]
  },
  {
   "cell_type": "code",
   "execution_count": 316,
   "metadata": {},
   "outputs": [
    {
     "data": {
      "text/html": [
       "<div>\n",
       "<style scoped>\n",
       "    .dataframe tbody tr th:only-of-type {\n",
       "        vertical-align: middle;\n",
       "    }\n",
       "\n",
       "    .dataframe tbody tr th {\n",
       "        vertical-align: top;\n",
       "    }\n",
       "\n",
       "    .dataframe thead th {\n",
       "        text-align: right;\n",
       "    }\n",
       "</style>\n",
       "<table border=\"1\" class=\"dataframe\">\n",
       "  <thead>\n",
       "    <tr style=\"text-align: right;\">\n",
       "      <th></th>\n",
       "      <th>state</th>\n",
       "      <th>act17_comp</th>\n",
       "    </tr>\n",
       "  </thead>\n",
       "  <tbody>\n",
       "    <tr>\n",
       "      <th>29</th>\n",
       "      <td>New Hampshire</td>\n",
       "      <td>25.5</td>\n",
       "    </tr>\n",
       "    <tr>\n",
       "      <th>21</th>\n",
       "      <td>Massachusetts</td>\n",
       "      <td>25.4</td>\n",
       "    </tr>\n",
       "    <tr>\n",
       "      <th>6</th>\n",
       "      <td>Connecticut</td>\n",
       "      <td>25.2</td>\n",
       "    </tr>\n",
       "    <tr>\n",
       "      <th>19</th>\n",
       "      <td>Maine</td>\n",
       "      <td>24.3</td>\n",
       "    </tr>\n",
       "    <tr>\n",
       "      <th>8</th>\n",
       "      <td>District of Columbia</td>\n",
       "      <td>24.2</td>\n",
       "    </tr>\n",
       "  </tbody>\n",
       "</table>\n",
       "</div>"
      ],
      "text/plain": [
       "                   state  act17_comp\n",
       "29         New Hampshire        25.5\n",
       "21         Massachusetts        25.4\n",
       "6            Connecticut        25.2\n",
       "19                 Maine        24.3\n",
       "8   District of Columbia        24.2"
      ]
     },
     "execution_count": 316,
     "metadata": {},
     "output_type": "execute_result"
    }
   ],
   "source": [
    "df_final[['state','act17_comp']].sort_values('act17_comp',ascending=False).head()"
   ]
  },
  {
   "cell_type": "markdown",
   "metadata": {},
   "source": [
    "##### States with lowest mean composite scores for 2017 ACT"
   ]
  },
  {
   "cell_type": "code",
   "execution_count": 317,
   "metadata": {},
   "outputs": [
    {
     "data": {
      "text/html": [
       "<div>\n",
       "<style scoped>\n",
       "    .dataframe tbody tr th:only-of-type {\n",
       "        vertical-align: middle;\n",
       "    }\n",
       "\n",
       "    .dataframe tbody tr th {\n",
       "        vertical-align: top;\n",
       "    }\n",
       "\n",
       "    .dataframe thead th {\n",
       "        text-align: right;\n",
       "    }\n",
       "</style>\n",
       "<table border=\"1\" class=\"dataframe\">\n",
       "  <thead>\n",
       "    <tr style=\"text-align: right;\">\n",
       "      <th></th>\n",
       "      <th>state</th>\n",
       "      <th>act17_comp</th>\n",
       "    </tr>\n",
       "  </thead>\n",
       "  <tbody>\n",
       "    <tr>\n",
       "      <th>28</th>\n",
       "      <td>Nevada</td>\n",
       "      <td>17.8</td>\n",
       "    </tr>\n",
       "    <tr>\n",
       "      <th>24</th>\n",
       "      <td>Mississippi</td>\n",
       "      <td>18.6</td>\n",
       "    </tr>\n",
       "    <tr>\n",
       "      <th>40</th>\n",
       "      <td>South Carolina</td>\n",
       "      <td>18.7</td>\n",
       "    </tr>\n",
       "    <tr>\n",
       "      <th>11</th>\n",
       "      <td>Hawaii</td>\n",
       "      <td>19.0</td>\n",
       "    </tr>\n",
       "    <tr>\n",
       "      <th>33</th>\n",
       "      <td>North Carolina</td>\n",
       "      <td>19.1</td>\n",
       "    </tr>\n",
       "  </tbody>\n",
       "</table>\n",
       "</div>"
      ],
      "text/plain": [
       "             state  act17_comp\n",
       "28          Nevada        17.8\n",
       "24     Mississippi        18.6\n",
       "40  South Carolina        18.7\n",
       "11          Hawaii        19.0\n",
       "33  North Carolina        19.1"
      ]
     },
     "execution_count": 317,
     "metadata": {},
     "output_type": "execute_result"
    }
   ],
   "source": [
    "df_final[['state','act17_comp']].sort_values('act17_comp').head()"
   ]
  },
  {
   "cell_type": "markdown",
   "metadata": {},
   "source": [
    "##### States with highest mean composite scores for 2018 ACT"
   ]
  },
  {
   "cell_type": "code",
   "execution_count": 318,
   "metadata": {},
   "outputs": [
    {
     "data": {
      "text/html": [
       "<div>\n",
       "<style scoped>\n",
       "    .dataframe tbody tr th:only-of-type {\n",
       "        vertical-align: middle;\n",
       "    }\n",
       "\n",
       "    .dataframe tbody tr th {\n",
       "        vertical-align: top;\n",
       "    }\n",
       "\n",
       "    .dataframe thead th {\n",
       "        text-align: right;\n",
       "    }\n",
       "</style>\n",
       "<table border=\"1\" class=\"dataframe\">\n",
       "  <thead>\n",
       "    <tr style=\"text-align: right;\">\n",
       "      <th></th>\n",
       "      <th>state</th>\n",
       "      <th>act18_comp</th>\n",
       "    </tr>\n",
       "  </thead>\n",
       "  <tbody>\n",
       "    <tr>\n",
       "      <th>6</th>\n",
       "      <td>Connecticut</td>\n",
       "      <td>25.6</td>\n",
       "    </tr>\n",
       "    <tr>\n",
       "      <th>21</th>\n",
       "      <td>Massachusetts</td>\n",
       "      <td>25.5</td>\n",
       "    </tr>\n",
       "    <tr>\n",
       "      <th>29</th>\n",
       "      <td>New Hampshire</td>\n",
       "      <td>25.1</td>\n",
       "    </tr>\n",
       "    <tr>\n",
       "      <th>32</th>\n",
       "      <td>New York</td>\n",
       "      <td>24.5</td>\n",
       "    </tr>\n",
       "    <tr>\n",
       "      <th>22</th>\n",
       "      <td>Michigan</td>\n",
       "      <td>24.4</td>\n",
       "    </tr>\n",
       "  </tbody>\n",
       "</table>\n",
       "</div>"
      ],
      "text/plain": [
       "            state  act18_comp\n",
       "6     Connecticut        25.6\n",
       "21  Massachusetts        25.5\n",
       "29  New Hampshire        25.1\n",
       "32       New York        24.5\n",
       "22       Michigan        24.4"
      ]
     },
     "execution_count": 318,
     "metadata": {},
     "output_type": "execute_result"
    }
   ],
   "source": [
    "df_final[['state','act18_comp']].sort_values('act18_comp',ascending=False).head()"
   ]
  },
  {
   "cell_type": "markdown",
   "metadata": {},
   "source": [
    "##### States with lowest mean composite scores for 2018 ACT"
   ]
  },
  {
   "cell_type": "code",
   "execution_count": 319,
   "metadata": {},
   "outputs": [
    {
     "data": {
      "text/html": [
       "<div>\n",
       "<style scoped>\n",
       "    .dataframe tbody tr th:only-of-type {\n",
       "        vertical-align: middle;\n",
       "    }\n",
       "\n",
       "    .dataframe tbody tr th {\n",
       "        vertical-align: top;\n",
       "    }\n",
       "\n",
       "    .dataframe thead th {\n",
       "        text-align: right;\n",
       "    }\n",
       "</style>\n",
       "<table border=\"1\" class=\"dataframe\">\n",
       "  <thead>\n",
       "    <tr style=\"text-align: right;\">\n",
       "      <th></th>\n",
       "      <th>state</th>\n",
       "      <th>act18_comp</th>\n",
       "    </tr>\n",
       "  </thead>\n",
       "  <tbody>\n",
       "    <tr>\n",
       "      <th>28</th>\n",
       "      <td>Nevada</td>\n",
       "      <td>17.7</td>\n",
       "    </tr>\n",
       "    <tr>\n",
       "      <th>40</th>\n",
       "      <td>South Carolina</td>\n",
       "      <td>18.3</td>\n",
       "    </tr>\n",
       "    <tr>\n",
       "      <th>24</th>\n",
       "      <td>Mississippi</td>\n",
       "      <td>18.6</td>\n",
       "    </tr>\n",
       "    <tr>\n",
       "      <th>11</th>\n",
       "      <td>Hawaii</td>\n",
       "      <td>18.9</td>\n",
       "    </tr>\n",
       "    <tr>\n",
       "      <th>0</th>\n",
       "      <td>Alabama</td>\n",
       "      <td>19.1</td>\n",
       "    </tr>\n",
       "  </tbody>\n",
       "</table>\n",
       "</div>"
      ],
      "text/plain": [
       "             state  act18_comp\n",
       "28          Nevada        17.7\n",
       "40  South Carolina        18.3\n",
       "24     Mississippi        18.6\n",
       "11          Hawaii        18.9\n",
       "0          Alabama        19.1"
      ]
     },
     "execution_count": 319,
     "metadata": {},
     "output_type": "execute_result"
    }
   ],
   "source": [
    "df_final[['state','act18_comp']].sort_values('act18_comp').head()"
   ]
  },
  {
   "cell_type": "markdown",
   "metadata": {},
   "source": [
    "### Year-to-year change for states with 100% participation"
   ]
  },
  {
   "cell_type": "markdown",
   "metadata": {},
   "source": [
    "##### Average SAT total scores for States with 100% participation on both years"
   ]
  },
  {
   "cell_type": "code",
   "execution_count": 320,
   "metadata": {
    "scrolled": true
   },
   "outputs": [
    {
     "data": {
      "text/html": [
       "<div>\n",
       "<style scoped>\n",
       "    .dataframe tbody tr th:only-of-type {\n",
       "        vertical-align: middle;\n",
       "    }\n",
       "\n",
       "    .dataframe tbody tr th {\n",
       "        vertical-align: top;\n",
       "    }\n",
       "\n",
       "    .dataframe thead th {\n",
       "        text-align: right;\n",
       "    }\n",
       "</style>\n",
       "<table border=\"1\" class=\"dataframe\">\n",
       "  <thead>\n",
       "    <tr style=\"text-align: right;\">\n",
       "      <th></th>\n",
       "      <th>state</th>\n",
       "      <th>sat17_total</th>\n",
       "      <th>sat18_total</th>\n",
       "    </tr>\n",
       "  </thead>\n",
       "  <tbody>\n",
       "    <tr>\n",
       "      <th>6</th>\n",
       "      <td>Connecticut</td>\n",
       "      <td>1041.0</td>\n",
       "      <td>1053.0</td>\n",
       "    </tr>\n",
       "    <tr>\n",
       "      <th>7</th>\n",
       "      <td>Delaware</td>\n",
       "      <td>996.0</td>\n",
       "      <td>998.0</td>\n",
       "    </tr>\n",
       "    <tr>\n",
       "      <th>22</th>\n",
       "      <td>Michigan</td>\n",
       "      <td>1005.0</td>\n",
       "      <td>1011.0</td>\n",
       "    </tr>\n",
       "  </tbody>\n",
       "</table>\n",
       "</div>"
      ],
      "text/plain": [
       "          state  sat17_total  sat18_total\n",
       "6   Connecticut       1041.0       1053.0\n",
       "7      Delaware        996.0        998.0\n",
       "22     Michigan       1005.0       1011.0"
      ]
     },
     "execution_count": 320,
     "metadata": {},
     "output_type": "execute_result"
    }
   ],
   "source": [
    "df_final[['state','sat17_total','sat18_total']][(df_final['sat17_partn']==100)&(df_final['sat18_partn']==100)]"
   ]
  },
  {
   "cell_type": "markdown",
   "metadata": {},
   "source": [
    "##### Average ACT composite scores for States with 100% participation on both years"
   ]
  },
  {
   "cell_type": "code",
   "execution_count": 321,
   "metadata": {},
   "outputs": [
    {
     "data": {
      "text/html": [
       "<div>\n",
       "<style scoped>\n",
       "    .dataframe tbody tr th:only-of-type {\n",
       "        vertical-align: middle;\n",
       "    }\n",
       "\n",
       "    .dataframe tbody tr th {\n",
       "        vertical-align: top;\n",
       "    }\n",
       "\n",
       "    .dataframe thead th {\n",
       "        text-align: right;\n",
       "    }\n",
       "</style>\n",
       "<table border=\"1\" class=\"dataframe\">\n",
       "  <thead>\n",
       "    <tr style=\"text-align: right;\">\n",
       "      <th></th>\n",
       "      <th>state</th>\n",
       "      <th>act17_comp</th>\n",
       "      <th>act18_comp</th>\n",
       "    </tr>\n",
       "  </thead>\n",
       "  <tbody>\n",
       "    <tr>\n",
       "      <th>0</th>\n",
       "      <td>Alabama</td>\n",
       "      <td>19.2</td>\n",
       "      <td>19.1</td>\n",
       "    </tr>\n",
       "    <tr>\n",
       "      <th>3</th>\n",
       "      <td>Arkansas</td>\n",
       "      <td>19.4</td>\n",
       "      <td>19.4</td>\n",
       "    </tr>\n",
       "    <tr>\n",
       "      <th>17</th>\n",
       "      <td>Kentucky</td>\n",
       "      <td>20.0</td>\n",
       "      <td>20.2</td>\n",
       "    </tr>\n",
       "    <tr>\n",
       "      <th>18</th>\n",
       "      <td>Louisiana</td>\n",
       "      <td>19.5</td>\n",
       "      <td>19.2</td>\n",
       "    </tr>\n",
       "    <tr>\n",
       "      <th>24</th>\n",
       "      <td>Mississippi</td>\n",
       "      <td>18.6</td>\n",
       "      <td>18.6</td>\n",
       "    </tr>\n",
       "    <tr>\n",
       "      <th>25</th>\n",
       "      <td>Missouri</td>\n",
       "      <td>20.4</td>\n",
       "      <td>20.0</td>\n",
       "    </tr>\n",
       "    <tr>\n",
       "      <th>26</th>\n",
       "      <td>Montana</td>\n",
       "      <td>20.3</td>\n",
       "      <td>20.0</td>\n",
       "    </tr>\n",
       "    <tr>\n",
       "      <th>28</th>\n",
       "      <td>Nevada</td>\n",
       "      <td>17.8</td>\n",
       "      <td>17.7</td>\n",
       "    </tr>\n",
       "    <tr>\n",
       "      <th>33</th>\n",
       "      <td>North Carolina</td>\n",
       "      <td>19.1</td>\n",
       "      <td>19.1</td>\n",
       "    </tr>\n",
       "    <tr>\n",
       "      <th>36</th>\n",
       "      <td>Oklahoma</td>\n",
       "      <td>19.4</td>\n",
       "      <td>19.3</td>\n",
       "    </tr>\n",
       "    <tr>\n",
       "      <th>40</th>\n",
       "      <td>South Carolina</td>\n",
       "      <td>18.7</td>\n",
       "      <td>18.3</td>\n",
       "    </tr>\n",
       "    <tr>\n",
       "      <th>42</th>\n",
       "      <td>Tennessee</td>\n",
       "      <td>19.8</td>\n",
       "      <td>19.6</td>\n",
       "    </tr>\n",
       "    <tr>\n",
       "      <th>44</th>\n",
       "      <td>Utah</td>\n",
       "      <td>20.3</td>\n",
       "      <td>20.4</td>\n",
       "    </tr>\n",
       "    <tr>\n",
       "      <th>49</th>\n",
       "      <td>Wisconsin</td>\n",
       "      <td>20.5</td>\n",
       "      <td>20.5</td>\n",
       "    </tr>\n",
       "    <tr>\n",
       "      <th>50</th>\n",
       "      <td>Wyoming</td>\n",
       "      <td>20.2</td>\n",
       "      <td>20.0</td>\n",
       "    </tr>\n",
       "  </tbody>\n",
       "</table>\n",
       "</div>"
      ],
      "text/plain": [
       "             state  act17_comp  act18_comp\n",
       "0          Alabama        19.2        19.1\n",
       "3         Arkansas        19.4        19.4\n",
       "17        Kentucky        20.0        20.2\n",
       "18       Louisiana        19.5        19.2\n",
       "24     Mississippi        18.6        18.6\n",
       "25        Missouri        20.4        20.0\n",
       "26         Montana        20.3        20.0\n",
       "28          Nevada        17.8        17.7\n",
       "33  North Carolina        19.1        19.1\n",
       "36        Oklahoma        19.4        19.3\n",
       "40  South Carolina        18.7        18.3\n",
       "42       Tennessee        19.8        19.6\n",
       "44            Utah        20.3        20.4\n",
       "49       Wisconsin        20.5        20.5\n",
       "50         Wyoming        20.2        20.0"
      ]
     },
     "execution_count": 321,
     "metadata": {},
     "output_type": "execute_result"
    }
   ],
   "source": [
    "df_final[['state','act17_comp','act18_comp']][(df_final['act17_partn']==100)&(df_final['act18_partn']==100)]"
   ]
  },
  {
   "cell_type": "markdown",
   "metadata": {},
   "source": [
    "Based on the tables above, states with 100% participation on both years on either tests does not show any significant year-to-year change.\n",
    "\n",
    "These numbers show that with 100% participation, the mean total or composite scores for both tests are still not significantly better than the states with the lowest scores and significantly lower than the states with the highest scores."
   ]
  },
  {
   "cell_type": "markdown",
   "metadata": {},
   "source": [
    "### States with > 50% participation on both tests on either year"
   ]
  },
  {
   "cell_type": "markdown",
   "metadata": {},
   "source": [
    "##### States in 2017 that has > 50% participation on both tests"
   ]
  },
  {
   "cell_type": "code",
   "execution_count": 322,
   "metadata": {},
   "outputs": [
    {
     "data": {
      "text/html": [
       "<div>\n",
       "<style scoped>\n",
       "    .dataframe tbody tr th:only-of-type {\n",
       "        vertical-align: middle;\n",
       "    }\n",
       "\n",
       "    .dataframe tbody tr th {\n",
       "        vertical-align: top;\n",
       "    }\n",
       "\n",
       "    .dataframe thead th {\n",
       "        text-align: right;\n",
       "    }\n",
       "</style>\n",
       "<table border=\"1\" class=\"dataframe\">\n",
       "  <thead>\n",
       "    <tr style=\"text-align: right;\">\n",
       "      <th></th>\n",
       "      <th>state</th>\n",
       "      <th>sat17_partn</th>\n",
       "      <th>act17_partn</th>\n",
       "    </tr>\n",
       "  </thead>\n",
       "  <tbody>\n",
       "    <tr>\n",
       "      <th>9</th>\n",
       "      <td>Florida</td>\n",
       "      <td>83.0</td>\n",
       "      <td>73.0</td>\n",
       "    </tr>\n",
       "    <tr>\n",
       "      <th>10</th>\n",
       "      <td>Georgia</td>\n",
       "      <td>61.0</td>\n",
       "      <td>55.0</td>\n",
       "    </tr>\n",
       "    <tr>\n",
       "      <th>11</th>\n",
       "      <td>Hawaii</td>\n",
       "      <td>55.0</td>\n",
       "      <td>90.0</td>\n",
       "    </tr>\n",
       "  </tbody>\n",
       "</table>\n",
       "</div>"
      ],
      "text/plain": [
       "      state  sat17_partn  act17_partn\n",
       "9   Florida         83.0         73.0\n",
       "10  Georgia         61.0         55.0\n",
       "11   Hawaii         55.0         90.0"
      ]
     },
     "execution_count": 322,
     "metadata": {},
     "output_type": "execute_result"
    }
   ],
   "source": [
    "df_final[['state','sat17_partn','act17_partn']][(df_final['sat17_partn']>50)&(df_final['act17_partn']>50)]"
   ]
  },
  {
   "cell_type": "markdown",
   "metadata": {},
   "source": [
    "##### States in 2018 that has > 50% participation on both tests"
   ]
  },
  {
   "cell_type": "code",
   "execution_count": 323,
   "metadata": {},
   "outputs": [
    {
     "data": {
      "text/html": [
       "<div>\n",
       "<style scoped>\n",
       "    .dataframe tbody tr th:only-of-type {\n",
       "        vertical-align: middle;\n",
       "    }\n",
       "\n",
       "    .dataframe tbody tr th {\n",
       "        vertical-align: top;\n",
       "    }\n",
       "\n",
       "    .dataframe thead th {\n",
       "        text-align: right;\n",
       "    }\n",
       "</style>\n",
       "<table border=\"1\" class=\"dataframe\">\n",
       "  <thead>\n",
       "    <tr style=\"text-align: right;\">\n",
       "      <th></th>\n",
       "      <th>state</th>\n",
       "      <th>sat18_partn</th>\n",
       "      <th>act18_partn</th>\n",
       "    </tr>\n",
       "  </thead>\n",
       "  <tbody>\n",
       "    <tr>\n",
       "      <th>9</th>\n",
       "      <td>Florida</td>\n",
       "      <td>56.0</td>\n",
       "      <td>66.0</td>\n",
       "    </tr>\n",
       "    <tr>\n",
       "      <th>10</th>\n",
       "      <td>Georgia</td>\n",
       "      <td>70.0</td>\n",
       "      <td>53.0</td>\n",
       "    </tr>\n",
       "    <tr>\n",
       "      <th>11</th>\n",
       "      <td>Hawaii</td>\n",
       "      <td>56.0</td>\n",
       "      <td>89.0</td>\n",
       "    </tr>\n",
       "    <tr>\n",
       "      <th>33</th>\n",
       "      <td>North Carolina</td>\n",
       "      <td>52.0</td>\n",
       "      <td>100.0</td>\n",
       "    </tr>\n",
       "    <tr>\n",
       "      <th>40</th>\n",
       "      <td>South Carolina</td>\n",
       "      <td>55.0</td>\n",
       "      <td>100.0</td>\n",
       "    </tr>\n",
       "  </tbody>\n",
       "</table>\n",
       "</div>"
      ],
      "text/plain": [
       "             state  sat18_partn  act18_partn\n",
       "9          Florida         56.0         66.0\n",
       "10         Georgia         70.0         53.0\n",
       "11          Hawaii         56.0         89.0\n",
       "33  North Carolina         52.0        100.0\n",
       "40  South Carolina         55.0        100.0"
      ]
     },
     "execution_count": 323,
     "metadata": {},
     "output_type": "execute_result"
    }
   ],
   "source": [
    "df_final[['state','sat18_partn','act18_partn']][(df_final['sat18_partn']>50)&(df_final['act18_partn']>50)]"
   ]
  },
  {
   "cell_type": "markdown",
   "metadata": {},
   "source": [
    "The tables above show that Florida, Georgia and Hawaii has more than 50% participation on boths tests on both years."
   ]
  },
  {
   "cell_type": "markdown",
   "metadata": {},
   "source": [
    "Based on the tabulated data above, the states below are of interest:\n",
    "\n",
    "- Delaware has high participation rates in SAT in both years, but is also one of the lowest SAT scoring in both years. It has one of the lowest ACT participation rates in both years, but is not in the highest nor lowest in terms of ACT scores.\n",
    "\n",
    "- Wisconsin has one of the lowest SAT particpation rate in 2018, but is one of the highest SAT scoring in both years. It has one of the highest ACT participation rate in 2017, but is not seen in the top 5 highest nor lowest in terms of ACT scores.\n",
    "\n",
    "- Delaware and Winconsin are almost like mirrors of one another, hinting at some relationship between SAT participation rates and mean scores.\n",
    "\n",
    "- New Hampshire has one of the lowest ACT participation rates in both years, but also one of the highest ACT scores on both years.\n",
    "\n",
    "- New Hampshire continues to display a similar kind of relationship in the ACT tests.\n",
    "\n",
    "- Hawaii is interesting, being the only state in the list that consistently has more than 50% participation in both tests in both years. It shows up as one of the states with the lowest mean total score for 2018 ACT.\n",
    "\n",
    "- The data seems to suggest that participation rates are inversely correlated with the mean total/composite scores."
   ]
  },
  {
   "cell_type": "markdown",
   "metadata": {},
   "source": [
    "|Participation rates           |2017 SAT|2018 SAT|2017 ACT|2018 ACT|\n",
    "|:------------:|:------------:|:------------:|:------------:|:------------:|\n",
    "|Highest|District of Columbia <br /> Michigan <br /> Connecticut <br /> Delaware <br /> New Hampshire|Colorado <br /> Connecticut <br /> Delaware <br /> Michigan <br /> Idaho| Alabama<br />Kentucky<br />Wisconsin<br />Utah<br />Tennessee | Alabama<br />Kentucky<br />Wisconsin<br />Utah<br />Tennessee |\n",
    "|Lowest|North Dakota<br />Mississippi<br />Iowa<br />Missouri<br />Utah|North Dakota<br />Wyoming<br />South Dakota<br />Nebraska<br />Wisconsin|Maine<br />New Hampshire<br />Delaware<br />Rhode Island<br />Pennsylvania|Maine<br />Rhode Island<br />New Hampshire<br />Delaware<br />Pennsylvania|\n",
    "\n",
    "|Mean total scores          |2017 SAT|2018 SAT|2017 ACT|2018 ACT|\n",
    "|:------------:|:------------:|:------------:|:------------:|:------------:|\n",
    "|Highest|Minnesota<br />Wisconsin<br />Iowa<br />Missouri<br />Kansas|Minnesota<br />Wisconsin<br />North Dakota<br />Iowa<br />Kansas|New Hampshire<br />Massachusetts<br />Connecticut<br />Maine<br />District of Columbia|Connecticut<br />Massachusetts<br />New Hampshire<br />New York<br />Michigan |\n",
    "|Lowest|District of Columbia<br />Delaware<br />Idaho<br />Michigan<br />Maine|District of Columbia<br />Delaware<br />West Virginia<br />Idaho<br />Utah|Nevada<br />Mississippi<br />South Carolina\t<br />Hawaii<br />North Carolina|Nevada<br />South Carolina\t<br />Mississippi<br />Hawaii<br />Alabama|"
   ]
  },
  {
   "cell_type": "markdown",
   "metadata": {},
   "source": [
    "## Visualize the data\n",
    "\n",
    "There's not a magic bullet recommendation for the right number of plots to understand a given dataset, but visualizing your data is *always* a good idea. Not only does it allow you to quickly convey your findings (even if you have a non-technical audience), it will often reveal trends in your data that escaped you when you were looking only at numbers.\n",
    "\n",
    "Some recommendations on plotting:\n",
    "- Plots have titles\n",
    "- Plots have axis labels\n",
    "- Plots have appropriate tick labels\n",
    "- All text is legible in a plot\n",
    "- Plots demonstrate meaningful and valid relationships\n",
    "- Plots are interpreted to aid understanding\n",
    "\n",
    "There is such a thing as too many plots, and there are a *lot* of bad plots. You might make some! (But hopefully not with the guided prompts below)."
   ]
  },
  {
   "cell_type": "markdown",
   "metadata": {},
   "source": [
    "#### Use Seaborn's heatmap with pandas `.corr()` to visualize correlations between all numeric features\n",
    "\n",
    "Heatmaps are generally not appropriate for presentations, and should often be excluded from reports as they can be visually overwhelming. **However**, they can be extremely useful in identify relationships of potential interest (as well as identifying potential collinearity before modeling).\n",
    "\n",
    "*example*:\n",
    "```python\n",
    "sns.heatmap(df.corr())\n",
    "```\n",
    "\n",
    "Please take time to format your output, adding a title. Look through some of the additional arguments and options. (Axis labels aren't really necessary, as long as the title is informative)."
   ]
  },
  {
   "cell_type": "code",
   "execution_count": 324,
   "metadata": {},
   "outputs": [
    {
     "data": {
      "image/png": "[encoded data removed]",
      "text/plain": [
       "<Figure size 1152x648 with 2 Axes>"
      ]
     },
     "metadata": {},
     "output_type": "display_data"
    }
   ],
   "source": [
    "plt.style.use('seaborn-white')\n",
    "plt.figure(figsize=(16,9))\n",
    "\n",
    "mask = np.zeros((20,20))\n",
    "mask[np.triu_indices_from(mask)] = True\n",
    "\n",
    "plt.title('Heat map of all variables',size=24, y=1.01)\n",
    "sns.heatmap(df_final.corr(),annot=True,mask=mask);"
   ]
  },
  {
   "cell_type": "markdown",
   "metadata": {},
   "source": [
    "#### Define a custom function to subplot histograms\n",
    "\n",
    "We have data for two tests for two years. We only have composite (and not subtest scores) for the 2018 ACT. We should write a function that will take the names of 2+ columns and subplot histograms. While you can use pandas plotting or Seaborn here, matplotlib gives you greater control over all aspects of your plots.\n",
    "\n",
    "[Helpful Link for Plotting Multiple Figures](https://matplotlib.org/users/pyplot_tutorial.html#working-with-multiple-figures-and-axes)\n",
    "\n",
    "Here's some starter code:"
   ]
  },
  {
   "cell_type": "code",
   "execution_count": 325,
   "metadata": {},
   "outputs": [],
   "source": [
    "def subplot_histograms(dataframe, list_of_columns, list_of_titles, fig_title=None,num_bins=10,fig_ylabel=None, fig_xlabel=None):\n",
    "    '''dataframe : Dataframe to be loaded in\n",
    "    list_of_columns(list['str']) : List of columns to be plotted\n",
    "    list_of_titles(list['str']) : List of titles for each subplot, must match sequence of list_of_columns\n",
    "    fig_title(str, optional) : Figure title\n",
    "    num_bins(int, optional) : Number of bins, default = 10\n",
    "    fig_ylabel(str, optional) : Figure Y axis label\n",
    "    fig_xlabel(str, optional) : Figure X axis label'''\n",
    "    \n",
    "    nrows = int(np.ceil(len(list_of_columns)/2)) # Makes sure you have enough rows\n",
    "    \n",
    "    fig, ax = plt.subplots(nrows=nrows, ncols=2,figsize=(16,9)) # You'll want to specify your figsize\n",
    "    \n",
    "    ax = ax.ravel() # Ravel turns a matrix into a vector, which is easier to iterate\n",
    "    \n",
    "    for i, column in enumerate(list_of_columns): # Gives us an index value to get into all our lists\n",
    "        ax[i].hist(dataframe[column],bins=num_bins) # feel free to add more settings\n",
    "        ax[i].set_title(list_of_titles[i], size=14)\n",
    "            \n",
    "    if fig_title is not None:    \n",
    "        fig.suptitle(fig_title,size=24, y=1.05)\n",
    "    \n",
    "    if fig_ylabel is not None:\n",
    "        fig.add_subplot(111, frameon=False)\n",
    "        plt.tick_params(labelcolor='none', top=False, bottom=False, left=False, right=False)\n",
    "        plt.ylabel(fig_ylabel,size=18)\n",
    "    \n",
    "    if fig_xlabel is not None:\n",
    "        plt.xlabel(fig_xlabel,size=18)\n",
    "        \n",
    "    plt.tight_layout()"
   ]
  },
  {
   "cell_type": "markdown",
   "metadata": {},
   "source": [
    "#### Plot and interpret histograms \n",
    "For each of the following:\n",
    "- Participation rates for SAT & ACT\n",
    "- Math scores for SAT & ACT\n",
    "- Reading/verbal scores for SAT & ACT"
   ]
  },
  {
   "cell_type": "markdown",
   "metadata": {},
   "source": [
    "### Participation rates for SAT & ACT"
   ]
  },
  {
   "cell_type": "code",
   "execution_count": 326,
   "metadata": {},
   "outputs": [
    {
     "data": {
      "image/png": "[encoded data removed]",
      "text/plain": [
       "<Figure size 1152x648 with 5 Axes>"
      ]
     },
     "metadata": {},
     "output_type": "display_data"
    }
   ],
   "source": [
    "list_of_columns = ['sat17_partn','sat18_partn','act17_partn','act18_partn']\n",
    "list_of_titles = ['2017 SAT','2018 SAT','2017 ACT', '2018 ACT']\n",
    "fig_title = ('Histogram of Participation Rates')\n",
    "fig_ylabel = 'Number of states'\n",
    "fig_xlabel = 'Participation Rates in %'\n",
    "subplot_histograms(df_final, list_of_columns, list_of_titles, fig_title=fig_title, fig_ylabel=fig_ylabel,fig_xlabel=fig_xlabel);"
   ]
  },
  {
   "cell_type": "markdown",
   "metadata": {},
   "source": [
    "The histogram shows that that there is a right skew for SAT participation rates and a left skew in ACT participation rates.\n",
    "This means that more states tend to have low participation rates in SAT and high participation rates in ACT."
   ]
  },
  {
   "cell_type": "markdown",
   "metadata": {},
   "source": [
    "### Math scores for SAT & ACT"
   ]
  },
  {
   "cell_type": "code",
   "execution_count": 327,
   "metadata": {},
   "outputs": [
    {
     "data": {
      "image/png": "[encoded data removed]",
      "text/plain": [
       "<Figure size 1152x648 with 5 Axes>"
      ]
     },
     "metadata": {},
     "output_type": "display_data"
    }
   ],
   "source": [
    "list_of_columns = ['sat17_math','sat18_math','act17_math','act18_math']\n",
    "list_of_titles = ['2017 SAT','2018 SAT','2017 ACT', '2018 ACT']\n",
    "fig_title = ('Histogram of Mean Math scores')\n",
    "fig_ylabel = 'Number of states'\n",
    "fig_xlabel = 'Mean Math scores'\n",
    "subplot_histograms(df_final, list_of_columns, list_of_titles, num_bins=20, fig_title=fig_title, fig_ylabel=fig_ylabel,fig_xlabel=fig_xlabel);"
   ]
  },
  {
   "cell_type": "markdown",
   "metadata": {},
   "source": [
    "The histograms all show a slight right skew, which indicates that more states tend to have slightly lower than average scores in Math in boths tests."
   ]
  },
  {
   "cell_type": "markdown",
   "metadata": {},
   "source": [
    "### Reading/verbal scores for SAT & ACT"
   ]
  },
  {
   "cell_type": "code",
   "execution_count": 328,
   "metadata": {},
   "outputs": [
    {
     "data": {
      "image/png": "[encoded data removed]",
      "text/plain": [
       "<Figure size 1152x648 with 5 Axes>"
      ]
     },
     "metadata": {},
     "output_type": "display_data"
    }
   ],
   "source": [
    "list_of_columns = ['sat17_erw','sat18_erw','act17_rdg','act18_rdg']\n",
    "list_of_titles = ['2017 SAT','2018 SAT','2017 ACT', '2018 ACT']\n",
    "fig_title = ('Histogram of Mean Reading or Verbal scores')\n",
    "fig_ylabel = 'Number of states'\n",
    "fig_xlabel = 'Mean Reading scores'\n",
    "subplot_histograms(df_final, list_of_columns, list_of_titles, num_bins=20, fig_title=fig_title, fig_ylabel=fig_ylabel,fig_xlabel=fig_xlabel);"
   ]
  },
  {
   "cell_type": "markdown",
   "metadata": {},
   "source": [
    "The histograms all show a very mild slight left skew, which indicates that more states tend to have average to high scores in Reading or Verbal subjects in boths tests."
   ]
  },
  {
   "cell_type": "markdown",
   "metadata": {},
   "source": [
    "#### Plot and interpret scatter plots\n",
    "\n",
    "For each of the following:\n",
    "- SAT vs. ACT math scores for 2017\n",
    "- SAT vs. ACT verbal/reading scores for 2017\n",
    "- SAT vs. ACT total/composite scores for 2017\n",
    "- Total scores for SAT 2017 vs. 2018\n",
    "- Composite scores for ACT 2017 vs. 2018\n",
    "\n",
    "Plot the two variables against each other using matplotlib or Seaborn\n",
    "\n",
    "Your plots should show:\n",
    "- Two clearly labeled axes\n",
    "- A proper title\n",
    "- Using colors and symbols that are clear and unmistakable\n",
    "\n",
    "**Feel free to write a custom function, and subplot if you'd like.** Functions save both time and space.\n"
   ]
  },
  {
   "cell_type": "code",
   "execution_count": 329,
   "metadata": {},
   "outputs": [],
   "source": [
    "def scatter_plot(dataframe, x_variable,y_variable, fig_title=None,x_label=None, y_label=None):\n",
    "    '''Function to plot scatter plot.\n",
    "    dataframe : Dataframe to be loaded in\n",
    "    x_variable(str) : Variable to be plotted on the x axis\n",
    "    y_variable(str) : Variable to be plotted on the y axis\n",
    "    fig_title(str, optional) : Figure title\n",
    "    x_label(str, optional) : X axis label\n",
    "    y_label(str, optinonal) : Y axis label'''\n",
    "    dataframe.plot(x=x_variable, y=y_variable, kind='scatter',figsize=(16,9));\n",
    "    if fig_title is not None:\n",
    "        plt.title(fig_title,size=24)\n",
    "    if x_label is not None:\n",
    "        plt.xlabel(x_label, size=16);\n",
    "    if y_label is not None:\n",
    "        plt.ylabel(y_label, size=16);\n",
    "   "
   ]
  },
  {
   "cell_type": "markdown",
   "metadata": {},
   "source": [
    "### SAT vs. ACT math scores for 2017"
   ]
  },
  {
   "cell_type": "code",
   "execution_count": 330,
   "metadata": {},
   "outputs": [
    {
     "data": {
      "image/png": "[encoded data removed]",
      "text/plain": [
       "<Figure size 1152x648 with 1 Axes>"
      ]
     },
     "metadata": {},
     "output_type": "display_data"
    }
   ],
   "source": [
    "scatter_plot(df_final, 'act17_math', 'sat17_math','Math Scores for 2017', 'ACT','SAT')"
   ]
  },
  {
   "cell_type": "markdown",
   "metadata": {},
   "source": [
    "The scatterplot above shows that there is a weak negative correlation in Math scores between SAT and ACT in 2017. Most of the plots do not show up at the bottom left or the top right part of the diagram.\n",
    "States that does well in Math in one test tends to perform poorly in Math in the other test."
   ]
  },
  {
   "cell_type": "markdown",
   "metadata": {},
   "source": [
    "### SAT vs. ACT verbal/reading scores for 2017"
   ]
  },
  {
   "cell_type": "code",
   "execution_count": 331,
   "metadata": {},
   "outputs": [
    {
     "data": {
      "image/png": "[encoded data removed]",
      "text/plain": [
       "<Figure size 1152x648 with 1 Axes>"
      ]
     },
     "metadata": {},
     "output_type": "display_data"
    }
   ],
   "source": [
    "scatter_plot(df_final,'act17_rdg','sat17_erw','Verbal/Reading Scores for 2017','ACT','SAT')"
   ]
  },
  {
   "cell_type": "markdown",
   "metadata": {},
   "source": [
    "Similarly to the previous scatterplot, the scatterplot above shows that there is a weak negative correlation in Verbal/Reading scores between SAT and ACT in 2017.\n",
    "States that performs well in Verbal/Reading in one test also tends to perform poorly in Verbal/Reading in the other test."
   ]
  },
  {
   "cell_type": "markdown",
   "metadata": {},
   "source": [
    "### SAT vs. ACT total/composite scores for 2017"
   ]
  },
  {
   "cell_type": "code",
   "execution_count": 332,
   "metadata": {},
   "outputs": [
    {
     "data": {
      "image/png": "[encoded data removed]",
      "text/plain": [
       "<Figure size 1152x648 with 1 Axes>"
      ]
     },
     "metadata": {},
     "output_type": "display_data"
    }
   ],
   "source": [
    "scatter_plot(df_final,'act17_comp','sat17_total','Total/Composite Scores for 2017','ACT','SAT')"
   ]
  },
  {
   "cell_type": "markdown",
   "metadata": {},
   "source": [
    "The scatterplot above shows that there is a weak negative correlation in Total/Composite scores between SAT and ACT in 2017.\n",
    "States that do well in one test tends to perform poorly in the other test."
   ]
  },
  {
   "cell_type": "markdown",
   "metadata": {},
   "source": [
    "### Total scores for SAT 2017 vs. 2018"
   ]
  },
  {
   "cell_type": "code",
   "execution_count": 333,
   "metadata": {},
   "outputs": [
    {
     "data": {
      "image/png": "[encoded data removed]",
      "text/plain": [
       "<Figure size 1152x648 with 1 Axes>"
      ]
     },
     "metadata": {},
     "output_type": "display_data"
    }
   ],
   "source": [
    "scatter_plot(df_final,'sat17_total','sat18_total','SAT Total scores','2017','2018')"
   ]
  },
  {
   "cell_type": "markdown",
   "metadata": {},
   "source": [
    "The scatterplot above shows that there is a strong correlation in SAT Total scores between 2017 and 2018. States that tend to do well in SAT in 2017 also tends to so well again in the following year, and vice versa."
   ]
  },
  {
   "cell_type": "markdown",
   "metadata": {},
   "source": [
    "### Composite scores for ACT 2017 vs. 2018"
   ]
  },
  {
   "cell_type": "code",
   "execution_count": 334,
   "metadata": {},
   "outputs": [
    {
     "data": {
      "image/png": "[encoded data removed]",
      "text/plain": [
       "<Figure size 1152x648 with 1 Axes>"
      ]
     },
     "metadata": {},
     "output_type": "display_data"
    }
   ],
   "source": [
    "scatter_plot(df_final,'act17_comp','act18_comp','ACT Composite scores','2017','2018')"
   ]
  },
  {
   "cell_type": "markdown",
   "metadata": {},
   "source": [
    "The scatterplot above shows that there is a strong correlation in ACT Total scores between 2017 and 2018. States that tend to do well in ACT in 2017 also tends to so well again in the following year, and vice versa."
   ]
  },
  {
   "cell_type": "markdown",
   "metadata": {},
   "source": [
    "#### Plot and interpret boxplots\n",
    "\n",
    "For each numeric variable in the dataframe create a boxplot using Seaborn. Boxplots demonstrate central tendency and spread in variables. In a certain sense, these are somewhat redundant with histograms, but you may be better able to identify clear outliers or differences in IQR, etc.\n",
    "\n",
    "Multiple values can be plotted to a single boxplot as long as they are of the same relative scale (meaning they have similar min/max values).\n",
    "\n",
    "Each boxplot should:\n",
    "- Only include variables of a similar scale\n",
    "- Have clear labels for each variable\n",
    "- Have appropriate titles and labels"
   ]
  },
  {
   "cell_type": "code",
   "execution_count": 335,
   "metadata": {},
   "outputs": [],
   "source": [
    "ref_dict = {'sat17_partn':'SAT 2017',\n",
    "            'sat18_partn':'SAT 2018',\n",
    "            'act17_partn':'ACT 2017',\n",
    "            'act18_partn':'ACT 2018',\n",
    "            'sat17_erw':'2017 ERW',\n",
    "            'sat17_math':'2017 Math',\n",
    "            'sat17_total':'2017 Total',\n",
    "            'sat18_erw':'2018 ERW',\n",
    "            'sat18_math':'2018 Math',\n",
    "            'sat18_total':'2018 Total',\n",
    "            'act17_eng':'2017 English',\n",
    "            'act17_math':'2017 Math',\n",
    "            'act17_sci':'2017 Science',\n",
    "            'act17_rdg':'2017 Reading',\n",
    "            'act17_comp':'2017 Composite',\n",
    "            'act18_eng':'2018 English',\n",
    "            'act18_math':'2018 Math',\n",
    "            'act18_sci':'2018 Science',\n",
    "            'act18_rdg':'2018 Reading',\n",
    "            'act18_comp':'2018 Composite'\n",
    "            }"
   ]
  },
  {
   "cell_type": "code",
   "execution_count": 336,
   "metadata": {},
   "outputs": [],
   "source": [
    "col_sat_sub_scores = sorted(list(df_final.columns[(df_final.columns.str.contains('sat'))&(~df_final.columns.str.contains('partn')&(~df_final.columns.str.contains('total')))]), key = lambda col:col.split('_')[1])\n",
    "col_sat_ttl_scores = sorted(list(df_final.columns[(df_final.columns.str.contains('sat'))&(df_final.columns.str.contains('total'))]), key = lambda col:col.split('_')[1])\n",
    "col_partn_rates = sorted(list(df_final.columns[df_final.columns.str.contains('partn')]),key=lambda col:col.split('_')[0])\n",
    "col_act_scores = sorted(list(df_final.columns[df_final.columns.str.contains('act')&(~df_final.columns.str.contains('partn'))]),key = lambda col : col.split('_')[1])"
   ]
  },
  {
   "cell_type": "code",
   "execution_count": 337,
   "metadata": {},
   "outputs": [],
   "source": [
    "def boxplotplot(dataframe, columns, fig_title=None,x_label=None, y_label=None):\n",
    "    '''Function to plot boxplots\n",
    "    dataframe : dataframe to be loaded in\n",
    "    columns(list): List of columns in dataframe to be plotted out\n",
    "    fig_title(str, optional) : Figure title\n",
    "    x_label(str,optional) : X axis label\n",
    "    y_label(str,optional): Y axis label'''\n",
    "    dataframe.boxplot(column=columns, figsize=(16,9));\n",
    "    if fig_title is not None:\n",
    "        plt.title(fig_title,size=24, y=1.01)\n",
    "    if x_label is not None:\n",
    "        plt.xlabel(x_label, size=16);\n",
    "    if y_label is not None:\n",
    "        plt.ylabel(y_label, size=16);\n",
    "    plt.xticks(range(1,len(columns)+1),[ref_dict[i] for i in columns])"
   ]
  },
  {
   "cell_type": "code",
   "execution_count": 338,
   "metadata": {},
   "outputs": [
    {
     "data": {
      "image/png": "[encoded data removed]",
      "text/plain": [
       "<Figure size 1152x648 with 1 Axes>"
      ]
     },
     "metadata": {},
     "output_type": "display_data"
    }
   ],
   "source": [
    "boxplotplot(df_final,col_sat_sub_scores, 'SAT subject scores', 'Subjects');"
   ]
  },
  {
   "cell_type": "code",
   "execution_count": 339,
   "metadata": {},
   "outputs": [
    {
     "data": {
      "image/png": "[encoded data removed]",
      "text/plain": [
       "<Figure size 1152x648 with 1 Axes>"
      ]
     },
     "metadata": {},
     "output_type": "display_data"
    }
   ],
   "source": [
    "boxplotplot(df_final,col_sat_ttl_scores, 'SAT total scores');"
   ]
  },
  {
   "cell_type": "markdown",
   "metadata": {},
   "source": [
    "By comparing the boxplot between each year and by subject, it can be observed that there is a slight dip in scores across the board. Also, the boxplot also shows that the students taking the tests are generally weaker in Math."
   ]
  },
  {
   "cell_type": "code",
   "execution_count": 340,
   "metadata": {},
   "outputs": [
    {
     "data": {
      "image/png": "[encoded data removed]",
      "text/plain": [
       "<Figure size 1152x648 with 1 Axes>"
      ]
     },
     "metadata": {},
     "output_type": "display_data"
    }
   ],
   "source": [
    "boxplotplot(df_final,col_partn_rates, 'Participation rates in %', 'Fields');"
   ]
  },
  {
   "cell_type": "markdown",
   "metadata": {},
   "source": [
    "The boxplot above shows that there is generally not very significant change in ACT participation rates. However, there is observable increase in SAT participation rates between 2017 and 2018."
   ]
  },
  {
   "cell_type": "code",
   "execution_count": 341,
   "metadata": {},
   "outputs": [
    {
     "data": {
      "image/png": "[encoded data removed]",
      "text/plain": [
       "<Figure size 1152x648 with 1 Axes>"
      ]
     },
     "metadata": {},
     "output_type": "display_data"
    }
   ],
   "source": [
    "boxplotplot(df_final,col_act_scores, 'ACT scores', 'Fields');"
   ]
  },
  {
   "cell_type": "markdown",
   "metadata": {},
   "source": [
    "By comparing the boxplot between each year and by subject, it can be observed that there is a little change in scores across the board. Also, the boxplot also shows that the students taking the tests are generally weaker in Math and Science, compared to English and Reading."
   ]
  },
  {
   "cell_type": "markdown",
   "metadata": {},
   "source": [
    "#### Feel free to do additional plots below\n",
    "*(do research and choose your own chart types & variables)*\n",
    "\n",
    "Are there any additional trends or relationships you haven't explored? Was there something interesting you saw that you'd like to dive further into? It's likely that there are a few more plots you might want to generate to support your narrative and recommendations that you are building toward. **As always, make sure you're interpreting your plots as you go**."
   ]
  },
  {
   "cell_type": "markdown",
   "metadata": {},
   "source": [
    "## Area of interest : Change in SAT participation rates vs Percentage change in performance\n",
    "Which states increased their SAT participation between the two years the most and what happened to their performance?\n",
    "And vice versa."
   ]
  },
  {
   "cell_type": "code",
   "execution_count": 342,
   "metadata": {},
   "outputs": [],
   "source": [
    "def pct_change(a,b):\n",
    "    '''Function to calculate percentage change to 2 decimal places\n",
    "a : new value\n",
    "b : old value'''\n",
    "    return round((a-b)/b*100,2)"
   ]
  },
  {
   "cell_type": "code",
   "execution_count": 358,
   "metadata": {},
   "outputs": [],
   "source": [
    "# List of areas to calculate\n",
    "area_list = ['partn','erw','math','total','eng','math','rdg','sci','comp']\n",
    "\n",
    "# Calculate change in SAT participation rate\n",
    "df_final['sat_'+area_list[0]+'_change'] = df_final['sat18_'+area_list[0]]-df_final['sat17_'+area_list[0]]\n",
    "\n",
    "# Calculate percentage changes in the SAT scores\n",
    "for i  in range(1,4):\n",
    "    df_final['sat_'+area_list[i]+'_change_pct'] = round(pct_change(df_final['sat18_'+area_list[i]],df_final['sat17_'+area_list[i]]),1)\n",
    "\n",
    "# Calculate change in ACT participation rate\n",
    "df_final['act_'+area_list[0]+'_change'] = df_final['act18_'+area_list[0]]-df_final['act17_'+area_list[0]]\n",
    "\n",
    "# Calculate percentage changes in the ACT scores\n",
    "for j in range(4,len(area_list)):\n",
    "     df_final['act_'+area_list[j]+'_change_pct'] = round(pct_change(df_final['act18_'+area_list[j]],df_final['act17_'+area_list[j]]),1)"
   ]
  },
  {
   "cell_type": "code",
   "execution_count": 359,
   "metadata": {},
   "outputs": [
    {
     "data": {
      "text/html": [
       "<div>\n",
       "<style scoped>\n",
       "    .dataframe tbody tr th:only-of-type {\n",
       "        vertical-align: middle;\n",
       "    }\n",
       "\n",
       "    .dataframe tbody tr th {\n",
       "        vertical-align: top;\n",
       "    }\n",
       "\n",
       "    .dataframe thead th {\n",
       "        text-align: right;\n",
       "    }\n",
       "</style>\n",
       "<table border=\"1\" class=\"dataframe\">\n",
       "  <thead>\n",
       "    <tr style=\"text-align: right;\">\n",
       "      <th></th>\n",
       "      <th>state</th>\n",
       "      <th>sat_partn_change</th>\n",
       "      <th>sat_erw_change_pct</th>\n",
       "      <th>sat_math_change_pct</th>\n",
       "      <th>sat_total_change_pct</th>\n",
       "      <th>act_partn_change</th>\n",
       "      <th>act_eng_change_pct</th>\n",
       "      <th>act_math_change_pct</th>\n",
       "      <th>act_rdg_change_pct</th>\n",
       "      <th>act_sci_change_pct</th>\n",
       "      <th>act_comp_change_pct</th>\n",
       "    </tr>\n",
       "  </thead>\n",
       "  <tbody>\n",
       "    <tr>\n",
       "      <th>13</th>\n",
       "      <td>Illinois</td>\n",
       "      <td>90.0</td>\n",
       "      <td>-8.2</td>\n",
       "      <td>-9.0</td>\n",
       "      <td>-8.6</td>\n",
       "      <td>-50.0</td>\n",
       "      <td>14.8</td>\n",
       "      <td>10.4</td>\n",
       "      <td>12.0</td>\n",
       "      <td>9.9</td>\n",
       "      <td>11.7</td>\n",
       "    </tr>\n",
       "    <tr>\n",
       "      <th>5</th>\n",
       "      <td>Colorado</td>\n",
       "      <td>89.0</td>\n",
       "      <td>-14.4</td>\n",
       "      <td>-15.0</td>\n",
       "      <td>-14.6</td>\n",
       "      <td>-70.0</td>\n",
       "      <td>18.9</td>\n",
       "      <td>14.3</td>\n",
       "      <td>15.1</td>\n",
       "      <td>12.4</td>\n",
       "      <td>14.9</td>\n",
       "    </tr>\n",
       "    <tr>\n",
       "      <th>39</th>\n",
       "      <td>Rhode Island</td>\n",
       "      <td>26.0</td>\n",
       "      <td>-4.8</td>\n",
       "      <td>-3.6</td>\n",
       "      <td>-4.1</td>\n",
       "      <td>-6.0</td>\n",
       "      <td>1.7</td>\n",
       "      <td>1.3</td>\n",
       "      <td>1.2</td>\n",
       "      <td>0.4</td>\n",
       "      <td>0.8</td>\n",
       "    </tr>\n",
       "    <tr>\n",
       "      <th>48</th>\n",
       "      <td>West Virginia</td>\n",
       "      <td>14.0</td>\n",
       "      <td>-8.1</td>\n",
       "      <td>-8.0</td>\n",
       "      <td>-8.0</td>\n",
       "      <td>-4.0</td>\n",
       "      <td>-1.0</td>\n",
       "      <td>0.0</td>\n",
       "      <td>0.5</td>\n",
       "      <td>-0.5</td>\n",
       "      <td>-0.5</td>\n",
       "    </tr>\n",
       "    <tr>\n",
       "      <th>30</th>\n",
       "      <td>New Jersey</td>\n",
       "      <td>12.0</td>\n",
       "      <td>3.2</td>\n",
       "      <td>4.0</td>\n",
       "      <td>3.6</td>\n",
       "      <td>-3.0</td>\n",
       "      <td>0.0</td>\n",
       "      <td>-0.8</td>\n",
       "      <td>-0.4</td>\n",
       "      <td>-0.9</td>\n",
       "      <td>-0.8</td>\n",
       "    </tr>\n",
       "  </tbody>\n",
       "</table>\n",
       "</div>"
      ],
      "text/plain": [
       "            state  sat_partn_change  sat_erw_change_pct  sat_math_change_pct  \\\n",
       "13       Illinois              90.0                -8.2                 -9.0   \n",
       "5        Colorado              89.0               -14.4                -15.0   \n",
       "39   Rhode Island              26.0                -4.8                 -3.6   \n",
       "48  West Virginia              14.0                -8.1                 -8.0   \n",
       "30     New Jersey              12.0                 3.2                  4.0   \n",
       "\n",
       "    sat_total_change_pct  act_partn_change  act_eng_change_pct  \\\n",
       "13                  -8.6             -50.0                14.8   \n",
       "5                  -14.6             -70.0                18.9   \n",
       "39                  -4.1              -6.0                 1.7   \n",
       "48                  -8.0              -4.0                -1.0   \n",
       "30                   3.6              -3.0                 0.0   \n",
       "\n",
       "    act_math_change_pct  act_rdg_change_pct  act_sci_change_pct  \\\n",
       "13                 10.4                12.0                 9.9   \n",
       "5                  14.3                15.1                12.4   \n",
       "39                  1.3                 1.2                 0.4   \n",
       "48                  0.0                 0.5                -0.5   \n",
       "30                 -0.8                -0.4                -0.9   \n",
       "\n",
       "    act_comp_change_pct  \n",
       "13                 11.7  \n",
       "5                  14.9  \n",
       "39                  0.8  \n",
       "48                 -0.5  \n",
       "30                 -0.8  "
      ]
     },
     "execution_count": 359,
     "metadata": {},
     "output_type": "execute_result"
    }
   ],
   "source": [
    "# View the states which increased their SAT particpation the most between the two years\n",
    "new_col = ['state']\n",
    "new_col.extend([col for col in df_final.columns if 'change' in col])\n",
    "df_final[new_col].sort_values('sat_partn_change', ascending=False).head()"
   ]
  },
  {
   "cell_type": "markdown",
   "metadata": {},
   "source": [
    "Illinois and Colorado significantly increase their SAT participation rate (~90%) between 2017 and 2018. Both their SAT total scores dropped by 8.6% and 14.6% respectively. Both states also saw significant decrease in their ACT participation rates (Illinois: 50%, Colorado: 70%) and their ACT composite scores rose by 10 to 15 percent.\n",
    "\n",
    "Interestingly, West Virginia increased its SAT participation rate only by 14%, but also saw similar amount of decrease in SAT total score as Illinois. Its ACT participation rate dropped only by 4% and its ACT composite scores fell by a small 0.5%."
   ]
  },
  {
   "cell_type": "code",
   "execution_count": 345,
   "metadata": {},
   "outputs": [
    {
     "data": {
      "text/html": [
       "<div>\n",
       "<style scoped>\n",
       "    .dataframe tbody tr th:only-of-type {\n",
       "        vertical-align: middle;\n",
       "    }\n",
       "\n",
       "    .dataframe tbody tr th {\n",
       "        vertical-align: top;\n",
       "    }\n",
       "\n",
       "    .dataframe thead th {\n",
       "        text-align: right;\n",
       "    }\n",
       "</style>\n",
       "<table border=\"1\" class=\"dataframe\">\n",
       "  <thead>\n",
       "    <tr style=\"text-align: right;\">\n",
       "      <th></th>\n",
       "      <th>state</th>\n",
       "      <th>sat_partn_change</th>\n",
       "      <th>sat_erw_change_pct</th>\n",
       "      <th>sat_math_change_pct</th>\n",
       "      <th>sat_total_change_pct</th>\n",
       "      <th>act_partn_change</th>\n",
       "      <th>act_eng_change_pct</th>\n",
       "      <th>act_math_change_pct</th>\n",
       "      <th>act_rdg_change_pct</th>\n",
       "      <th>act_sci_change_pct</th>\n",
       "      <th>act_comp_change_pct</th>\n",
       "    </tr>\n",
       "  </thead>\n",
       "  <tbody>\n",
       "    <tr>\n",
       "      <th>9</th>\n",
       "      <td>Florida</td>\n",
       "      <td>-27.0</td>\n",
       "      <td>5.77</td>\n",
       "      <td>10.46</td>\n",
       "      <td>8.06</td>\n",
       "      <td>-7.0</td>\n",
       "      <td>1.05</td>\n",
       "      <td>-0.52</td>\n",
       "      <td>0.48</td>\n",
       "      <td>0.52</td>\n",
       "      <td>0.51</td>\n",
       "    </tr>\n",
       "    <tr>\n",
       "      <th>8</th>\n",
       "      <td>District of Columbia</td>\n",
       "      <td>-8.0</td>\n",
       "      <td>3.11</td>\n",
       "      <td>2.56</td>\n",
       "      <td>2.84</td>\n",
       "      <td>0.0</td>\n",
       "      <td>-2.87</td>\n",
       "      <td>-3.40</td>\n",
       "      <td>-2.01</td>\n",
       "      <td>-2.13</td>\n",
       "      <td>-2.48</td>\n",
       "    </tr>\n",
       "    <tr>\n",
       "      <th>28</th>\n",
       "      <td>Nevada</td>\n",
       "      <td>-3.0</td>\n",
       "      <td>1.95</td>\n",
       "      <td>2.35</td>\n",
       "      <td>2.15</td>\n",
       "      <td>0.0</td>\n",
       "      <td>1.84</td>\n",
       "      <td>-1.11</td>\n",
       "      <td>-0.55</td>\n",
       "      <td>-1.65</td>\n",
       "      <td>-0.56</td>\n",
       "    </tr>\n",
       "    <tr>\n",
       "      <th>2</th>\n",
       "      <td>Arizona</td>\n",
       "      <td>-1.0</td>\n",
       "      <td>2.49</td>\n",
       "      <td>3.44</td>\n",
       "      <td>2.96</td>\n",
       "      <td>4.0</td>\n",
       "      <td>-2.15</td>\n",
       "      <td>-2.02</td>\n",
       "      <td>-2.99</td>\n",
       "      <td>-3.03</td>\n",
       "      <td>-2.54</td>\n",
       "    </tr>\n",
       "    <tr>\n",
       "      <th>50</th>\n",
       "      <td>Wyoming</td>\n",
       "      <td>0.0</td>\n",
       "      <td>1.12</td>\n",
       "      <td>3.48</td>\n",
       "      <td>2.20</td>\n",
       "      <td>0.0</td>\n",
       "      <td>-2.06</td>\n",
       "      <td>-0.51</td>\n",
       "      <td>-0.96</td>\n",
       "      <td>-1.46</td>\n",
       "      <td>-0.99</td>\n",
       "    </tr>\n",
       "  </tbody>\n",
       "</table>\n",
       "</div>"
      ],
      "text/plain": [
       "                   state  sat_partn_change  sat_erw_change_pct  \\\n",
       "9                Florida             -27.0                5.77   \n",
       "8   District of Columbia              -8.0                3.11   \n",
       "28                Nevada              -3.0                1.95   \n",
       "2                Arizona              -1.0                2.49   \n",
       "50               Wyoming               0.0                1.12   \n",
       "\n",
       "    sat_math_change_pct  sat_total_change_pct  act_partn_change  \\\n",
       "9                 10.46                  8.06              -7.0   \n",
       "8                  2.56                  2.84               0.0   \n",
       "28                 2.35                  2.15               0.0   \n",
       "2                  3.44                  2.96               4.0   \n",
       "50                 3.48                  2.20               0.0   \n",
       "\n",
       "    act_eng_change_pct  act_math_change_pct  act_rdg_change_pct  \\\n",
       "9                 1.05                -0.52                0.48   \n",
       "8                -2.87                -3.40               -2.01   \n",
       "28                1.84                -1.11               -0.55   \n",
       "2                -2.15                -2.02               -2.99   \n",
       "50               -2.06                -0.51               -0.96   \n",
       "\n",
       "    act_sci_change_pct  act_comp_change_pct  \n",
       "9                 0.52                 0.51  \n",
       "8                -2.13                -2.48  \n",
       "28               -1.65                -0.56  \n",
       "2                -3.03                -2.54  \n",
       "50               -1.46                -0.99  "
      ]
     },
     "execution_count": 345,
     "metadata": {},
     "output_type": "execute_result"
    }
   ],
   "source": [
    "# View the states which decreased their SAT particpation the most between the two years\n",
    "df_final[new_col].sort_values('sat_partn_change').head() "
   ]
  },
  {
   "cell_type": "markdown",
   "metadata": {},
   "source": [
    "Florida saw the most significant drop in SAT participation rates. Their SAT total scores increased by 8% between 2017 and 2018.\n",
    "However, its ACT participation rates also fell by 7%., but its ACT composite scores remain relatively unaffected by a change of only 0.5%."
   ]
  },
  {
   "cell_type": "code",
   "execution_count": 346,
   "metadata": {},
   "outputs": [
    {
     "data": {
      "text/html": [
       "<div>\n",
       "<style scoped>\n",
       "    .dataframe tbody tr th:only-of-type {\n",
       "        vertical-align: middle;\n",
       "    }\n",
       "\n",
       "    .dataframe tbody tr th {\n",
       "        vertical-align: top;\n",
       "    }\n",
       "\n",
       "    .dataframe thead th {\n",
       "        text-align: right;\n",
       "    }\n",
       "</style>\n",
       "<table border=\"1\" class=\"dataframe\">\n",
       "  <thead>\n",
       "    <tr style=\"text-align: right;\">\n",
       "      <th></th>\n",
       "      <th>state</th>\n",
       "      <th>sat_partn_change</th>\n",
       "      <th>sat_erw_change_pct</th>\n",
       "      <th>sat_math_change_pct</th>\n",
       "      <th>sat_total_change_pct</th>\n",
       "      <th>act_partn_change</th>\n",
       "      <th>act_eng_change_pct</th>\n",
       "      <th>act_math_change_pct</th>\n",
       "      <th>act_rdg_change_pct</th>\n",
       "      <th>act_sci_change_pct</th>\n",
       "      <th>act_comp_change_pct</th>\n",
       "    </tr>\n",
       "  </thead>\n",
       "  <tbody>\n",
       "    <tr>\n",
       "      <th>35</th>\n",
       "      <td>Ohio</td>\n",
       "      <td>6.0</td>\n",
       "      <td>-4.50</td>\n",
       "      <td>-4.04</td>\n",
       "      <td>-4.35</td>\n",
       "      <td>25.0</td>\n",
       "      <td>-8.96</td>\n",
       "      <td>-6.02</td>\n",
       "      <td>-7.56</td>\n",
       "      <td>-7.27</td>\n",
       "      <td>-7.73</td>\n",
       "    </tr>\n",
       "    <tr>\n",
       "      <th>27</th>\n",
       "      <td>Nebraska</td>\n",
       "      <td>0.0</td>\n",
       "      <td>0.00</td>\n",
       "      <td>-0.32</td>\n",
       "      <td>-0.08</td>\n",
       "      <td>16.0</td>\n",
       "      <td>-7.18</td>\n",
       "      <td>-5.26</td>\n",
       "      <td>-6.85</td>\n",
       "      <td>-6.51</td>\n",
       "      <td>-6.07</td>\n",
       "    </tr>\n",
       "    <tr>\n",
       "      <th>2</th>\n",
       "      <td>Arizona</td>\n",
       "      <td>-1.0</td>\n",
       "      <td>2.49</td>\n",
       "      <td>3.44</td>\n",
       "      <td>2.96</td>\n",
       "      <td>4.0</td>\n",
       "      <td>-2.15</td>\n",
       "      <td>-2.02</td>\n",
       "      <td>-2.99</td>\n",
       "      <td>-3.03</td>\n",
       "      <td>-2.54</td>\n",
       "    </tr>\n",
       "    <tr>\n",
       "      <th>20</th>\n",
       "      <td>Maryland</td>\n",
       "      <td>7.0</td>\n",
       "      <td>1.68</td>\n",
       "      <td>2.10</td>\n",
       "      <td>1.89</td>\n",
       "      <td>3.0</td>\n",
       "      <td>-5.15</td>\n",
       "      <td>-4.76</td>\n",
       "      <td>-4.55</td>\n",
       "      <td>-4.31</td>\n",
       "      <td>-4.66</td>\n",
       "    </tr>\n",
       "    <tr>\n",
       "      <th>37</th>\n",
       "      <td>Oregon</td>\n",
       "      <td>5.0</td>\n",
       "      <td>0.71</td>\n",
       "      <td>0.91</td>\n",
       "      <td>0.81</td>\n",
       "      <td>2.0</td>\n",
       "      <td>-2.83</td>\n",
       "      <td>-2.79</td>\n",
       "      <td>-2.23</td>\n",
       "      <td>-2.76</td>\n",
       "      <td>-2.29</td>\n",
       "    </tr>\n",
       "  </tbody>\n",
       "</table>\n",
       "</div>"
      ],
      "text/plain": [
       "       state  sat_partn_change  sat_erw_change_pct  sat_math_change_pct  \\\n",
       "35      Ohio               6.0               -4.50                -4.04   \n",
       "27  Nebraska               0.0                0.00                -0.32   \n",
       "2    Arizona              -1.0                2.49                 3.44   \n",
       "20  Maryland               7.0                1.68                 2.10   \n",
       "37    Oregon               5.0                0.71                 0.91   \n",
       "\n",
       "    sat_total_change_pct  act_partn_change  act_eng_change_pct  \\\n",
       "35                 -4.35              25.0               -8.96   \n",
       "27                 -0.08              16.0               -7.18   \n",
       "2                   2.96               4.0               -2.15   \n",
       "20                  1.89               3.0               -5.15   \n",
       "37                  0.81               2.0               -2.83   \n",
       "\n",
       "    act_math_change_pct  act_rdg_change_pct  act_sci_change_pct  \\\n",
       "35                -6.02               -7.56               -7.27   \n",
       "27                -5.26               -6.85               -6.51   \n",
       "2                 -2.02               -2.99               -3.03   \n",
       "20                -4.76               -4.55               -4.31   \n",
       "37                -2.79               -2.23               -2.76   \n",
       "\n",
       "    act_comp_change_pct  \n",
       "35                -7.73  \n",
       "27                -6.07  \n",
       "2                 -2.54  \n",
       "20                -4.66  \n",
       "37                -2.29  "
      ]
     },
     "execution_count": 346,
     "metadata": {},
     "output_type": "execute_result"
    }
   ],
   "source": [
    "# View the states which increased their SAT particpation the most between the two years\n",
    "df_final[new_col].sort_values('act_partn_change', ascending=False).head()"
   ]
  },
  {
   "cell_type": "markdown",
   "metadata": {},
   "source": [
    "Ohio has the highest increase (25%) in ACT participation rates as well as a slight increase (6%) in SAT participation rates."
   ]
  },
  {
   "cell_type": "code",
   "execution_count": 347,
   "metadata": {},
   "outputs": [
    {
     "data": {
      "text/html": [
       "<div>\n",
       "<style scoped>\n",
       "    .dataframe tbody tr th:only-of-type {\n",
       "        vertical-align: middle;\n",
       "    }\n",
       "\n",
       "    .dataframe tbody tr th {\n",
       "        vertical-align: top;\n",
       "    }\n",
       "\n",
       "    .dataframe thead th {\n",
       "        text-align: right;\n",
       "    }\n",
       "</style>\n",
       "<table border=\"1\" class=\"dataframe\">\n",
       "  <thead>\n",
       "    <tr style=\"text-align: right;\">\n",
       "      <th></th>\n",
       "      <th>state</th>\n",
       "      <th>sat_partn_change</th>\n",
       "      <th>sat_erw_change_pct</th>\n",
       "      <th>sat_math_change_pct</th>\n",
       "      <th>sat_total_change_pct</th>\n",
       "      <th>act_partn_change</th>\n",
       "      <th>act_eng_change_pct</th>\n",
       "      <th>act_math_change_pct</th>\n",
       "      <th>act_rdg_change_pct</th>\n",
       "      <th>act_sci_change_pct</th>\n",
       "      <th>act_comp_change_pct</th>\n",
       "    </tr>\n",
       "  </thead>\n",
       "  <tbody>\n",
       "    <tr>\n",
       "      <th>5</th>\n",
       "      <td>Colorado</td>\n",
       "      <td>89.0</td>\n",
       "      <td>-14.36</td>\n",
       "      <td>-14.96</td>\n",
       "      <td>-14.65</td>\n",
       "      <td>-70.0</td>\n",
       "      <td>18.91</td>\n",
       "      <td>14.29</td>\n",
       "      <td>15.09</td>\n",
       "      <td>12.44</td>\n",
       "      <td>14.90</td>\n",
       "    </tr>\n",
       "    <tr>\n",
       "      <th>13</th>\n",
       "      <td>Illinois</td>\n",
       "      <td>90.0</td>\n",
       "      <td>-8.23</td>\n",
       "      <td>-8.99</td>\n",
       "      <td>-8.61</td>\n",
       "      <td>-50.0</td>\n",
       "      <td>14.76</td>\n",
       "      <td>10.38</td>\n",
       "      <td>12.04</td>\n",
       "      <td>9.86</td>\n",
       "      <td>11.68</td>\n",
       "    </tr>\n",
       "    <tr>\n",
       "      <th>1</th>\n",
       "      <td>Alaska</td>\n",
       "      <td>5.0</td>\n",
       "      <td>2.74</td>\n",
       "      <td>2.06</td>\n",
       "      <td>2.41</td>\n",
       "      <td>-32.0</td>\n",
       "      <td>5.88</td>\n",
       "      <td>4.04</td>\n",
       "      <td>5.88</td>\n",
       "      <td>4.02</td>\n",
       "      <td>5.05</td>\n",
       "    </tr>\n",
       "    <tr>\n",
       "      <th>9</th>\n",
       "      <td>Florida</td>\n",
       "      <td>-27.0</td>\n",
       "      <td>5.77</td>\n",
       "      <td>10.46</td>\n",
       "      <td>8.06</td>\n",
       "      <td>-7.0</td>\n",
       "      <td>1.05</td>\n",
       "      <td>-0.52</td>\n",
       "      <td>0.48</td>\n",
       "      <td>0.52</td>\n",
       "      <td>0.51</td>\n",
       "    </tr>\n",
       "    <tr>\n",
       "      <th>22</th>\n",
       "      <td>Michigan</td>\n",
       "      <td>0.0</td>\n",
       "      <td>0.39</td>\n",
       "      <td>0.81</td>\n",
       "      <td>0.60</td>\n",
       "      <td>-7.0</td>\n",
       "      <td>1.66</td>\n",
       "      <td>0.84</td>\n",
       "      <td>0.82</td>\n",
       "      <td>0.42</td>\n",
       "      <td>1.24</td>\n",
       "    </tr>\n",
       "  </tbody>\n",
       "</table>\n",
       "</div>"
      ],
      "text/plain": [
       "       state  sat_partn_change  sat_erw_change_pct  sat_math_change_pct  \\\n",
       "5   Colorado              89.0              -14.36               -14.96   \n",
       "13  Illinois              90.0               -8.23                -8.99   \n",
       "1     Alaska               5.0                2.74                 2.06   \n",
       "9    Florida             -27.0                5.77                10.46   \n",
       "22  Michigan               0.0                0.39                 0.81   \n",
       "\n",
       "    sat_total_change_pct  act_partn_change  act_eng_change_pct  \\\n",
       "5                 -14.65             -70.0               18.91   \n",
       "13                 -8.61             -50.0               14.76   \n",
       "1                   2.41             -32.0                5.88   \n",
       "9                   8.06              -7.0                1.05   \n",
       "22                  0.60              -7.0                1.66   \n",
       "\n",
       "    act_math_change_pct  act_rdg_change_pct  act_sci_change_pct  \\\n",
       "5                 14.29               15.09               12.44   \n",
       "13                10.38               12.04                9.86   \n",
       "1                  4.04                5.88                4.02   \n",
       "9                 -0.52                0.48                0.52   \n",
       "22                 0.84                0.82                0.42   \n",
       "\n",
       "    act_comp_change_pct  \n",
       "5                 14.90  \n",
       "13                11.68  \n",
       "1                  5.05  \n",
       "9                  0.51  \n",
       "22                 1.24  "
      ]
     },
     "execution_count": 347,
     "metadata": {},
     "output_type": "execute_result"
    }
   ],
   "source": [
    "# View the states which decreased their ACT particpation the most between the two years\n",
    "df_final[new_col].sort_values('act_partn_change').head()"
   ]
  },
  {
   "cell_type": "markdown",
   "metadata": {},
   "source": [
    "Other than Colorado and Illinois, which saw rather drastic changes in their participation rates in both tests between 2017 and 2018, Alaska also had a significant drop in ACT participation rates with a small increase in SAT participation rates."
   ]
  },
  {
   "cell_type": "code",
   "execution_count": 348,
   "metadata": {},
   "outputs": [
    {
     "data": {
      "image/png": "[encoded data removed]",
      "text/plain": [
       "<Figure size 1152x648 with 1 Axes>"
      ]
     },
     "metadata": {},
     "output_type": "display_data"
    }
   ],
   "source": [
    "scatter_plot(df_final,'sat_partn_change','sat_total_change_pct',x_label='Change in SAT Participation rates',y_label='Percentage change in SAT total scores')"
   ]
  },
  {
   "cell_type": "code",
   "execution_count": 349,
   "metadata": {},
   "outputs": [
    {
     "data": {
      "image/png": "[encoded data removed]",
      "text/plain": [
       "<Figure size 1152x648 with 1 Axes>"
      ]
     },
     "metadata": {},
     "output_type": "display_data"
    }
   ],
   "source": [
    "scatter_plot(df_final,'act_partn_change','act_comp_change_pct',x_label='Change in ACT Participation rates',y_label='Percentage change in ACT composite scores')"
   ]
  },
  {
   "cell_type": "markdown",
   "metadata": {},
   "source": [
    "The two plots above suggest that when there is little change in partipation rates for either tests, the total/composite scores remain relatively stable. However, when there is drastic increase/decrease in participation rates, it will have an inverse impact on the total/composite scores as well."
   ]
  },
  {
   "cell_type": "markdown",
   "metadata": {},
   "source": [
    "#### (Optional): Using Tableau, create a choropleth map for each variable using a map of the US. \n",
    "\n",
    "Save this plot as an image file in an images directory, provide a relative path, and insert the image into notebook in markdown."
   ]
  },
  {
   "cell_type": "code",
   "execution_count": null,
   "metadata": {},
   "outputs": [],
   "source": []
  },
  {
   "cell_type": "markdown",
   "metadata": {},
   "source": [
    "## Descriptive and Inferential Statistics"
   ]
  },
  {
   "cell_type": "markdown",
   "metadata": {},
   "source": [
    "#### Summarizing Distributions\n",
    "\n",
    "Above, we used pandas `describe` to provide quick summary statistics of our numeric columns. We also demonstrated many visual relationships.\n",
    "\n",
    "As data scientists, having a complete understanding of data is imperative prior to modeling.\n",
    "\n",
    "While we will continue to build our analytic tools, we know that measures of *central tendency*, *spread*, and *shape/skewness* provide a quick summary of distributions.\n",
    "\n",
    "For each variable in your data, summarize the underlying distributions (in words & statistics)\n",
    " - Be thorough in your verbal description of these distributions.\n",
    " - Be sure to back up these summaries with statistics."
   ]
  },
  {
   "cell_type": "markdown",
   "metadata": {},
   "source": [
    "---\n",
    "Answers:\n",
    "\n",
    "**SAT 2017 Participation rates** has a mean of 39.8, which is higher than its median of 38.\n",
    "This implies that the distribution is **right skewed**. Its standard deviation is 35.28, which is large considering the min and max values of 4 and 100. This means that the spread is **wide**.\n",
    "\n",
    "**SAT 2017 Evidence-Based Reading and Writing** has a mean of 569.12, which is higher than its median of 559.\n",
    "This implies that the distribution is **right skewed**. Its standard deviation is 45.67, which is large considering the min and max values of 482 and 644. This means that the spread is **wide**.\n",
    "\n",
    "**SAT 2017 Math** has a mean of 556.88, which is higher than its median of 548.\n",
    "This implies that the distribution is **right skewed**. Its standard deviation is 47.12, which is large considering the min and max values of 468 and 651. This means that the spread is **wide**.\n",
    "\n",
    "**SAT 2017 Total** has a mean of 1126.1, which is higher than its median of 1107.\n",
    "This implies that the distribution is **right skewed**. Its standard deviation is 92.5, which is large considering the min and max values of 950 and 1295. This means that the spread is **wide**.\n",
    "\n",
    "**SAT 2018 Participation rates** has a mean of 45.75, which is lower than its median of 52.\n",
    "This implies that the distribution is **left skewed**. Its standard deviation is 37.31, which is large considering the min and max values of 2 and 100. This means that the spread is **wide**.\n",
    "\n",
    "**SAT 2018 Evidence-Based Reading and Writing** has a mean of 563.69, which is higher than its median of 552.\n",
    "This implies that the distribution is **right skewed**. Its standard deviation is 47.5, which is large considering the min and max values of 480 and 643. This means that the spread is **wide**.\n",
    "\n",
    "**SAT 2018 Math** has a mean of 556.23, which is higher than its median of 544.\n",
    "This implies that the distribution is **right skewed**. Its standard deviation is 47.78, which is large considering the min and max values of 480 and 655. This means that the spread is **wide**.\n",
    "\n",
    "**SAT 2018 Total** has a mean of 1120.02, which is higher than its median of 1098. This implies that the distribution is **right skewed**. Its standard deviation is 94.15, which is large considering the min and max values of 977 and 1298. This means that the spread is **wide**.\n",
    "\n",
    "**ACT 2017 Participation rates** has a mean of 65.25, which is smaller than its median of 69. This implies that the distribution is **left skewed**. Its standard deviation is 32.14, which is large considering the min and max values of 8 and 100. This means that the spread is **wide**.\n",
    "\n",
    "**ACT 2017 English** has a mean of 20.93, which is larger than its median of 20.7. This implies that the distribution is **right skewed**. Its standard deviation is 2.35, which is large considering the min and max values of 16.3 and 25.5. This means that the spread is **wide**.\n",
    "\n",
    "**ACT 2017 Math** has a mean of 21.18, which is larger than its median of 20.9. This implies that the distribution is **right skewed**. Its standard deviation is 1.98, which is large considering the min and max values of 18 and 25.3. This means that the spread is **wide**.\n",
    "\n",
    "**ACT 2017 Reading** has a mean of 22.01, which is larger than its median of 21.8. This implies that the distribution is **right skewed**. Its standard deviation is 2.07, which is large considering the min and max values of 18.1 and 26. This means that the spread is **wide**.\n",
    "\n",
    "**ACT 2017 Science** has a mean of 21.45, which is larger than its median of 21.3. This implies that the distribution is **right skewed**. Its standard deviation is 1.74, which is large considering the min and max values of 18.2 and 24.9. This means that the spread is **wide**.\n",
    "\n",
    "**ACT 2017 Composite** has a mean of 21.52, which is larger than its median of 21.4. This implies that the distribution is **right skewed**. Its standard deviation is 2.02, which is large considering the min and max values of 17.8 and 25.5. This means that the spread is **wide**.\n",
    "\n",
    "**ACT 2018 Participation rates** has a mean of 61.65, which is smaller than its median of 66. This implies that the distribution is **left skewed**. Its standard deviation is 34.08, which is large considering the min and max values of 7 and 100. This means that the spread is **wide**.\n",
    "\n",
    "**ACT 2018 English** has a mean of 20.99, which is larger than its median of 20.2. This implies that the distribution is **right skewed**. Its standard deviation is 2.45, which is large considering the min and max values of 16.6 and 26. This means that the spread is **wide**.\n",
    "\n",
    "**ACT 2018 Math** has a mean of 20.99, which is larger than its median of 20.2. This implies that the distribution is **right skewed**. Its standard deviation is 2.45, which is large considering the min and max values of 16.6 and 26. This means that the spread is **wide**.\n",
    "\n",
    "**ACT 2018 Reading** has a mean of 21.12, which is larger than its median of 20.7. This implies that the distribution is **right skewed**. Its standard deviation is 2.04, which is large considering the min and max values of 17.8 and 25.2. This means that the spread is **wide**.\n",
    "\n",
    "**ACT 2018 Science** has a mean of 21.35, which is larger than its median of 21.1. This implies that the distribution is **right skewed**. Its standard deviation is 1.87, which is large considering the min and max values of 17.9 and 24.9. This means that the spread is **wide**.\n",
    "\n",
    "**ACT 2018 Composite** has a mean of 21.49, which is larger than its median of 21.3. This implies that the distribution is **right skewed**. Its standard deviation is 2.11, which is large considering the min and max values of 17.7 and 25.6. This means that the spread is **wide**."
   ]
  },
  {
   "cell_type": "markdown",
   "metadata": {},
   "source": [
    "The above are descriptions based on the measures of central tendency, standard deviation and range of each variable.\n",
    "These are assuming to that the distributions of these variables are normal.\n",
    "However, when we look at the histograms plotted earlier, there are some variables, i.e. SAT and ACT mean Math scores or mean Reading or Verbal scores, which resemble more closely to a [normal distribution](#Math-scores-for-SAT-&-ACT) . But variables like the 2018 SAT Participation rates seems more like a [multi-modal distribution](#Participation-rates-for-SAT-&-ACT).\n",
    "\n",
    "Therefore, though we can give a verbal description based on statistics, it is important to plot out the distribution to be able to have clearer visual understanding."
   ]
  },
  {
   "cell_type": "markdown",
   "metadata": {},
   "source": [
    "\n",
    "#### Distributions in the data\n",
    "\n",
    "In this dataset, each data represents a sample from a population.                        \n",
    "For example, for ACT math test:\n",
    "- Population: the test results of all the students who take this test, nation-wide.\n",
    "- Population mean: is the national average of ACT math test (total scores/total no. of test takers) \n",
    "- Sample: the state means of ACT math test. We have 51 samples (51 states)\n",
    "\n",
    "***According to CLT, we generally assuming that data we sample from a population will be normally distributed. Do we observe this trend?***"
   ]
  },
  {
   "cell_type": "markdown",
   "metadata": {},
   "source": [
    "---\n",
    "Answer:\n",
    "\n",
    "Yes, based on the [histogram](#Math-scores-for-SAT-&-ACT), we do see a rough resemblence to a normal distribution."
   ]
  },
  {
   "cell_type": "markdown",
   "metadata": {},
   "source": [
    "Does This Assumption Hold for:\n",
    "    - Math\n",
    "    - Reading\n",
    "    - Rates\n",
    "Explain your answers for each distribution and how you think this will affect estimates made from these data."
   ]
  },
  {
   "cell_type": "markdown",
   "metadata": {},
   "source": [
    "---\n",
    "Answer:\n",
    "\n",
    "The assumption holds for Math and Reading scores, but only to a certain degree. In CLT, we take a number of random samples of the same size. In our case, the sample size of each of the 51 samples is dependent on the number of students in each state which took the Math or Reading tests. We do not possess the data for the number of students who took this test in each state, and it is highly unlikely that the sample sizes for every state are the same.\n",
    "\n",
    "However, their values are already the mean score value for each state. Therefore, these are sample means and we can apply CLT to a certain degree.\n",
    "\n",
    "As the samples are grouped geographically and not picked randomly, the estimates from these data are likely to be far from the true value.\n",
    "\n",
    "For participation rates, we cannot assume that it will be normally distributed. Similar to the Math and Reading scores, the sample values are grouped geographically. The effect of each state's preferences or policies can result in a [multi-modal distribution](#Participation-rates-for-SAT-&-ACT). As a result, we cannot make populations estimates for Participation rates."
   ]
  },
  {
   "cell_type": "markdown",
   "metadata": {},
   "source": [
    "#### Estimate Limits of Data\n",
    "\n",
    "Suppose we only seek to understand the relationship between SAT and ACT participation rates in 2017. \n",
    "\n",
    "##### Does it make sense to conduct statistical inference given these data specifically? \n",
    "\n",
    "Why or why not?\n",
    "\n",
    "*(think about granularity, aggregation, the relationships between populations size & rates...consider the actual populations these data describe in answering this question)*"
   ]
  },
  {
   "cell_type": "markdown",
   "metadata": {},
   "source": [
    "---\n",
    "Answer:\n",
    "\n",
    "It does not make sense to conduct statistical inference.\n",
    "\n",
    "At the state level, there is only one pair of data: ACT 2017 and SAT 2017 participation rates in percentages. We do not know the population size and the breakdown of students who either take SAT or ACT or both or none.\n",
    "\n",
    "At the national level, each state only provide a pair of data in percentages. Similarly, we do not know the population size of each state. For example, 80 percent of 100,000 students in one state can have more impact than 100 percent of 50,000 students in another.\n",
    "\n",
    "Without more detailed breakdown in data, it is difficult to understand the relationship between SAT and ACT participation rates in 2017."
   ]
  },
  {
   "cell_type": "markdown",
   "metadata": {},
   "source": [
    "##### Is it appropriate to compare *these* specific SAT and ACT math scores  - can we say students with higher SAT math score is better than those with lower ACT math score, or vice versa?\n",
    "\n",
    "Why or why not?"
   ]
  },
  {
   "cell_type": "markdown",
   "metadata": {},
   "source": [
    "---\n",
    "Answer:\n",
    "\n",
    "The histograms and boxplots for both SAT and ACT math scores suggest shows similar distributions nation wide.\n",
    "There is no significantly higher percentage of higher-than-median scorers between the two tests, which might suggest that one test might be easier to score than the other.\n",
    "\n",
    "However, based on the heat map data, states with higher SAT scores tend to have lower SAT participation rates, and vice versa. This applies to ACT as well. A state's ACT participation rates is negatively correlated with its SAT participation rate.\n",
    "With this difference in participation rates, it is difficult at the state level to compare students of math scores from one test against other students with math scores from the other test.\n",
    "\n",
    "Therefore, it is not appropriate to compare these scores."
   ]
  },
  {
   "cell_type": "markdown",
   "metadata": {},
   "source": [
    "#### Statistical Evaluation of Distributions \n",
    "\n",
    "**If you feel it's appropriate**, using methods we discussed in class, run hypothesis tests to compare variables of interest in our dataset. "
   ]
  },
  {
   "cell_type": "markdown",
   "metadata": {},
   "source": [
    "## Outside Research"
   ]
  },
  {
   "cell_type": "markdown",
   "metadata": {},
   "source": [
    "Based upon your observations, choose **three** states that demonstrate interesting trends in their SAT and/or ACT participation rates. Spend some time doing outside research on state policies that might influence these rates, and summarize your findings below. **Feel free to go back and create new plots that highlight these states of interest**. If you bring in any outside tables or charts, make sure you are explicit about having borrowed them. If you quote any text, make sure that it renders as being quoted. (Make sure that you cite your sources -- check with you local instructor for citation preferences)."
   ]
  },
  {
   "cell_type": "markdown",
   "metadata": {},
   "source": [
    "---\n",
    "**Colorado** saw a spike in SAT participation rates and a huge drop in ACT participation rates between the two years.\n",
    "Based on external research, this is a result of a testing reform legislation ([1]) that ended up with a partnership between Colorado and the College Board to make SAT the state's mandatory accountability exam ([2]). Prior to this, ACT was Colorado's requirement for every high school junior since 2001 ([3]). This formal switch from SAT to ACT has contributed to the decrease in ACT participation rates.\n",
    "\n",
    "Changes in **Illinois'** participation rates in both SAT and ACT are similar to Colorado. Another area in which they are similar is that it has implemented ACT as its state-wide assessment program since 2001. However, the contract with ACT expired in 2016, opening up a new contract bid ([4]). After evaluation by a panel of educators and other officials, SAT was deemed as \"better aligned with standards for what students should know in Illinois\" and won the bid. Hence, there is a sudden increase in SAT participation rates. The drop in ACT, however, is not as much as Colorado's. This may be attributed to \"midwestern colleges - including most Illinois colleges - look for the ACT\" ([5]), according to the opinions of the time.\n",
    "\n",
    "\n",
    "**Ohio** is interesting as it has the highest increase in ACT participation rates (25%) and yet also saw an increase in participation rates for SAT, albeit much smaller at 6%. Once again, it is observed that this change is driven by policy. High schools are required give their students either ACT or SAT. [6]\n",
    "Ohio, like Illinois, is also a midwestern state, which might explain the preference for ACT.\n",
    "\n",
    "---\n",
    "During the course of  conducting these outside research, we discover other factors or perspectives which are helpful or harmful to increasing participation rates. They are:\n",
    "\n",
    "**FOR**\n",
    "- SAT's new format from 2016 is considered more attractive as it\n",
    "    - removed penalties for guessing ([7])\n",
    "    - is assessed to be aligned to Common Core standards in English and Math ([3])\n",
    "    - measures the skills and knowledge that has been empirically shown to indicate readiness for jobs or higher education ([3])\n",
    "- College Board’s reporting system helps students plan their education needs via additional access to additional resources and activities ([3])\n",
    "- College Board's partnership with Khan Academy to provide free, personalized test preparation for any student with computer access, therefore helping students from lower-income families ([3])\n",
    "- SAT is generally considered more more reason-based and focuses more on critical thinking, while the ACT is regarded as more of a fact-recall test ([1])\n",
    "- SAT School Day testing that enables students to take the SAT on a school day, generally for free, granting more accessibility to more students ([8])\n",
    "\n",
    "**AGAINST**\n",
    "\n",
    "- SAT is generally regarded as more accepted by colleges on the East and West coasts while midwestern colleges prefers the ACT. ([5])\n",
    "- Certain states may have a long history of using ACT and therefore might value the data accumulated over time ([1])\n",
    "- Test-optional movement, where colleges do not consider neither ACT nor SAT scores for admission, is gaining traction ([8])\n",
    "\n",
    "---\n",
    "\n",
    "From the states identified, it appears that state policy is the main driving factor that will influence participation rates.\n",
    "\n",
    "Additional data is sourced from Testive ([9]) This data will be helpful to making a decision on which state to focus on to raise participation rates.\n",
    "\n",
    "**References**\n",
    "1. Gorski, E. ( December 23, 2015) Goodbye ACT, hello SAT: a significant change for Colorado high schoolers. Retrieved from https://chalkbeat.org/posts/co/2015/12/23/goodbye-act-hello-sat-a-significant-change-for-colorado-high-schoolers/\n",
    "2. Wheeler, D. (January 8, 2017) Colorado Changed to the SAT in 2017: What You Need to Know. Retrieved from https://www.testive.com/colorado-sat-change-2017/\n",
    "3. (January 2016) Colorado’s Switch from ACT to SAT Retrieved from https://www.coloradokids.org/wp-content/uploads/2016/01/ACTvsSAT_FINAL.pdf\n",
    "4. Rado, D. (February 11, 2016) Illinois moves ahead with new testing plan, replacing ACT with SAT. Retrieved from https://www.chicagotribune.com/news/ct-illinois-chooses-sat-met-20160211-story.html\n",
    "5. Wolf, T. (December 21, 2015) Illinois switching from ACT, will give students SAT instead. Retrieved from https://www.bnd.com/news/local/article50939170.html\n",
    "6. Gilchrist, S. (February 28, 2017) Ohio schools must now give ACT or SAT to all juniors. Retrieved from https://www.dispatch.com/news/20170228/ohio-schools-must-now-give-act-or-sat-to-all-juniors\n",
    "7. Safier, R. (March 19, 2016) New SAT Format: What It Means for You. Retrieved from https://blog.prepscholar.com/new-sat-format-2016\n",
    "8. Anderson , N. (September 24, 2019) SAT scores drop for s2019 class, but participation rises through testing in schools. Retrieved from https://www.washingtonpost.com/local/education/sat-scores-drop-for-2019-class-but-participation-rises-through-testing-in-schools/2019/09/23/332fc4d0-de11-11e9-8dc8-498eabc129a0_story.html\n",
    "9. March, K. (May 3, 2018) Does your state require the SAT or ACT? Retrieved from https://www.testive.com/state-sat-act/\n",
    "\n",
    "[1]:https://chalkbeat.org/posts/co/2015/12/23/goodbye-act-hello-sat-a-significant-change-for-colorado-high-schoolers/\n",
    "[2]:https://www.testive.com/colorado-sat-change-2017/\n",
    "[3]:https://www.coloradokids.org/wp-content/uploads/2016/01/ACTvsSAT_FINAL.pdf\n",
    "[4]:https://www.chicagotribune.com/news/ct-illinois-chooses-sat-met-20160211-story.html\n",
    "[5]:https://www.bnd.com/news/local/article50939170.html\n",
    "[6]:https://www.dispatch.com/news/20170228/ohio-schools-must-now-give-act-or-sat-to-all-juniors\n",
    "[7]:https://blog.prepscholar.com/new-sat-format-2016\n",
    "[8]:https://www.washingtonpost.com/local/education/sat-scores-drop-for-2019-class-but-participation-rises-through-testing-in-schools/2019/09/23/332fc4d0-de11-11e9-8dc8-498eabc129a0_story.html\n",
    "[9]:https://www.testive.com/state-sat-act/"
   ]
  },
  {
   "cell_type": "code",
   "execution_count": 350,
   "metadata": {},
   "outputs": [],
   "source": [
    "# import new data source\n",
    "df_state_req = pd.read_csv('../data/state_requirements_2018.csv')"
   ]
  },
  {
   "cell_type": "code",
   "execution_count": 351,
   "metadata": {},
   "outputs": [],
   "source": [
    "df_state_req['sat_reqd'] = df_state_req['sat_reqd'].map({0:False, 1:True})\n",
    "df_state_req['act_reqd'] = df_state_req['act_reqd'].map({0:False, 1:True})"
   ]
  },
  {
   "cell_type": "code",
   "execution_count": 352,
   "metadata": {},
   "outputs": [],
   "source": [
    "# Merge with new data\n",
    "df_final = pd.merge(df_final, df_state_req, how='left')"
   ]
  },
  {
   "cell_type": "markdown",
   "metadata": {},
   "source": [
    "## Conclusions and Recommendations"
   ]
  },
  {
   "cell_type": "markdown",
   "metadata": {},
   "source": [
    "Based on your exploration of the data, what are your key takeaways and recommendations? Choose one state with a lower participation rate and provide a suggestion for how the College Board might increase participation amongst graduating seniors in this state. Are there additional data you desire that would better inform your investigations?"
   ]
  },
  {
   "cell_type": "code",
   "execution_count": 251,
   "metadata": {},
   "outputs": [],
   "source": [
    "# Define columns to included only Participation rates and State requirements\n",
    "cols = list([col for col in df_final.columns if (('partn' in col)&('18' in col))|('reqd' in col)|('state' in col)])"
   ]
  },
  {
   "cell_type": "code",
   "execution_count": 252,
   "metadata": {},
   "outputs": [
    {
     "data": {
      "text/html": [
       "<div>\n",
       "<style scoped>\n",
       "    .dataframe tbody tr th:only-of-type {\n",
       "        vertical-align: middle;\n",
       "    }\n",
       "\n",
       "    .dataframe tbody tr th {\n",
       "        vertical-align: top;\n",
       "    }\n",
       "\n",
       "    .dataframe thead th {\n",
       "        text-align: right;\n",
       "    }\n",
       "</style>\n",
       "<table border=\"1\" class=\"dataframe\">\n",
       "  <thead>\n",
       "    <tr style=\"text-align: right;\">\n",
       "      <th></th>\n",
       "      <th>state</th>\n",
       "      <th>sat18_partn</th>\n",
       "      <th>act18_partn</th>\n",
       "      <th>sat_reqd</th>\n",
       "      <th>act_reqd</th>\n",
       "    </tr>\n",
       "  </thead>\n",
       "  <tbody>\n",
       "    <tr>\n",
       "      <th>34</th>\n",
       "      <td>North Dakota</td>\n",
       "      <td>2.0</td>\n",
       "      <td>98.0</td>\n",
       "      <td>False</td>\n",
       "      <td>True</td>\n",
       "    </tr>\n",
       "    <tr>\n",
       "      <th>50</th>\n",
       "      <td>Wyoming</td>\n",
       "      <td>3.0</td>\n",
       "      <td>100.0</td>\n",
       "      <td>False</td>\n",
       "      <td>True</td>\n",
       "    </tr>\n",
       "    <tr>\n",
       "      <th>41</th>\n",
       "      <td>South Dakota</td>\n",
       "      <td>3.0</td>\n",
       "      <td>77.0</td>\n",
       "      <td>False</td>\n",
       "      <td>False</td>\n",
       "    </tr>\n",
       "    <tr>\n",
       "      <th>27</th>\n",
       "      <td>Nebraska</td>\n",
       "      <td>3.0</td>\n",
       "      <td>100.0</td>\n",
       "      <td>False</td>\n",
       "      <td>True</td>\n",
       "    </tr>\n",
       "    <tr>\n",
       "      <th>49</th>\n",
       "      <td>Wisconsin</td>\n",
       "      <td>3.0</td>\n",
       "      <td>100.0</td>\n",
       "      <td>False</td>\n",
       "      <td>True</td>\n",
       "    </tr>\n",
       "    <tr>\n",
       "      <th>24</th>\n",
       "      <td>Mississippi</td>\n",
       "      <td>3.0</td>\n",
       "      <td>100.0</td>\n",
       "      <td>False</td>\n",
       "      <td>True</td>\n",
       "    </tr>\n",
       "    <tr>\n",
       "      <th>15</th>\n",
       "      <td>Iowa</td>\n",
       "      <td>3.0</td>\n",
       "      <td>68.0</td>\n",
       "      <td>False</td>\n",
       "      <td>False</td>\n",
       "    </tr>\n",
       "    <tr>\n",
       "      <th>44</th>\n",
       "      <td>Utah</td>\n",
       "      <td>4.0</td>\n",
       "      <td>100.0</td>\n",
       "      <td>False</td>\n",
       "      <td>True</td>\n",
       "    </tr>\n",
       "    <tr>\n",
       "      <th>23</th>\n",
       "      <td>Minnesota</td>\n",
       "      <td>4.0</td>\n",
       "      <td>99.0</td>\n",
       "      <td>False</td>\n",
       "      <td>False</td>\n",
       "    </tr>\n",
       "    <tr>\n",
       "      <th>18</th>\n",
       "      <td>Louisiana</td>\n",
       "      <td>4.0</td>\n",
       "      <td>100.0</td>\n",
       "      <td>False</td>\n",
       "      <td>True</td>\n",
       "    </tr>\n",
       "  </tbody>\n",
       "</table>\n",
       "</div>"
      ],
      "text/plain": [
       "           state  sat18_partn  act18_partn  sat_reqd  act_reqd\n",
       "34  North Dakota          2.0         98.0     False      True\n",
       "50       Wyoming          3.0        100.0     False      True\n",
       "41  South Dakota          3.0         77.0     False     False\n",
       "27      Nebraska          3.0        100.0     False      True\n",
       "49     Wisconsin          3.0        100.0     False      True\n",
       "24   Mississippi          3.0        100.0     False      True\n",
       "15          Iowa          3.0         68.0     False     False\n",
       "44          Utah          4.0        100.0     False      True\n",
       "23     Minnesota          4.0         99.0     False     False\n",
       "18     Louisiana          4.0        100.0     False      True"
      ]
     },
     "execution_count": 252,
     "metadata": {},
     "output_type": "execute_result"
    }
   ],
   "source": [
    "# List participations rates and State requirements\n",
    "df_final[cols].sort_values('sat18_partn').head(10)"
   ]
  },
  {
   "cell_type": "markdown",
   "metadata": {},
   "source": [
    "Based on the provided data, we were able to derive the inverse relationships between the participation rates of the two tests, between each test's participation rates and its scores and also between each test's change in participation rates and its change in scores. However, the mean scores are more likely to be resultant of participant rates rather than being influencing factors. One key takeaway is that states usually prefer one test over another and are likely to focus more on one test only.\n",
    "\n",
    "Further research indicates that state policy is the decisive factor that impacts participation rates. From the examples of Colorado and Illinois, the shift of state wide testing from ACT to SAT as mandated by each state's Department of Education proved to be the decisive factor that drastically raised SAT participation rates.\n",
    "\n",
    "Based on the table above, amongst the states with the lowest SAT participation rates, **South Dakota** does not make either SAT or ACT mandatory for its high school students, though it still has rather high ACT participation rates. This can be attributed to its geographical location, being also a mid-western state. The attitudes in the region seem to lean more towards using ACT tests score for college admission.\n",
    "\n",
    "However, Illinois is also a mid-western state, yet it switched over from ACT to SAT after evaluating SAT's merits. Therefore, it is recommended that the College Board invest money into South Dakota to inform their students and educators the merits of SAT, such as the revamped format, its supporting programmes such as its reporting system, the free test preparation partnership with Khan Academy and propose its SAT School day that opens up accessibility to college to lower income families. This advocacy can also be extended to South Dakota colleges. As the main driving reason for these tests is for college admission, convincing colleges in this region to be receptive of considering SAT scores will also be helpful.\n",
    "\n",
    "One broad area to be cautious of, however, is the test-optional movement. Colleges are increasingly dropping both SAT or ACT scores from their admission evaluation, claiming that these scores do not necessarily accurately predict student success. Therefore, more studies need to be conducted to verify these claims. The College Board was able to improve national participation rates by making its format relevant or coming up with student-centric programmes that brings value to the students. Therefore, it is also important to identify areas which can bring value to colleges that uses SAT scores for admission. This will ensure relevancy and keep SAT participation rates high."
   ]
  }
 ],
 "metadata": {
  "anaconda-cloud": {},
  "kernelspec": {
   "display_name": "Python 3",
   "language": "python",
   "name": "python3"
  },
  "language_info": {
   "codemirror_mode": {
    "name": "ipython",
    "version": 3
   },
   "file_extension": ".py",
   "mimetype": "text/x-python",
   "name": "python",
   "nbconvert_exporter": "python",
   "pygments_lexer": "ipython3",
   "version": "3.7.6"
  },
  "varInspector": {
   "cols": {
    "lenName": 16,
    "lenType": 16,
    "lenVar": 40
   },
   "kernels_config": {
    "python": {
     "delete_cmd_postfix": "",
     "delete_cmd_prefix": "del ",
     "library": "var_list.py",
     "varRefreshCmd": "print(var_dic_list())"
    },
    "r": {
     "delete_cmd_postfix": ") ",
     "delete_cmd_prefix": "rm(",
     "library": "var_list.r",
     "varRefreshCmd": "cat(var_dic_list()) "
    }
   },
   "types_to_exclude": [
    "module",
    "function",
    "builtin_function_or_method",
    "instance",
    "_Feature"
   ],
   "window_display": false
  }
 },
 "nbformat": 4,
 "nbformat_minor": 2
}
